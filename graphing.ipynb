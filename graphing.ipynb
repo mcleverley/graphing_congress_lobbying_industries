{
 "cells": [
  {
   "cell_type": "markdown",
   "metadata": {
    "toc": true
   },
   "source": [
    "<h1>Table of Contents<span class=\"tocSkip\"></span></h1>\n",
    "<div class=\"toc\"><ul class=\"toc-item\"><li><span><a href=\"#Plan\" data-toc-modified-id=\"Plan-1\"><span class=\"toc-item-num\">1&nbsp;&nbsp;</span>Plan</a></span></li><li><span><a href=\"#Load-&amp;-prepare-data\" data-toc-modified-id=\"Load-&amp;-prepare-data-2\"><span class=\"toc-item-num\">2&nbsp;&nbsp;</span>Load &amp; prepare data</a></span></li><li><span><a href=\"#Create-graph,-populate-with-nodes-&amp;-edges\" data-toc-modified-id=\"Create-graph,-populate-with-nodes-&amp;-edges-3\"><span class=\"toc-item-num\">3&nbsp;&nbsp;</span>Create graph, populate with nodes &amp; edges</a></span></li><li><span><a href=\"#Graph-created-&amp;-geoff'd-for-easy-imports\" data-toc-modified-id=\"Graph-created-&amp;-geoff'd-for-easy-imports-4\"><span class=\"toc-item-num\">4&nbsp;&nbsp;</span>Graph created &amp; geoff'd for easy imports</a></span></li><li><span><a href=\"#Next-steps:\" data-toc-modified-id=\"Next-steps:-5\"><span class=\"toc-item-num\">5&nbsp;&nbsp;</span>Next steps:</a></span></li><li><span><a href=\"#hosted-it-in-neo4j.-let's-explore-some-queries\" data-toc-modified-id=\"hosted-it-in-neo4j.-let's-explore-some-queries-6\"><span class=\"toc-item-num\">6&nbsp;&nbsp;</span>hosted it in neo4j. let's explore some queries</a></span></li></ul></div>"
   ]
  },
  {
   "cell_type": "code",
   "execution_count": 39,
   "metadata": {},
   "outputs": [
    {
     "name": "stderr",
     "output_type": "stream",
     "text": [
      "UsageError: Line magic function `%matploblib` not found.\n"
     ]
    }
   ],
   "source": [
    "import networkx as nx\n",
    "import pandas as pd\n",
    "import selenium\n",
    "import random\n",
    "import time\n",
    "import os\n",
    "import io\n",
    "import json \n",
    "import pickle\n",
    "import requests\n",
    "import xmltodict\n",
    "import pprint\n",
    "import json\n",
    "import config\n",
    "import matplotlib.pyplot as plt\n",
    "import seaborn as sns\n",
    "%matploblib inline\n",
    "\n",
    "import neo4j\n",
    "import neonx # fancy\n",
    "\n",
    "import xml.etree.ElementTree as ET\n",
    "from io import StringIO\n",
    "from selenium import webdriver \n",
    "from selenium.webdriver.common.by import By \n",
    "from selenium.webdriver.support.ui import WebDriverWait \n",
    "from selenium.webdriver.support import expected_conditions as EC \n",
    "from selenium.common.exceptions import TimeoutException"
   ]
  },
  {
   "cell_type": "code",
   "execution_count": 40,
   "metadata": {},
   "outputs": [],
   "source": [
    "def pickle_obj(obj, filename): # designed with list of strings in mind\n",
    "    urls = open(filename,\"w+\")\n",
    "    with open(filename, 'wb') as f:\n",
    "        pickle.dump(obj, f)\n",
    "def unpickle_obj(filename):\n",
    "    with open(filename, 'rb') as f:\n",
    "        return pickle.load(f)\n",
    "\n",
    "def add_industry_nodes(G, industries): # pass graph, list of industries\n",
    "    for industry in industries:\n",
    "        G.add_node(str(industry), size=0)\n",
    "        print(type(industry), type(G.node[industry]))\n",
    "    return G # returns modified graph"
   ]
  },
  {
   "cell_type": "markdown",
   "metadata": {},
   "source": [
    "# Plan\n",
    "- load congressmember industry data\n",
    "    - create graph using networkx\n",
    "        - create nodes, edges in graph using data\n",
    "            - convert to geoff string for use in Gephi"
   ]
  },
  {
   "cell_type": "markdown",
   "metadata": {},
   "source": [
    "# Load & prepare data"
   ]
  },
  {
   "cell_type": "code",
   "execution_count": 41,
   "metadata": {},
   "outputs": [],
   "source": [
    "def pickle_obj(obj, filename): # designed with list of strings in mind\n",
    "    urls = open(filename,\"w+\")\n",
    "    with open(filename, 'wb') as f:\n",
    "        pickle.dump(obj, f)\n",
    "def unpickle_obj(filename):\n",
    "    with open(filename, 'rb') as f:\n",
    "        return pickle.load(f)"
   ]
  },
  {
   "cell_type": "code",
   "execution_count": 42,
   "metadata": {},
   "outputs": [],
   "source": [
    "with open('next_400', 'rb') as f: # i should probably just know the syntax\n",
    "    mems = pickle.load(f) # is the time saving method worth the lack of knowledge? the eternal question"
   ]
  },
  {
   "cell_type": "code",
   "execution_count": 16,
   "metadata": {
    "scrolled": true
   },
   "outputs": [
    {
     "data": {
      "text/plain": [
       "{'name': 'Alma Adams (D)',\n",
       " 'party': 'D',\n",
       " 'id': 'N00035451',\n",
       " 'Public Sector Unions': {'code': 'P04',\n",
       "  'name': 'Public Sector Unions',\n",
       "  'indiv': '0',\n",
       "  'pac': '44500',\n",
       "  'total': '44500'},\n",
       " 'Industrial Unions': {'code': 'P02',\n",
       "  'name': 'Industrial Unions',\n",
       "  'indiv': '0',\n",
       "  'pac': '41000',\n",
       "  'total': '41000'},\n",
       " 'Building Trade Unions': {'code': 'P01',\n",
       "  'name': 'Building Trade Unions',\n",
       "  'indiv': '0',\n",
       "  'pac': '32500',\n",
       "  'total': '32500'},\n",
       " 'Health Professionals': {'code': 'H01',\n",
       "  'name': 'Health Professionals',\n",
       "  'indiv': '11880',\n",
       "  'pac': '18000',\n",
       "  'total': '29880'},\n",
       " 'Insurance': {'code': 'F09',\n",
       "  'name': 'Insurance',\n",
       "  'indiv': '0',\n",
       "  'pac': '23000',\n",
       "  'total': '23000'},\n",
       " 'Securities & Investment': {'code': 'F07',\n",
       "  'name': 'Securities & Investment',\n",
       "  'indiv': '0',\n",
       "  'pac': '22500',\n",
       "  'total': '22500'},\n",
       " 'Leadership PACs': {'code': 'Q03',\n",
       "  'name': 'Leadership PACs',\n",
       "  'indiv': '0',\n",
       "  'pac': '19000',\n",
       "  'total': '19000'},\n",
       " 'Lawyers/Law Firms': {'code': 'K01',\n",
       "  'name': 'Lawyers/Law Firms',\n",
       "  'indiv': '5251',\n",
       "  'pac': '13500',\n",
       "  'total': '18751'},\n",
       " 'Electric Utilities': {'code': 'E08',\n",
       "  'name': 'Electric Utilities',\n",
       "  'indiv': '0',\n",
       "  'pac': '18500',\n",
       "  'total': '18500'},\n",
       " 'Crop Production & Basic Processing': {'code': 'A01',\n",
       "  'name': 'Crop Production & Basic Processing',\n",
       "  'indiv': '0',\n",
       "  'pac': '18000',\n",
       "  'total': '18000'}}"
      ]
     },
     "execution_count": 16,
     "metadata": {},
     "output_type": "execute_result"
    }
   ],
   "source": [
    "mems[0][1] # list of dictionaries"
   ]
  },
  {
   "cell_type": "markdown",
   "metadata": {},
   "source": [
    "# Create graph, populate with nodes & edges"
   ]
  },
  {
   "cell_type": "code",
   "execution_count": 56,
   "metadata": {},
   "outputs": [],
   "source": [
    "def get_industries(mems): # pass list-list-dict-dict data\n",
    "    industries = [] # returns list of unique industries\n",
    "    for chamber in mems: # this is awfully nested\n",
    "        for member in chamber: # dict\n",
    "            for k, v in member.items():\n",
    "                if k!='party' and k!='name' and k!='id':\n",
    "                    if k not in industries:\n",
    "                        industries.append(k)\n",
    "    return industries\n",
    "\n",
    "def add_industry_nodes(G, industries): # pass graph, list of industries\n",
    "    for industry in industries:\n",
    "        G.add_node(str(industry), size=0, ind=industry)\n",
    "        print(type(industry), type(G.node[industry]))\n",
    "    return G # returns modified graph"
   ]
  },
  {
   "cell_type": "code",
   "execution_count": 57,
   "metadata": {
    "scrolled": true
   },
   "outputs": [
    {
     "name": "stdout",
     "output_type": "stream",
     "text": [
      "<class 'str'> <class 'dict'>\n",
      "<class 'str'> <class 'dict'>\n",
      "<class 'str'> <class 'dict'>\n",
      "<class 'str'> <class 'dict'>\n",
      "<class 'str'> <class 'dict'>\n",
      "<class 'str'> <class 'dict'>\n",
      "<class 'str'> <class 'dict'>\n",
      "<class 'str'> <class 'dict'>\n",
      "<class 'str'> <class 'dict'>\n",
      "<class 'str'> <class 'dict'>\n",
      "<class 'str'> <class 'dict'>\n",
      "<class 'str'> <class 'dict'>\n",
      "<class 'str'> <class 'dict'>\n",
      "<class 'str'> <class 'dict'>\n",
      "<class 'str'> <class 'dict'>\n",
      "<class 'str'> <class 'dict'>\n",
      "<class 'str'> <class 'dict'>\n",
      "<class 'str'> <class 'dict'>\n",
      "<class 'str'> <class 'dict'>\n",
      "<class 'str'> <class 'dict'>\n",
      "<class 'str'> <class 'dict'>\n",
      "<class 'str'> <class 'dict'>\n",
      "<class 'str'> <class 'dict'>\n",
      "<class 'str'> <class 'dict'>\n",
      "<class 'str'> <class 'dict'>\n",
      "<class 'str'> <class 'dict'>\n",
      "<class 'str'> <class 'dict'>\n",
      "<class 'str'> <class 'dict'>\n",
      "<class 'str'> <class 'dict'>\n",
      "<class 'str'> <class 'dict'>\n",
      "<class 'str'> <class 'dict'>\n",
      "<class 'str'> <class 'dict'>\n",
      "<class 'str'> <class 'dict'>\n",
      "<class 'str'> <class 'dict'>\n",
      "<class 'str'> <class 'dict'>\n",
      "<class 'str'> <class 'dict'>\n",
      "<class 'str'> <class 'dict'>\n",
      "<class 'str'> <class 'dict'>\n",
      "<class 'str'> <class 'dict'>\n",
      "<class 'str'> <class 'dict'>\n",
      "<class 'str'> <class 'dict'>\n",
      "<class 'str'> <class 'dict'>\n",
      "<class 'str'> <class 'dict'>\n",
      "<class 'str'> <class 'dict'>\n",
      "<class 'str'> <class 'dict'>\n",
      "<class 'str'> <class 'dict'>\n",
      "<class 'str'> <class 'dict'>\n",
      "<class 'str'> <class 'dict'>\n",
      "<class 'str'> <class 'dict'>\n",
      "<class 'str'> <class 'dict'>\n",
      "<class 'str'> <class 'dict'>\n",
      "<class 'str'> <class 'dict'>\n",
      "<class 'str'> <class 'dict'>\n",
      "<class 'str'> <class 'dict'>\n",
      "<class 'str'> <class 'dict'>\n",
      "<class 'str'> <class 'dict'>\n",
      "<class 'str'> <class 'dict'>\n",
      "<class 'str'> <class 'dict'>\n",
      "<class 'str'> <class 'dict'>\n",
      "<class 'str'> <class 'dict'>\n",
      "<class 'str'> <class 'dict'>\n",
      "<class 'str'> <class 'dict'>\n",
      "<class 'str'> <class 'dict'>\n",
      "<class 'str'> <class 'dict'>\n",
      "<class 'str'> <class 'dict'>\n",
      "<class 'str'> <class 'dict'>\n",
      "<class 'str'> <class 'dict'>\n",
      "<class 'str'> <class 'dict'>\n",
      "<class 'str'> <class 'dict'>\n",
      "<class 'str'> <class 'dict'>\n",
      "<class 'str'> <class 'dict'>\n",
      "<class 'str'> <class 'dict'>\n",
      "<class 'str'> <class 'dict'>\n",
      "<class 'str'> <class 'dict'>\n",
      "<class 'str'> <class 'dict'>\n",
      "<class 'str'> <class 'dict'>\n"
     ]
    },
    {
     "data": {
      "text/plain": [
       "NodeView(('Health Professionals', 'Crop Production & Basic Processing', 'Agricultural Services/Products', 'General Contractors', 'Air Transport', 'Leadership PACs', 'Defense Aerospace', 'Health Services/HMOs', 'Oil & Gas', 'Hospitals/Nursing Homes', 'Public Sector Unions', 'Industrial Unions', 'Building Trade Unions', 'Insurance', 'Securities & Investment', 'Lawyers/Law Firms', 'Electric Utilities', 'Misc Defense', 'Misc Manufacturing & Distributing', 'Food Processing & Sales', 'Defense Electronics', 'Lobbyists', 'Commercial Banks', 'Retired', 'Real Estate', 'Education', 'Pharmaceuticals/Health Products', 'Forestry & Forest Products', 'Democratic/Liberal', 'Misc Finance', 'Business Services', 'Non-Profit Institutions', 'Republican/Conservative', 'Retail Sales', 'Casinos/Gambling', 'Mining', 'Livestock', 'Automotive', \"Women's Issues\", 'Printing & Publishing', 'Chemical & Related Manufacturing', 'Construction Services', 'Candidate Committees', 'Home Builders', 'Transportation Unions', 'TV/Movies/Music', 'Misc Issues', 'Finance/Credit Companies', 'Food & Beverage', 'Telecom Services', 'Electronics Mfg & Equip', 'Misc Business', 'Railroads', 'Pro-Israel', 'Building Materials & Equipment', 'Misc Energy', 'Civil Servants/Public Officials', 'Telephone Utilities', 'Lodging/Tourism', 'Sea Transport', 'Human Rights', 'Accountants', 'Misc Unions', 'Beer, Wine & Liquor', 'Dairy', 'Steel Production', 'Misc Services', 'Internet', 'Gun Rights', 'Special Trade Contractors', 'Trucking', 'Environment', 'Clergy & Religious Organizations', 'Abortion Policy/Anti-Abortion', 'Recreation/Live Entertainment', 'Foreign & Defense Policy'))"
      ]
     },
     "execution_count": 57,
     "metadata": {},
     "output_type": "execute_result"
    }
   ],
   "source": [
    "g = nx.Graph()\n",
    "industries = get_industries(mems)\n",
    "g = add_industry_nodes(g, industries)\n",
    "g.nodes()"
   ]
  },
  {
   "cell_type": "code",
   "execution_count": 77,
   "metadata": {},
   "outputs": [
    {
     "name": "stdout",
     "output_type": "stream",
     "text": [
      "Help on function add_node in module networkx.classes.graph:\n",
      "\n",
      "add_node(self, node_for_adding, **attr)\n",
      "    Add a single node `node_for_adding` and update node attributes.\n",
      "    \n",
      "    Parameters\n",
      "    ----------\n",
      "    node_for_adding : node\n",
      "        A node can be any hashable Python object except None.\n",
      "    attr : keyword arguments, optional\n",
      "        Set or change node attributes using key=value.\n",
      "    \n",
      "    See Also\n",
      "    --------\n",
      "    add_nodes_from\n",
      "    \n",
      "    Examples\n",
      "    --------\n",
      "    >>> G = nx.Graph()  # or DiGraph, MultiGraph, MultiDiGraph, etc\n",
      "    >>> G.add_node(1)\n",
      "    >>> G.add_node('Hello')\n",
      "    >>> K3 = nx.Graph([(0, 1), (1, 2), (2, 0)])\n",
      "    >>> G.add_node(K3)\n",
      "    >>> G.number_of_nodes()\n",
      "    3\n",
      "    \n",
      "    Use keywords set/change node attributes:\n",
      "    \n",
      "    >>> G.add_node(1, size=10)\n",
      "    >>> G.add_node(3, weight=0.4, UTM=('13S', 382871, 3972649))\n",
      "    \n",
      "    Notes\n",
      "    -----\n",
      "    A hashable object is one that can be used as a key in a Python\n",
      "    dictionary. This includes strings, numbers, tuples of strings\n",
      "    and numbers, etc.\n",
      "    \n",
      "    On many platforms hashable items also include mutables such as\n",
      "    NetworkX Graphs, though one should be careful that the hash\n",
      "    doesn't change on mutables.\n",
      "\n"
     ]
    }
   ],
   "source": [
    "help(nx.Graph.add_node)"
   ]
  },
  {
   "cell_type": "code",
   "execution_count": 58,
   "metadata": {},
   "outputs": [],
   "source": [
    "def populate_graph(G, mems, industries): # add member nodes + edges\n",
    "    edges = []\n",
    "    ec=0\n",
    "    for chamber in mems:\n",
    "        for c, member in enumerate(chamber):\n",
    "            if len(member)!=0:\n",
    "                try:\n",
    "                    mem_node = G.add_node(member['name'], size=0)\n",
    "                    total_mem_size = 0\n",
    "                    print(c)\n",
    "                    for k, v in member.items():\n",
    "                        if k!='party' and k!='name' and k!='id': # industry dict\n",
    "                            G.add_edge(member['name'], v['name'], weight=v['total'])\n",
    "#                             G[member['name']][v['name']]['party'] = member['party']\n",
    "                            total_mem_size += int(v['total']) # update member's total bribery $\n",
    "                            G.node[v['name']]['size'] += int(v['total']) # update industry's total bribery $\n",
    "                    G.node[member['name']]['size'] = total_mem_size # reassign mem_node size\n",
    "                    G.node[member['name']]['party'] = member['party']\n",
    "                    G.node[member['name']]['name'] = member['name'] # give a name property\n",
    "                except:\n",
    "                    ec+=1 # count errors to ensure data integrity\n",
    "    print(f'{ec} errors')\n",
    "    return G"
   ]
  },
  {
   "cell_type": "code",
   "execution_count": null,
   "metadata": {},
   "outputs": [],
   "source": []
  },
  {
   "cell_type": "code",
   "execution_count": 59,
   "metadata": {},
   "outputs": [
    {
     "name": "stdout",
     "output_type": "stream",
     "text": [
      "0\n",
      "1\n",
      "2\n",
      "3\n",
      "4\n",
      "5\n",
      "6\n",
      "7\n",
      "8\n",
      "9\n",
      "10\n",
      "11\n",
      "12\n",
      "13\n",
      "14\n",
      "15\n",
      "16\n",
      "17\n",
      "18\n",
      "19\n",
      "20\n",
      "21\n",
      "22\n",
      "23\n",
      "24\n",
      "25\n",
      "26\n",
      "27\n",
      "28\n",
      "29\n",
      "30\n",
      "31\n",
      "32\n",
      "33\n",
      "34\n",
      "35\n",
      "36\n",
      "37\n",
      "38\n",
      "39\n",
      "40\n",
      "41\n",
      "42\n",
      "43\n",
      "44\n",
      "45\n",
      "46\n",
      "47\n",
      "48\n",
      "49\n",
      "50\n",
      "51\n",
      "52\n",
      "53\n",
      "54\n",
      "55\n",
      "56\n",
      "57\n",
      "58\n",
      "59\n",
      "60\n",
      "61\n",
      "62\n",
      "63\n",
      "64\n",
      "65\n",
      "66\n",
      "67\n",
      "68\n",
      "69\n",
      "70\n",
      "71\n",
      "72\n",
      "73\n",
      "74\n",
      "75\n",
      "76\n",
      "77\n",
      "78\n",
      "79\n",
      "80\n",
      "81\n",
      "82\n",
      "83\n",
      "84\n",
      "85\n",
      "86\n",
      "87\n",
      "88\n",
      "89\n",
      "90\n",
      "91\n",
      "92\n",
      "93\n",
      "94\n",
      "95\n",
      "96\n",
      "97\n",
      "98\n",
      "99\n",
      "100\n",
      "101\n",
      "102\n",
      "103\n",
      "104\n",
      "105\n",
      "106\n",
      "107\n",
      "108\n",
      "109\n",
      "110\n",
      "111\n",
      "112\n",
      "113\n",
      "114\n",
      "115\n",
      "116\n",
      "117\n",
      "118\n",
      "119\n",
      "120\n",
      "121\n",
      "122\n",
      "123\n",
      "124\n",
      "125\n",
      "126\n",
      "127\n",
      "128\n",
      "129\n",
      "130\n",
      "131\n",
      "132\n",
      "133\n",
      "134\n",
      "135\n",
      "136\n",
      "137\n",
      "138\n",
      "139\n",
      "140\n",
      "141\n",
      "142\n",
      "143\n",
      "144\n",
      "145\n",
      "146\n",
      "147\n",
      "148\n",
      "149\n",
      "150\n",
      "151\n",
      "152\n",
      "153\n",
      "154\n",
      "155\n",
      "156\n",
      "157\n",
      "158\n",
      "159\n",
      "160\n",
      "161\n",
      "162\n",
      "163\n",
      "164\n",
      "165\n",
      "166\n",
      "167\n",
      "168\n",
      "169\n",
      "170\n",
      "171\n",
      "172\n",
      "173\n",
      "174\n",
      "175\n",
      "176\n",
      "177\n",
      "178\n",
      "179\n",
      "180\n",
      "181\n",
      "182\n",
      "183\n",
      "184\n",
      "185\n",
      "186\n",
      "187\n",
      "188\n",
      "189\n",
      "190\n",
      "191\n",
      "192\n",
      "193\n",
      "194\n",
      "195\n",
      "196\n",
      "197\n",
      "198\n",
      "199\n",
      "200\n",
      "201\n",
      "202\n",
      "203\n",
      "204\n",
      "205\n",
      "206\n",
      "207\n",
      "208\n",
      "209\n",
      "210\n",
      "211\n",
      "212\n",
      "213\n",
      "214\n",
      "215\n",
      "216\n",
      "217\n",
      "218\n",
      "219\n",
      "220\n",
      "221\n",
      "222\n",
      "223\n",
      "224\n",
      "225\n",
      "226\n",
      "227\n",
      "228\n",
      "229\n",
      "230\n",
      "231\n",
      "232\n",
      "233\n",
      "234\n",
      "235\n",
      "236\n",
      "237\n",
      "238\n",
      "239\n",
      "240\n",
      "241\n",
      "242\n",
      "243\n",
      "244\n",
      "245\n",
      "246\n",
      "247\n",
      "248\n",
      "249\n",
      "250\n",
      "251\n",
      "252\n",
      "253\n",
      "254\n",
      "255\n",
      "256\n",
      "257\n",
      "258\n",
      "259\n",
      "260\n",
      "261\n",
      "262\n",
      "263\n",
      "264\n",
      "265\n",
      "266\n",
      "267\n",
      "268\n",
      "269\n",
      "270\n",
      "271\n",
      "272\n",
      "273\n",
      "274\n",
      "275\n",
      "276\n",
      "277\n",
      "278\n",
      "279\n",
      "280\n",
      "281\n",
      "282\n",
      "283\n",
      "284\n",
      "285\n",
      "286\n",
      "287\n",
      "288\n",
      "289\n",
      "290\n",
      "291\n",
      "292\n",
      "293\n",
      "294\n",
      "295\n",
      "296\n",
      "297\n",
      "298\n",
      "299\n",
      "300\n",
      "301\n",
      "302\n",
      "303\n",
      "304\n",
      "305\n",
      "306\n",
      "307\n",
      "308\n",
      "309\n",
      "310\n",
      "311\n",
      "312\n",
      "313\n",
      "314\n",
      "315\n",
      "316\n",
      "317\n",
      "318\n",
      "319\n",
      "320\n",
      "321\n",
      "322\n",
      "323\n",
      "324\n",
      "325\n",
      "326\n",
      "327\n",
      "328\n",
      "329\n",
      "330\n",
      "331\n",
      "332\n",
      "333\n",
      "334\n",
      "335\n",
      "336\n",
      "337\n",
      "338\n",
      "339\n",
      "340\n",
      "341\n",
      "342\n",
      "343\n",
      "344\n",
      "345\n",
      "346\n",
      "347\n",
      "348\n",
      "349\n",
      "350\n",
      "351\n",
      "352\n",
      "353\n",
      "354\n",
      "355\n",
      "356\n",
      "357\n",
      "358\n",
      "359\n",
      "360\n",
      "361\n",
      "362\n",
      "363\n",
      "364\n",
      "365\n",
      "366\n",
      "367\n",
      "368\n",
      "369\n",
      "370\n",
      "371\n",
      "372\n",
      "373\n",
      "374\n",
      "375\n",
      "376\n",
      "377\n",
      "378\n",
      "379\n",
      "380\n",
      "381\n",
      "382\n",
      "383\n",
      "384\n",
      "385\n",
      "386\n",
      "387\n",
      "388\n",
      "389\n",
      "390\n",
      "391\n",
      "392\n",
      "393\n",
      "394\n",
      "395\n",
      "396\n",
      "0 errors\n"
     ]
    }
   ],
   "source": [
    "g = populate_graph(g, mems, industries)"
   ]
  },
  {
   "cell_type": "code",
   "execution_count": null,
   "metadata": {},
   "outputs": [],
   "source": []
  },
  {
   "cell_type": "code",
   "execution_count": 61,
   "metadata": {},
   "outputs": [
    {
     "data": {
      "text/plain": [
       "NodeView(('Health Professionals', 'Crop Production & Basic Processing', 'Agricultural Services/Products', 'General Contractors', 'Air Transport', 'Leadership PACs', 'Defense Aerospace', 'Health Services/HMOs', 'Oil & Gas', 'Hospitals/Nursing Homes', 'Public Sector Unions', 'Industrial Unions', 'Building Trade Unions', 'Insurance', 'Securities & Investment', 'Lawyers/Law Firms', 'Electric Utilities', 'Misc Defense', 'Misc Manufacturing & Distributing', 'Food Processing & Sales', 'Defense Electronics', 'Lobbyists', 'Commercial Banks', 'Retired', 'Real Estate', 'Education', 'Pharmaceuticals/Health Products', 'Forestry & Forest Products', 'Democratic/Liberal', 'Misc Finance', 'Business Services', 'Non-Profit Institutions', 'Republican/Conservative', 'Retail Sales', 'Casinos/Gambling', 'Mining', 'Livestock', 'Automotive', \"Women's Issues\", 'Printing & Publishing', 'Chemical & Related Manufacturing', 'Construction Services', 'Candidate Committees', 'Home Builders', 'Transportation Unions', 'TV/Movies/Music', 'Misc Issues', 'Finance/Credit Companies', 'Food & Beverage', 'Telecom Services', 'Electronics Mfg & Equip', 'Misc Business', 'Railroads', 'Pro-Israel', 'Building Materials & Equipment', 'Misc Energy', 'Civil Servants/Public Officials', 'Telephone Utilities', 'Lodging/Tourism', 'Sea Transport', 'Human Rights', 'Accountants', 'Misc Unions', 'Beer, Wine & Liquor', 'Dairy', 'Steel Production', 'Misc Services', 'Internet', 'Gun Rights', 'Special Trade Contractors', 'Trucking', 'Environment', 'Clergy & Religious Organizations', 'Abortion Policy/Anti-Abortion', 'Recreation/Live Entertainment', 'Foreign & Defense Policy', 'Ralph Abraham (R)', 'Alma Adams (D)', 'Robert B Aderholt (R)', 'Pete Aguilar (D)', 'Richard W Allen (R)', 'Colin Allred (D)', 'Justin Amash (R)', 'Mark Amodei (R)', 'Kelly Armstrong (R)', 'Jodey Arrington (R)', 'Cindy Axne (D)', 'Brian Babin (R)', 'Don Bacon (R)', 'Jim Baird (R)', 'Troy Balderson (R)', 'Jim Banks (R)', 'Andy Barr (R)', 'Nanette Barragan (D)', 'Karen Bass (D)', 'Joyce Beatty (D)', 'Ami Bera (D)', 'John Bergman (R)', 'Jaime Herrera Beutler (R)', 'Don Beyer (D)', 'Andy Biggs (R)', 'Gus Bilirakis (R)', 'Rob Bishop (R)', 'Sanford Bishop (D)', 'Earl Blumenauer (D)', 'Suzanne Bonamici (D)', 'Mike Bost (R)', 'Brendan Boyle (D)', 'Kevin Brady (R)', 'Anthony Brindisi (D)', 'Mo Brooks (R)', 'Susan Brooks (R)', 'Anthony Brown (D)', 'Julia Brownley (D)', 'Vernon Buchanan (R)', 'Kenneth R Buck (R)', 'Larry Bucshon (R)', 'Ted Budd (R)', 'Tim Burchett (R)', 'Michael Burgess (R)', 'Cheri Bustos (D)', 'G K Butterfield (D)', 'Bradley Byrne (R)', 'Ken Calvert (R)', 'Salud Carbajal (D)', 'Tony Cardenas (D)', 'Andre Carson (D)', 'Buddy Carter (R)', 'John Carter (R)', 'Matt Cartwright (D)', 'Ed Case (D)', 'Sean Casten (D)', 'Kathy Castor (D)', 'Joaquin Castro (D)', 'Steve Chabot (R)', 'Liz Cheney (R)', 'Judy Chu (D)', 'David Cicilline (D)', 'Gil Cisneros (D)', 'Katherine Clark (D)', 'Yvette D Clarke (D)', 'William L Clay Jr. (D)', 'Emanuel Cleaver (D)', 'Ben Cline (R)', 'Michael Cloud (R)', 'James E Clyburn (D)', 'Steve Cohen (D)', 'Tom Cole (R)', 'Bonnie Coleman (D)', 'Doug Collins (R)', 'James Comer (R)', 'Mike Conaway (R)', 'Gerry Connolly (D)', 'Paul Cook (R)', 'Jim Cooper (D)', 'Lou Correa (D)', 'Jim Costa (D)', 'Joe Courtney (D)', 'TJ Cox (D)', 'Angie Craig (D)', 'Rick Crawford (R)', 'Dan Crenshaw (R)', 'Charlie Crist (D)', 'Jason Crow (D)', 'Henry Cuellar (D)', 'Joe Cunningham (D)', 'John Curtis (R)', 'Sharice Davids (D)', 'Warren Davidson (R)', 'Danny K Davis (D)', 'Rodney Davis (R)', 'Susan A Davis (D)', 'Madeleine Dean (D)', 'Peter DeFazio (D)', 'Diana DeGette (D)', 'Rosa L DeLauro (D)', 'Suzan DelBene (D)', 'Antonio Delgado (D)', 'Val Demings (D)', 'Mark Desaulnier (D)', 'Scott Desjarlais (R)', 'Ted Deutch (D)', 'Mario Diaz-Balart (R)', 'Debbie Dingell (D)', 'Lloyd Doggett (D)', 'Mike Doyle (D)', 'Jeff Duncan (R)', 'Neal Dunn (R)', 'Tom Emmer (R)', 'Eliot L Engel (D)', 'Veronica Escobar (D)', 'Anna Eshoo (D)', 'Adriano Espaillat (D)', 'Ron Estes (R)', 'Dwight Evans (D)', 'Drew Ferguson (R)', 'Abby Finkenauer (D)', 'Brian Fitzpatrick (R)', 'Chuck Fleischmann (R)', 'Lizzie Fletcher (D)', 'Bill Flores (R)', 'Jeff Fortenberry (R)', 'Bill Foster (D)', 'Virginia Foxx (R)', 'Lois J Frankel (D)', 'Marcia L Fudge (D)', 'Russ Fulcher (R)', 'Tulsi Gabbard (D)', 'Matt Gaetz (R)', 'Mike Gallagher (R)', 'Ruben Gallego (D)', 'John Garamendi (D)', 'Jesus Garcia (D)', 'Sylvia Garcia (D)', 'Greg Gianforte (R)', 'Bob Gibbs (R)', 'Louis B Gohmert Jr. (R)', 'Jared Golden (D)', 'Jimmy Gomez (D)', 'Anthony Gonzalez (R)', 'Vicente Gonzalez (D)', 'Lance Gooden (R)', 'Paul Gosar (R)', 'Josh Gottheimer (D)', 'Kay Granger (R)', 'Garret Graves (R)', 'Sam Graves (R)', 'Tom Graves (R)', 'Al Green (D)', 'Mark Green (R)', 'Morgan Griffith (R)', 'Raul M Grijalva (D)', 'Glenn S Grothman (R)', 'Michael Guest (R)', 'Brett Guthrie (R)', 'Debra Haaland (D)', 'Jim Hagedorn (R)', 'Josh Harder (D)', 'Andy Harris (R)', 'Vicky Hartzler (R)', 'Alcee L Hastings (D)', 'Jahana Hayes (D)', 'Dennis Heck (D)', 'Kevin Hern (R)', 'Jody B Hice (R)', 'Brian M Higgins (D)', 'Clay Higgins (R)', 'French Hill (R)', 'Jim Himes (D)', 'George Holding (R)', 'Trey Hollingsworth (R)', 'Kendra Horn (D)', 'Steven Horsford (D)', 'Chrissy Houlahan (D)', 'Steny H Hoyer (D)', 'Richard Hudson (R)', 'Jared Huffman (D)', 'Bill Huizenga (R)', 'Will Hurd (R)', 'Sheila Jackson Lee (D)', 'Pramila Jayapal (D)', 'Hakeem Jeffries (D)', 'Bill Johnson (R)', 'Dusty Johnson (R)', 'Eddie Bernice Johnson (D)', 'Hank Johnson (D)', 'Mike Johnson (R)', 'Jim Jordan (R)', 'David P Joyce (R)', 'John Joyce (R)', 'Marcy Kaptur (D)', 'John Katko (R)', 'Bill Keating (D)', 'Mike Kelly (R)', 'Robin Kelly (D)', 'Trent Kelly (R)', 'Joe Kennedy III (D)', 'Ro Khanna (D)', 'Dan Kildee (D)', 'Derek Kilmer (D)', 'Andy Kim (D)', 'Ron Kind (D)', 'Pete King (R)', 'Steven A. King (R)', 'Adam Kinzinger (R)', 'Ann Kirkpatrick (D)', 'Raja Krishnamoorthi (D)', 'Ann Kuster (D)', 'David Kustoff (R)', 'Darin LaHood (R)', 'Doug LaMalfa (R)', 'Conor Lamb (D)', 'Douglas L Lamborn (R)', 'Jim Langevin (D)', 'Rick Larsen (D)', 'John B Larson (D)', 'Robert E Latta (R)', 'Brenda Lawrence (D)', 'Al Lawson (D)', 'Barbara Lee (D)', 'Susie Lee (D)', 'Debbie Lesko (R)', 'Andy Levin (D)', 'Mike Levin (D)', 'John Lewis (D)', 'Ted Lieu (D)', 'Daniel Lipinski (D)', 'David Loebsack (D)', 'Zoe Lofgren (D)', 'Billy Long (R)', 'Barry Loudermilk (R)', 'Alan Lowenthal (D)', 'Nita M Lowey (D)', 'Frank D Lucas (R)', 'Blaine Luetkemeyer (R)', 'Ben R Lujan (D)', 'Elaine Luria (D)', 'Stephen F Lynch (D)', 'Tom Malinowski (D)', 'Carolyn B Maloney (D)', 'Sean Patrick Maloney (D)', 'Kenny Marchant (R)', 'Roger Marshall (R)', 'Thomas Massie (R)', 'Brian Mast (R)', 'Doris O Matsui (D)', 'Ben McAdams (D)', 'Lucy McBath (D)', 'Kevin McCarthy (R)', 'Michael McCaul (R)', 'Tom McClintock (R)', 'Betty McCollum (D)', 'Donald McEachin (D)', 'James P McGovern (D)', 'Patrick McHenry (R)', 'David McKinley (R)', 'Jerry McNerney (D)', 'Mark R Meadows (R)', 'Gregory W Meeks (D)', 'Grace Meng (D)', 'Dan Meuser (R)', 'Carol Miller (R)', 'Paul Mitchell (R)', 'John Moolenaar (R)', 'Alex Mooney (R)', 'Gwen Moore (D)', 'Joseph D Morelle (D)', 'Seth Moulton (D)', 'Debbie Mucarsel-Powell (D)', 'Markwayne Mullin (R)', 'Stephanie Murphy (D)', 'Jerrold Nadler (D)', 'Grace Napolitano (D)', 'Richard E Neal (D)', 'Joseph Neguse (D)', 'Dan Newhouse (R)', 'Don Norcross (D)', 'Ralph Norman (R)', 'Devin Nunes (R)', \"Tom O'Halleran (D)\", 'Alexandria Ocasio-Cortez (D)', 'Pete Olson (R)', 'Ilhan Omar (D)', 'Steven Palazzo (R)', 'Frank Pallone Jr. (D)', 'Gary Palmer (R)', 'Jimmy Panetta (D)', 'Chris Pappas (D)', 'Bill Pascrell Jr. (D)', 'Donald M Payne Jr. (D)', 'Nancy Pelosi (D)', 'Greg Pence (R)', 'Ed Perlmutter (D)', 'Scott Perry (R)', 'Scott Peters (D)', 'Collin Peterson (D)', 'Dean Phillips (D)', 'Chellie Pingree (D)', 'Mark Pocan (D)', 'Katie Porter (D)', 'Bill Posey (R)', 'Ayanna Pressley (D)', 'David Price (D)', 'Mike Quigley (D)', 'Jamie Raskin (D)', 'John Lee Ratcliffe (R)', 'Tom Reed (R)', 'Guy Reschenthaler (R)', 'Kathleen Rice (D)', 'Tom Rice (R)', 'Cedric Richmond (D)', 'Denver Riggleman (R)', 'Martha Roby (R)', 'Lisa Blunt Rochester (D)', 'Cathy McMorris Rodgers (R)', 'Phil Roe (R)', 'Hal Rogers (R)', 'Mike D Rogers (R)', 'Francis Rooney (R)', 'John Rose (R)', 'Max Rose (D)', 'Harley Rouda (D)', 'David Rouzer (R)', 'Chip Roy (R)', 'Lucille Roybal-Allard (D)', 'Raul Ruiz (D)', 'Dutch Ruppersberger (D)', 'Bobby L Rush (D)', 'John Rutherford (R)', 'Tim Ryan (D)', 'Linda Sanchez (D)', 'John Sarbanes (D)', 'Steve Scalise (R)', 'Mary Gay Scanlon (D)', 'Jan Schakowsky (D)', 'Adam Schiff (D)', 'Brad Schneider (D)', 'Kurt Schrader (D)', 'Kim Schrier (D)', 'Debbie Wasserman Schultz (D)', 'David Schweikert (R)', 'Austin Scott (R)', 'Bobby Scott (D)', 'David Scott (D)', 'F James Sensenbrenner Jr. (R)', 'Jose E Serrano (D)', 'Terri A Sewell (D)', 'Donna Shalala (D)', 'Brad Sherman (D)', 'Mikie Sherrill (D)', 'John M Shimkus (R)', 'Mike Simpson (R)', 'Albio Sires (D)', 'Elissa Slotkin (D)', 'Xochitl Torres Small (D)', 'Adam Smith (D)', 'Adrian Smith (R)', 'Chris Smith (R)', 'Jason Smith (R)', 'Lloyd Smucker (R)', 'Darren Soto (D)', 'Abigail Spanberger (D)', 'Ross Spano (R)', 'Jackie Speier (D)', 'Greg Stanton (D)', 'Pete Stauber (R)', 'Elise Stefanik (R)', 'Bryan Steil (R)', 'Greg Steube (R)', 'Haley Stevens (D)', 'Chris Stewart (R)', 'Steve Stivers (R)', 'Tom Suozzi (D)', 'Eric Swalwell (D)', 'Mark Takano (D)', 'Van Taylor (R)', 'Bennie G Thompson (D)', 'Glenn Thompson (R)', 'Mike Thompson (D)', 'Mac Thornberry (R)', 'William Timmons (R)', 'Scott Tipton (R)', 'Dina Titus (D)', 'Rashida Tlaib (D)', 'Paul Tonko (D)', 'Norma Torres (D)', 'Lori Trahan (D)', 'David Trone (D)', 'Michael R Turner (R)', 'Lauren A Underwood (D)', 'Fred Upton (R)', 'Jeff Van Drew (D)', 'Juan Vargas (D)'))"
      ]
     },
     "execution_count": 61,
     "metadata": {},
     "output_type": "execute_result"
    }
   ],
   "source": [
    "graph.nodes"
   ]
  },
  {
   "cell_type": "code",
   "execution_count": 69,
   "metadata": {},
   "outputs": [
    {
     "data": {
      "text/plain": [
       "{'size': 483109, 'party': 'R', 'name': 'Chris Smith (R)'}"
      ]
     },
     "execution_count": 69,
     "metadata": {},
     "output_type": "execute_result"
    }
   ],
   "source": [
    "g.node['Chris Smith (R)']"
   ]
  },
  {
   "cell_type": "code",
   "execution_count": 70,
   "metadata": {},
   "outputs": [
    {
     "data": {
      "text/plain": [
       "AtlasView({'Retired': {'weight': '92515'}, 'Transportation Unions': {'weight': '69500'}, 'Building Trade Unions': {'weight': '51500'}, 'Public Sector Unions': {'weight': '50500'}, 'Lawyers/Law Firms': {'weight': '48516'}, 'Real Estate': {'weight': '47253'}, 'Leadership PACs': {'weight': '34400'}, 'Securities & Investment': {'weight': '30500'}, 'General Contractors': {'weight': '29425'}, 'Pro-Israel': {'weight': '29000'}})"
      ]
     },
     "execution_count": 70,
     "metadata": {},
     "output_type": "execute_result"
    }
   ],
   "source": [
    "g['Chris Smith (R)']"
   ]
  },
  {
   "cell_type": "code",
   "execution_count": 48,
   "metadata": {},
   "outputs": [],
   "source": [
    "pickle_obj(g, '400_graph')"
   ]
  },
  {
   "cell_type": "code",
   "execution_count": null,
   "metadata": {},
   "outputs": [],
   "source": []
  },
  {
   "cell_type": "code",
   "execution_count": null,
   "metadata": {},
   "outputs": [],
   "source": []
  },
  {
   "cell_type": "code",
   "execution_count": 72,
   "metadata": {},
   "outputs": [],
   "source": [
    "graph = g"
   ]
  },
  {
   "cell_type": "code",
   "execution_count": 50,
   "metadata": {},
   "outputs": [],
   "source": [
    "import neonx"
   ]
  },
  {
   "cell_type": "code",
   "execution_count": 73,
   "metadata": {},
   "outputs": [],
   "source": [
    "# create a Networkx graph\n",
    "# LINKS_TO is the relatioship name between the nodes\n",
    "data = neonx.get_geoff(graph, \"bribe\")"
   ]
  },
  {
   "cell_type": "code",
   "execution_count": 74,
   "metadata": {},
   "outputs": [],
   "source": [
    "# write graph to Neo4J db hosted locally\n",
    "results = neonx.write_to_neo(\"http://localhost:7474/db/data/\", graph, 'bribe')"
   ]
  },
  {
   "cell_type": "code",
   "execution_count": 75,
   "metadata": {},
   "outputs": [
    {
     "name": "stdout",
     "output_type": "stream",
     "text": [
      "Help on function write_to_neo in module neonx.neo:\n",
      "\n",
      "write_to_neo(server_url, graph, edge_rel_name, encoder=None)\n",
      "    Write the `graph` as Geoff string. The edges between the nodes\n",
      "    have relationship name `edge_rel_name`. The code\n",
      "    below shows a simple example::\n",
      "    \n",
      "        from neonx import write_to_neo\n",
      "    \n",
      "        # create a graph\n",
      "        import networkx as nx\n",
      "        G = nx.Graph()\n",
      "        G.add_nodes_from([1, 2, 3])\n",
      "        G.add_edge(1, 2)\n",
      "        G.add_edge(2, 3)\n",
      "    \n",
      "    \n",
      "        # save graph to neo4j\n",
      "        results = write_to_neo(\"http://localhost:7474/db/data/\", G, 'LINKS_TO')\n",
      "    \n",
      "    If the properties are not json encodable, please pass a custom JSON encoder\n",
      "    class. See `JSONEncoder\n",
      "    <http://docs.python.org/2/library/json.html#json.JSONEncoder/>`_.\n",
      "    \n",
      "    :param server_url: Server URL for the Neo4j server.\n",
      "    :param graph: A NetworkX Graph or a DiGraph\n",
      "    :param edge_rel_name: Relationship name between the nodes\n",
      "    :param optional encoder: JSONEncoder object. Defaults to JSONEncoder.\n",
      "    :rtype: A list of Neo4j created resources.\n",
      "\n"
     ]
    }
   ],
   "source": [
    "help(neonx.write_to_neo)"
   ]
  },
  {
   "cell_type": "code",
   "execution_count": 53,
   "metadata": {},
   "outputs": [],
   "source": [
    "pickle_obj(data, '400_geoff')"
   ]
  },
  {
   "cell_type": "code",
   "execution_count": 32,
   "metadata": {},
   "outputs": [
    {
     "data": {
      "text/plain": [
       "'/Users/mark/Documents/flatiron/projects/congress_bribes/graphing_congressional_lobbying/graphing_congress_lobbying_industries'"
      ]
     },
     "execution_count": 32,
     "metadata": {},
     "output_type": "execute_result"
    }
   ],
   "source": [
    "pwd"
   ]
  },
  {
   "cell_type": "code",
   "execution_count": 26,
   "metadata": {},
   "outputs": [],
   "source": [
    "nx.write_gexf(graph, \"/Users/mark/Documents/flatiron/projects/congress_bribes/graphing_congressional_lobbying/graphing_congress_lobbying_industries/200_geoff.gexf\")"
   ]
  },
  {
   "cell_type": "code",
   "execution_count": 135,
   "metadata": {},
   "outputs": [],
   "source": [
    "with open('graph_geoff', 'w') as f:\n",
    "    nx.write_gexf(graph, \"400_geoff_new_n.gexf\")"
   ]
  },
  {
   "cell_type": "markdown",
   "metadata": {},
   "source": [
    "# Graph created & geoff'd for easy imports\n",
    "- I've got it running in Gephi right now. it's quite colourful."
   ]
  },
  {
   "cell_type": "code",
   "execution_count": null,
   "metadata": {},
   "outputs": [],
   "source": []
  },
  {
   "cell_type": "markdown",
   "metadata": {},
   "source": [
    "# Next steps:\n",
    "- Import to Neo4J database\n",
    "    - query descriptive statistics"
   ]
  },
  {
   "cell_type": "markdown",
   "metadata": {},
   "source": [
    "# hosted it in neo4j. let's explore some queries"
   ]
  },
  {
   "cell_type": "code",
   "execution_count": 55,
   "metadata": {},
   "outputs": [
    {
     "data": {
      "text/plain": [
       "AtlasView({'Health Professionals': {'weight': '172491'}, 'Oil & Gas': {'weight': '80807'}, 'Air Transport': {'weight': '65500'}, 'Retired': {'weight': '59656'}, 'Chemical & Related Manufacturing': {'weight': '54000'}, 'Construction Services': {'weight': '35700'}, 'Real Estate': {'weight': '34274'}, 'Automotive': {'weight': '33600'}, 'Lawyers/Law Firms': {'weight': '33249'}, 'General Contractors': {'weight': '29681'}})"
      ]
     },
     "execution_count": 55,
     "metadata": {},
     "output_type": "execute_result"
    }
   ],
   "source": [
    "g['Brian Babin (R)']"
   ]
  },
  {
   "cell_type": "code",
   "execution_count": null,
   "metadata": {},
   "outputs": [],
   "source": []
  },
  {
   "cell_type": "code",
   "execution_count": null,
   "metadata": {},
   "outputs": [],
   "source": []
  },
  {
   "cell_type": "code",
   "execution_count": null,
   "metadata": {},
   "outputs": [],
   "source": []
  },
  {
   "cell_type": "code",
   "execution_count": null,
   "metadata": {},
   "outputs": [],
   "source": []
  }
 ],
 "metadata": {
  "kernelspec": {
   "display_name": "Python 3",
   "language": "python",
   "name": "python3"
  },
  "language_info": {
   "codemirror_mode": {
    "name": "ipython",
    "version": 3
   },
   "file_extension": ".py",
   "mimetype": "text/x-python",
   "name": "python",
   "nbconvert_exporter": "python",
   "pygments_lexer": "ipython3",
   "version": "3.7.4"
  },
  "toc": {
   "base_numbering": 1,
   "nav_menu": {},
   "number_sections": true,
   "sideBar": true,
   "skip_h1_title": false,
   "title_cell": "Table of Contents",
   "title_sidebar": "Contents",
   "toc_cell": true,
   "toc_position": {
    "height": "calc(100% - 180px)",
    "left": "10px",
    "top": "150px",
    "width": "224px"
   },
   "toc_section_display": true,
   "toc_window_display": true
  }
 },
 "nbformat": 4,
 "nbformat_minor": 2
}
