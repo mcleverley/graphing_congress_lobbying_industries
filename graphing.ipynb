{
 "cells": [
  {
   "cell_type": "markdown",
   "metadata": {
    "toc": true
   },
   "source": [
    "<h1>Table of Contents<span class=\"tocSkip\"></span></h1>\n",
    "<div class=\"toc\"><ul class=\"toc-item\"><li><span><a href=\"#Plan\" data-toc-modified-id=\"Plan-1\"><span class=\"toc-item-num\">1&nbsp;&nbsp;</span>Plan</a></span></li><li><span><a href=\"#Load-&amp;-prepare-data\" data-toc-modified-id=\"Load-&amp;-prepare-data-2\"><span class=\"toc-item-num\">2&nbsp;&nbsp;</span>Load &amp; prepare data</a></span></li><li><span><a href=\"#Create-graph,-populate-with-nodes-&amp;-edges\" data-toc-modified-id=\"Create-graph,-populate-with-nodes-&amp;-edges-3\"><span class=\"toc-item-num\">3&nbsp;&nbsp;</span>Create graph, populate with nodes &amp; edges</a></span></li><li><span><a href=\"#Graph-created-&amp;-geoff'd-for-easy-imports\" data-toc-modified-id=\"Graph-created-&amp;-geoff'd-for-easy-imports-4\"><span class=\"toc-item-num\">4&nbsp;&nbsp;</span>Graph created &amp; geoff'd for easy imports</a></span></li><li><span><a href=\"#Next-steps:\" data-toc-modified-id=\"Next-steps:-5\"><span class=\"toc-item-num\">5&nbsp;&nbsp;</span>Next steps:</a></span></li><li><span><a href=\"#hosted-it-in-neo4j.-let's-explore-some-queries\" data-toc-modified-id=\"hosted-it-in-neo4j.-let's-explore-some-queries-6\"><span class=\"toc-item-num\">6&nbsp;&nbsp;</span>hosted it in neo4j. let's explore some queries</a></span></li></ul></div>"
   ]
  },
  {
   "cell_type": "code",
   "execution_count": 1,
   "metadata": {},
   "outputs": [
    {
     "name": "stderr",
     "output_type": "stream",
     "text": [
      "UsageError: Line magic function `%matploblib` not found.\n"
     ]
    }
   ],
   "source": [
    "import networkx as nx\n",
    "import pandas as pd\n",
    "import selenium\n",
    "import random\n",
    "import time\n",
    "import os\n",
    "import io\n",
    "import json \n",
    "import pickle\n",
    "import requests\n",
    "import xmltodict\n",
    "import pprint\n",
    "import json\n",
    "import config\n",
    "import matplotlib.pyplot as plt\n",
    "import seaborn as sns\n",
    "%matploblib inline\n",
    "\n",
    "import neo4j\n",
    "import neonx # fancy\n",
    "\n",
    "import xml.etree.ElementTree as ET\n",
    "from io import StringIO\n",
    "from selenium import webdriver \n",
    "from selenium.webdriver.common.by import By \n",
    "from selenium.webdriver.support.ui import WebDriverWait \n",
    "from selenium.webdriver.support import expected_conditions as EC \n",
    "from selenium.common.exceptions import TimeoutException"
   ]
  },
  {
   "cell_type": "code",
   "execution_count": null,
   "metadata": {},
   "outputs": [],
   "source": [
    "def pickle_obj(obj, filename): # designed with list of strings in mind\n",
    "    urls = open(filename,\"w+\")\n",
    "    with open(filename, 'wb') as f:\n",
    "        pickle.dump(obj, f)\n",
    "def unpickle_obj(filename):\n",
    "    with open(filename, 'rb') as f:\n",
    "        return pickle.load(f)\n",
    "\n",
    "def add_industry_nodes(G, industries): # pass graph, list of industries\n",
    "    for industry in industries:\n",
    "        G.add_node(str(industry), size=0)\n",
    "        print(type(industry), type(G.node[industry]))\n",
    "    return G # returns modified graph"
   ]
  },
  {
   "cell_type": "markdown",
   "metadata": {},
   "source": [
    "# Plan\n",
    "- load congressmember industry data\n",
    "    - create graph using networkx\n",
    "        - create nodes, edges in graph using data\n",
    "            - convert to geoff string for use in Gephi"
   ]
  },
  {
   "cell_type": "markdown",
   "metadata": {},
   "source": [
    "# Load & prepare data"
   ]
  },
  {
   "cell_type": "code",
   "execution_count": 2,
   "metadata": {},
   "outputs": [],
   "source": [
    "def pickle_obj(obj, filename): # designed with list of strings in mind\n",
    "    urls = open(filename,\"w+\")\n",
    "    with open(filename, 'wb') as f:\n",
    "        pickle.dump(obj, f)\n",
    "def unpickle_obj(filename):\n",
    "    with open(filename, 'rb') as f:\n",
    "        return pickle.load(f)"
   ]
  },
  {
   "cell_type": "code",
   "execution_count": 3,
   "metadata": {},
   "outputs": [],
   "source": [
    "with open('first_200', 'rb') as f: # i should probably just know the syntax\n",
    "    mems = pickle.load(f) # is the time saving method worth the lack of knowledge? the eternal question"
   ]
  },
  {
   "cell_type": "code",
   "execution_count": 4,
   "metadata": {
    "scrolled": true
   },
   "outputs": [
    {
     "data": {
      "text/plain": [
       "{'name': 'Alma Adams (D)',\n",
       " 'party': 'D',\n",
       " 'id': 'N00035451',\n",
       " 'Public Sector Unions': {'code': 'P04',\n",
       "  'name': 'Public Sector Unions',\n",
       "  'indiv': '0',\n",
       "  'pac': '44500',\n",
       "  'total': '44500'},\n",
       " 'Industrial Unions': {'code': 'P02',\n",
       "  'name': 'Industrial Unions',\n",
       "  'indiv': '0',\n",
       "  'pac': '41000',\n",
       "  'total': '41000'},\n",
       " 'Building Trade Unions': {'code': 'P01',\n",
       "  'name': 'Building Trade Unions',\n",
       "  'indiv': '0',\n",
       "  'pac': '32500',\n",
       "  'total': '32500'},\n",
       " 'Health Professionals': {'code': 'H01',\n",
       "  'name': 'Health Professionals',\n",
       "  'indiv': '11880',\n",
       "  'pac': '18000',\n",
       "  'total': '29880'},\n",
       " 'Insurance': {'code': 'F09',\n",
       "  'name': 'Insurance',\n",
       "  'indiv': '0',\n",
       "  'pac': '23000',\n",
       "  'total': '23000'},\n",
       " 'Securities & Investment': {'code': 'F07',\n",
       "  'name': 'Securities & Investment',\n",
       "  'indiv': '0',\n",
       "  'pac': '22500',\n",
       "  'total': '22500'},\n",
       " 'Leadership PACs': {'code': 'Q03',\n",
       "  'name': 'Leadership PACs',\n",
       "  'indiv': '0',\n",
       "  'pac': '19000',\n",
       "  'total': '19000'},\n",
       " 'Lawyers/Law Firms': {'code': 'K01',\n",
       "  'name': 'Lawyers/Law Firms',\n",
       "  'indiv': '5251',\n",
       "  'pac': '13500',\n",
       "  'total': '18751'},\n",
       " 'Electric Utilities': {'code': 'E08',\n",
       "  'name': 'Electric Utilities',\n",
       "  'indiv': '0',\n",
       "  'pac': '18500',\n",
       "  'total': '18500'},\n",
       " 'Crop Production & Basic Processing': {'code': 'A01',\n",
       "  'name': 'Crop Production & Basic Processing',\n",
       "  'indiv': '0',\n",
       "  'pac': '18000',\n",
       "  'total': '18000'}}"
      ]
     },
     "execution_count": 4,
     "metadata": {},
     "output_type": "execute_result"
    }
   ],
   "source": [
    "mems[0][1] # list of dictionaries"
   ]
  },
  {
   "cell_type": "markdown",
   "metadata": {},
   "source": [
    "# Create graph, populate with nodes & edges"
   ]
  },
  {
   "cell_type": "code",
   "execution_count": 5,
   "metadata": {},
   "outputs": [],
   "source": [
    "def get_industries(mems): # pass list-list-dict-dict data\n",
    "    industries = [] # returns list of unique industries\n",
    "    for chamber in mems: # this is awfully nested\n",
    "        for member in chamber: # dict\n",
    "            for k, v in member.items():\n",
    "                if k!='party' and k!='name' and k!='id':\n",
    "                    if k not in industries:\n",
    "                        industries.append(k)\n",
    "    return industries\n",
    "\n",
    "def add_industry_nodes(G, industries): # pass graph, list of industries\n",
    "    for industry in industries:\n",
    "        G.add_node(str(industry), size=0, ind=industry)\n",
    "        print(type(industry), type(G.node[industry]))\n",
    "    return G # returns modified graph"
   ]
  },
  {
   "cell_type": "code",
   "execution_count": 6,
   "metadata": {
    "scrolled": true
   },
   "outputs": [
    {
     "name": "stdout",
     "output_type": "stream",
     "text": [
      "<class 'str'> <class 'dict'>\n",
      "<class 'str'> <class 'dict'>\n",
      "<class 'str'> <class 'dict'>\n",
      "<class 'str'> <class 'dict'>\n",
      "<class 'str'> <class 'dict'>\n",
      "<class 'str'> <class 'dict'>\n",
      "<class 'str'> <class 'dict'>\n",
      "<class 'str'> <class 'dict'>\n",
      "<class 'str'> <class 'dict'>\n",
      "<class 'str'> <class 'dict'>\n",
      "<class 'str'> <class 'dict'>\n",
      "<class 'str'> <class 'dict'>\n",
      "<class 'str'> <class 'dict'>\n",
      "<class 'str'> <class 'dict'>\n",
      "<class 'str'> <class 'dict'>\n",
      "<class 'str'> <class 'dict'>\n",
      "<class 'str'> <class 'dict'>\n",
      "<class 'str'> <class 'dict'>\n",
      "<class 'str'> <class 'dict'>\n",
      "<class 'str'> <class 'dict'>\n",
      "<class 'str'> <class 'dict'>\n",
      "<class 'str'> <class 'dict'>\n",
      "<class 'str'> <class 'dict'>\n",
      "<class 'str'> <class 'dict'>\n",
      "<class 'str'> <class 'dict'>\n",
      "<class 'str'> <class 'dict'>\n",
      "<class 'str'> <class 'dict'>\n",
      "<class 'str'> <class 'dict'>\n",
      "<class 'str'> <class 'dict'>\n",
      "<class 'str'> <class 'dict'>\n",
      "<class 'str'> <class 'dict'>\n",
      "<class 'str'> <class 'dict'>\n",
      "<class 'str'> <class 'dict'>\n",
      "<class 'str'> <class 'dict'>\n",
      "<class 'str'> <class 'dict'>\n",
      "<class 'str'> <class 'dict'>\n",
      "<class 'str'> <class 'dict'>\n",
      "<class 'str'> <class 'dict'>\n",
      "<class 'str'> <class 'dict'>\n",
      "<class 'str'> <class 'dict'>\n",
      "<class 'str'> <class 'dict'>\n",
      "<class 'str'> <class 'dict'>\n",
      "<class 'str'> <class 'dict'>\n",
      "<class 'str'> <class 'dict'>\n",
      "<class 'str'> <class 'dict'>\n",
      "<class 'str'> <class 'dict'>\n",
      "<class 'str'> <class 'dict'>\n",
      "<class 'str'> <class 'dict'>\n",
      "<class 'str'> <class 'dict'>\n",
      "<class 'str'> <class 'dict'>\n",
      "<class 'str'> <class 'dict'>\n",
      "<class 'str'> <class 'dict'>\n",
      "<class 'str'> <class 'dict'>\n",
      "<class 'str'> <class 'dict'>\n",
      "<class 'str'> <class 'dict'>\n",
      "<class 'str'> <class 'dict'>\n",
      "<class 'str'> <class 'dict'>\n",
      "<class 'str'> <class 'dict'>\n",
      "<class 'str'> <class 'dict'>\n",
      "<class 'str'> <class 'dict'>\n",
      "<class 'str'> <class 'dict'>\n",
      "<class 'str'> <class 'dict'>\n",
      "<class 'str'> <class 'dict'>\n",
      "<class 'str'> <class 'dict'>\n",
      "<class 'str'> <class 'dict'>\n",
      "<class 'str'> <class 'dict'>\n",
      "<class 'str'> <class 'dict'>\n",
      "<class 'str'> <class 'dict'>\n",
      "<class 'str'> <class 'dict'>\n",
      "<class 'str'> <class 'dict'>\n",
      "<class 'str'> <class 'dict'>\n",
      "<class 'str'> <class 'dict'>\n",
      "<class 'str'> <class 'dict'>\n",
      "<class 'str'> <class 'dict'>\n",
      "<class 'str'> <class 'dict'>\n",
      "<class 'str'> <class 'dict'>\n"
     ]
    },
    {
     "data": {
      "text/plain": [
       "NodeView(('Health Professionals', 'Crop Production & Basic Processing', 'Agricultural Services/Products', 'General Contractors', 'Air Transport', 'Leadership PACs', 'Defense Aerospace', 'Health Services/HMOs', 'Oil & Gas', 'Hospitals/Nursing Homes', 'Public Sector Unions', 'Industrial Unions', 'Building Trade Unions', 'Insurance', 'Securities & Investment', 'Lawyers/Law Firms', 'Electric Utilities', 'Misc Defense', 'Misc Manufacturing & Distributing', 'Food Processing & Sales', 'Defense Electronics', 'Lobbyists', 'Commercial Banks', 'Retired', 'Real Estate', 'Education', 'Pharmaceuticals/Health Products', 'Forestry & Forest Products', 'Republican/Conservative', 'Retail Sales', 'Non-Profit Institutions', 'Casinos/Gambling', 'Mining', 'Livestock', 'Automotive', 'Chemical & Related Manufacturing', 'Construction Services', 'Candidate Committees', 'Building Materials & Equipment', 'Transportation Unions', 'Democratic/Liberal', 'TV/Movies/Music', \"Women's Issues\", 'Misc Energy', 'Telecom Services', 'Business Services', 'Misc Issues', 'Finance/Credit Companies', 'Food & Beverage', 'Electronics Mfg & Equip', 'Misc Business', 'Accountants', 'Beer, Wine & Liquor', 'Tobacco', 'Misc Finance', 'Railroads', 'Printing & Publishing', 'Misc Unions', 'Sea Transport', 'Human Rights', 'Pro-Israel', 'Home Builders', 'Telephone Utilities', 'Dairy', 'Steel Production', 'Misc Services', 'Internet', 'Misc Transport', 'Civil Servants/Public Officials', 'Lodging/Tourism', 'Poultry & Eggs', 'Gun Rights', 'Special Trade Contractors', 'Trucking', 'Environment', 'Clergy & Religious Organizations'))"
      ]
     },
     "execution_count": 6,
     "metadata": {},
     "output_type": "execute_result"
    }
   ],
   "source": [
    "g = nx.Graph()\n",
    "industries = get_industries(mems)\n",
    "g = add_industry_nodes(g, industries)\n",
    "g.nodes()"
   ]
  },
  {
   "cell_type": "code",
   "execution_count": 7,
   "metadata": {},
   "outputs": [
    {
     "name": "stdout",
     "output_type": "stream",
     "text": [
      "Help on function add_node in module networkx.classes.graph:\n",
      "\n",
      "add_node(self, node_for_adding, **attr)\n",
      "    Add a single node `node_for_adding` and update node attributes.\n",
      "    \n",
      "    Parameters\n",
      "    ----------\n",
      "    node_for_adding : node\n",
      "        A node can be any hashable Python object except None.\n",
      "    attr : keyword arguments, optional\n",
      "        Set or change node attributes using key=value.\n",
      "    \n",
      "    See Also\n",
      "    --------\n",
      "    add_nodes_from\n",
      "    \n",
      "    Examples\n",
      "    --------\n",
      "    >>> G = nx.Graph()  # or DiGraph, MultiGraph, MultiDiGraph, etc\n",
      "    >>> G.add_node(1)\n",
      "    >>> G.add_node('Hello')\n",
      "    >>> K3 = nx.Graph([(0, 1), (1, 2), (2, 0)])\n",
      "    >>> G.add_node(K3)\n",
      "    >>> G.number_of_nodes()\n",
      "    3\n",
      "    \n",
      "    Use keywords set/change node attributes:\n",
      "    \n",
      "    >>> G.add_node(1, size=10)\n",
      "    >>> G.add_node(3, weight=0.4, UTM=('13S', 382871, 3972649))\n",
      "    \n",
      "    Notes\n",
      "    -----\n",
      "    A hashable object is one that can be used as a key in a Python\n",
      "    dictionary. This includes strings, numbers, tuples of strings\n",
      "    and numbers, etc.\n",
      "    \n",
      "    On many platforms hashable items also include mutables such as\n",
      "    NetworkX Graphs, though one should be careful that the hash\n",
      "    doesn't change on mutables.\n",
      "\n"
     ]
    }
   ],
   "source": [
    "help(nx.Graph.add_node)"
   ]
  },
  {
   "cell_type": "code",
   "execution_count": 8,
   "metadata": {},
   "outputs": [],
   "source": [
    "def populate_graph(G, mems, industries): # add member nodes + edges\n",
    "    edges = []\n",
    "    ec=0\n",
    "    for chamber in mems:\n",
    "        for c, member in enumerate(chamber):\n",
    "            if len(member)!=0:\n",
    "                try:\n",
    "                    mem_node = G.add_node(member['name'], size=0)\n",
    "                    total_mem_size = 0\n",
    "                    print(c)\n",
    "                    for k, v in member.items():\n",
    "                        if k!='party' and k!='name' and k!='id': # industry dict\n",
    "                            G.add_edge(member['name'], v['name'], weight=v['total'])\n",
    "#                             G[member['name']][v['name']]['party'] = member['party']\n",
    "                            total_mem_size += int(v['total']) # update member's total bribery $\n",
    "                            G.node[v['name']]['size'] += int(v['total']) # update industry's total bribery $\n",
    "                    G.node[member['name']]['size'] = total_mem_size # reassign mem_node size\n",
    "                    G.node[member['name']]['party'] = member['party']\n",
    "                    G.node[member['name']]['name'] = member['name'] # give a name property\n",
    "                except:\n",
    "                    ec+=1 # count errors to ensure data integrity\n",
    "    print(f'{ec} errors')\n",
    "    return G"
   ]
  },
  {
   "cell_type": "code",
   "execution_count": null,
   "metadata": {},
   "outputs": [],
   "source": []
  },
  {
   "cell_type": "code",
   "execution_count": 9,
   "metadata": {},
   "outputs": [
    {
     "name": "stdout",
     "output_type": "stream",
     "text": [
      "0\n",
      "1\n",
      "2\n",
      "3\n",
      "4\n",
      "5\n",
      "6\n",
      "7\n",
      "8\n",
      "9\n",
      "10\n",
      "11\n",
      "12\n",
      "13\n",
      "14\n",
      "15\n",
      "16\n",
      "17\n",
      "18\n",
      "19\n",
      "20\n",
      "21\n",
      "22\n",
      "23\n",
      "24\n",
      "25\n",
      "26\n",
      "27\n",
      "28\n",
      "29\n",
      "30\n",
      "31\n",
      "32\n",
      "33\n",
      "34\n",
      "35\n",
      "36\n",
      "37\n",
      "38\n",
      "39\n",
      "40\n",
      "41\n",
      "42\n",
      "43\n",
      "44\n",
      "45\n",
      "46\n",
      "47\n",
      "48\n",
      "49\n",
      "50\n",
      "51\n",
      "52\n",
      "53\n",
      "54\n",
      "55\n",
      "56\n",
      "57\n",
      "58\n",
      "59\n",
      "60\n",
      "61\n",
      "62\n",
      "63\n",
      "64\n",
      "65\n",
      "66\n",
      "67\n",
      "68\n",
      "69\n",
      "70\n",
      "71\n",
      "72\n",
      "73\n",
      "74\n",
      "75\n",
      "76\n",
      "77\n",
      "78\n",
      "79\n",
      "80\n",
      "81\n",
      "82\n",
      "83\n",
      "84\n",
      "85\n",
      "86\n",
      "87\n",
      "88\n",
      "89\n",
      "90\n",
      "91\n",
      "92\n",
      "93\n",
      "94\n",
      "95\n",
      "96\n",
      "97\n",
      "98\n",
      "99\n",
      "100\n",
      "101\n",
      "102\n",
      "103\n",
      "104\n",
      "105\n",
      "106\n",
      "107\n",
      "108\n",
      "109\n",
      "110\n",
      "111\n",
      "112\n",
      "113\n",
      "114\n",
      "115\n",
      "116\n",
      "117\n",
      "118\n",
      "119\n",
      "120\n",
      "121\n",
      "122\n",
      "123\n",
      "124\n",
      "125\n",
      "126\n",
      "127\n",
      "128\n",
      "129\n",
      "130\n",
      "131\n",
      "132\n",
      "133\n",
      "134\n",
      "135\n",
      "136\n",
      "137\n",
      "138\n",
      "139\n",
      "140\n",
      "141\n",
      "142\n",
      "143\n",
      "144\n",
      "145\n",
      "146\n",
      "147\n",
      "148\n",
      "149\n",
      "150\n",
      "151\n",
      "152\n",
      "153\n",
      "154\n",
      "155\n",
      "156\n",
      "157\n",
      "158\n",
      "159\n",
      "160\n",
      "161\n",
      "162\n",
      "163\n",
      "164\n",
      "165\n",
      "166\n",
      "167\n",
      "168\n",
      "169\n",
      "170\n",
      "171\n",
      "172\n",
      "173\n",
      "174\n",
      "175\n",
      "176\n",
      "177\n",
      "178\n",
      "179\n",
      "180\n",
      "181\n",
      "182\n",
      "183\n",
      "184\n",
      "185\n",
      "186\n",
      "187\n",
      "188\n",
      "189\n",
      "190\n",
      "191\n",
      "192\n",
      "193\n",
      "194\n",
      "195\n",
      "196\n",
      "197\n",
      "0 errors\n"
     ]
    }
   ],
   "source": [
    "g = populate_graph(g, mems, industries)"
   ]
  },
  {
   "cell_type": "code",
   "execution_count": null,
   "metadata": {},
   "outputs": [],
   "source": []
  },
  {
   "cell_type": "code",
   "execution_count": null,
   "metadata": {},
   "outputs": [],
   "source": []
  },
  {
   "cell_type": "code",
   "execution_count": 11,
   "metadata": {},
   "outputs": [],
   "source": [
    "# graph.nodes"
   ]
  },
  {
   "cell_type": "code",
   "execution_count": 14,
   "metadata": {},
   "outputs": [],
   "source": [
    "pickle_obj(g, '200_graph')"
   ]
  },
  {
   "cell_type": "code",
   "execution_count": 21,
   "metadata": {},
   "outputs": [
    {
     "data": {
      "text/plain": [
       "EdgeView([('Health Professionals', 'Ralph Abraham (R)'), ('Health Professionals', 'Alma Adams (D)'), ('Health Professionals', 'Pete Aguilar (D)'), ('Health Professionals', 'Richard W Allen (R)'), ('Health Professionals', 'Justin Amash (R)'), ('Health Professionals', 'Mark Amodei (R)'), ('Health Professionals', 'Jodey Arrington (R)'), ('Health Professionals', 'Brian Babin (R)'), ('Health Professionals', 'Troy Balderson (R)'), ('Health Professionals', 'Jim Banks (R)'), ('Health Professionals', 'Lou Barletta (R)'), ('Health Professionals', 'Andy Barr (R)'), ('Health Professionals', 'Joe Barton (R)'), ('Health Professionals', 'Karen Bass (D)'), ('Health Professionals', 'Ami Bera (D)'), ('Health Professionals', 'John Bergman (R)'), ('Health Professionals', 'Jaime Herrera Beutler (R)'), ('Health Professionals', 'Don Beyer (D)'), ('Health Professionals', 'Andy Biggs (R)'), ('Health Professionals', 'Gus Bilirakis (R)'), ('Health Professionals', 'Mike Bishop (R)'), ('Health Professionals', 'Sanford Bishop (D)'), ('Health Professionals', 'Diane Black (R)'), ('Health Professionals', 'Marsha Blackburn (R)'), ('Health Professionals', 'Rod Blum (R)'), ('Health Professionals', 'Earl Blumenauer (D)'), ('Health Professionals', 'Suzanne Bonamici (D)'), ('Health Professionals', 'Kevin Brady (R)'), ('Health Professionals', 'Dave Brat (R)'), ('Health Professionals', 'Mo Brooks (R)'), ('Health Professionals', 'Susan Brooks (R)'), ('Health Professionals', 'Anthony Brown (D)'), ('Health Professionals', 'Julia Brownley (D)'), ('Health Professionals', 'Vernon Buchanan (R)'), ('Health Professionals', 'Larry Bucshon (R)'), ('Health Professionals', 'Michael Burgess (R)'), ('Health Professionals', 'G K Butterfield (D)'), ('Health Professionals', 'Bradley Byrne (R)'), ('Health Professionals', 'Tony Cardenas (D)'), ('Health Professionals', 'Andre Carson (D)'), ('Health Professionals', 'Buddy Carter (R)'), ('Health Professionals', 'John Carter (R)'), ('Health Professionals', 'Matt Cartwright (D)'), ('Health Professionals', 'Kathy Castor (D)'), ('Health Professionals', 'Joaquin Castro (D)'), ('Health Professionals', 'Steve Chabot (R)'), ('Health Professionals', 'Judy Chu (D)'), ('Health Professionals', 'Katherine Clark (D)'), ('Health Professionals', 'Yvette D Clarke (D)'), ('Health Professionals', 'Emanuel Cleaver (D)'), ('Health Professionals', 'Michael Cloud (R)'), ('Health Professionals', 'James E Clyburn (D)'), ('Health Professionals', 'Mike Coffman (R)'), ('Health Professionals', 'Steve Cohen (D)'), ('Health Professionals', 'Tom Cole (R)'), ('Health Professionals', 'Chris Collins (R)'), ('Health Professionals', 'Doug Collins (R)'), ('Health Professionals', 'James Comer (R)'), ('Health Professionals', 'Lou Correa (D)'), ('Health Professionals', 'Jim Costa (D)'), ('Health Professionals', 'Ryan Costello (R)'), ('Health Professionals', 'Joe Courtney (D)'), ('Health Professionals', 'Rick Crawford (R)'), ('Health Professionals', 'Charlie Crist (D)'), ('Health Professionals', 'Joseph Crowley (D)'), ('Health Professionals', 'Henry Cuellar (D)'), ('Health Professionals', 'Elijah E Cummings (D)'), ('Health Professionals', 'Carlos Curbelo (R)'), ('Health Professionals', 'Danny K Davis (D)'), ('Health Professionals', 'Rodney Davis (R)'), ('Health Professionals', 'Susan A Davis (D)'), ('Health Professionals', 'Diana DeGette (D)'), ('Health Professionals', 'Rosa L DeLauro (D)'), ('Health Professionals', 'Suzan DelBene (D)'), ('Health Professionals', 'Val Demings (D)'), ('Health Professionals', 'Scott Desjarlais (R)'), ('Health Professionals', 'Ted Deutch (D)'), ('Health Professionals', 'Debbie Dingell (D)'), ('Health Professionals', 'Lloyd Doggett (D)'), ('Health Professionals', 'Dan Donovan (R)'), ('Health Professionals', 'Mike Doyle (D)'), ('Health Professionals', 'Jeff Duncan (R)'), ('Health Professionals', 'Neal Dunn (R)'), ('Health Professionals', 'Keith Ellison (D)'), ('Health Professionals', 'Tom Emmer (R)'), ('Health Professionals', 'Eliot L Engel (D)'), ('Health Professionals', 'Anna Eshoo (D)'), ('Health Professionals', 'Adriano Espaillat (D)'), ('Health Professionals', 'Ron Estes (R)'), ('Health Professionals', 'Elizabeth Esty (D)'), ('Health Professionals', 'Drew Ferguson (R)'), ('Health Professionals', 'Brian Fitzpatrick (R)'), ('Health Professionals', 'Chuck Fleischmann (R)'), ('Health Professionals', 'Bill Flores (R)'), ('Health Professionals', 'Jeff Fortenberry (R)'), ('Health Professionals', 'Rodney Frelinghuysen (R)'), ('Health Professionals', 'Tulsi Gabbard (D)'), ('Health Professionals', 'Matt Gaetz (R)'), ('Health Professionals', 'Mike Gallagher (R)'), ('Health Professionals', 'Ruben Gallego (D)'), ('Health Professionals', 'Greg Gianforte (R)'), ('Health Professionals', 'Louis B Gohmert Jr. (R)'), ('Health Professionals', 'Jimmy Gomez (D)'), ('Health Professionals', 'Jenniffer Gonzalez (3)'), ('Health Professionals', 'Vicente Gonzalez (D)'), ('Health Professionals', 'Paul Gosar (R)'), ('Health Professionals', 'Trey Gowdy (R)'), ('Health Professionals', 'Tom Graves (R)'), ('Health Professionals', 'Gene Green (D)'), ('Health Professionals', 'Morgan Griffith (R)'), ('Health Professionals', 'Raul M Grijalva (D)'), ('Health Professionals', 'Michelle Lujan Grisham (D)'), ('Health Professionals', 'Glenn S Grothman (R)'), ('Health Professionals', 'Brett Guthrie (R)'), ('Health Professionals', 'Luis V Gutierrez (D)'), ('Health Professionals', 'Karen Handel (R)'), ('Health Professionals', 'Gregg Harper (R)'), ('Health Professionals', 'Andy Harris (R)'), ('Health Professionals', 'Vicky Hartzler (R)'), ('Health Professionals', 'Dennis Heck (D)'), ('Health Professionals', 'Brian M Higgins (D)'), ('Health Professionals', 'French Hill (R)'), ('Health Professionals', 'George Holding (R)'), ('Health Professionals', 'Steny H Hoyer (D)'), ('Health Professionals', 'Richard Hudson (R)'), ('Health Professionals', 'Jared Huffman (D)'), ('Health Professionals', 'Sheila Jackson Lee (D)'), ('Health Professionals', 'Pramila Jayapal (D)'), ('Health Professionals', 'Evan Jenkins (R)'), ('Health Professionals', 'Bill Johnson (R)'), ('Health Professionals', 'Eddie Bernice Johnson (D)'), ('Health Professionals', 'Mike Johnson (R)'), ('Health Professionals', 'Brenda Jones (D)'), ('Crop Production & Basic Processing', 'Ralph Abraham (R)'), ('Crop Production & Basic Processing', 'Alma Adams (D)'), ('Crop Production & Basic Processing', 'Robert B Aderholt (R)'), ('Crop Production & Basic Processing', 'Richard W Allen (R)'), ('Crop Production & Basic Processing', 'Jodey Arrington (R)'), ('Crop Production & Basic Processing', 'Don Bacon (R)'), ('Crop Production & Basic Processing', 'Troy Balderson (R)'), ('Crop Production & Basic Processing', 'John Bergman (R)'), ('Crop Production & Basic Processing', 'Sanford Bishop (D)'), ('Crop Production & Basic Processing', 'Rod Blum (R)'), ('Crop Production & Basic Processing', 'Mike Bost (R)'), ('Crop Production & Basic Processing', 'Kenneth R Buck (R)'), ('Crop Production & Basic Processing', 'G K Butterfield (D)'), ('Crop Production & Basic Processing', 'Bradley Byrne (R)'), ('Crop Production & Basic Processing', 'Ken Calvert (R)'), ('Crop Production & Basic Processing', 'Buddy Carter (R)'), ('Crop Production & Basic Processing', 'Michael Cloud (R)'), ('Crop Production & Basic Processing', 'Steve Cohen (D)'), ('Crop Production & Basic Processing', 'James Comer (R)'), ('Crop Production & Basic Processing', 'Mike Conaway (R)'), ('Crop Production & Basic Processing', 'Jim Costa (D)'), ('Crop Production & Basic Processing', 'Kevin Cramer (R)'), ('Crop Production & Basic Processing', 'Rick Crawford (R)'), ('Crop Production & Basic Processing', 'Henry Cuellar (D)'), ('Crop Production & Basic Processing', 'Rodney Davis (R)'), ('Crop Production & Basic Processing', 'Susan A Davis (D)'), ('Crop Production & Basic Processing', 'Jeff Denham (R)'), ('Crop Production & Basic Processing', 'Mario Diaz-Balart (R)'), ('Crop Production & Basic Processing', 'Neal Dunn (R)'), ('Crop Production & Basic Processing', 'Adriano Espaillat (D)'), ('Crop Production & Basic Processing', 'Ron Estes (R)'), ('Crop Production & Basic Processing', 'Dwight Evans (D)'), ('Crop Production & Basic Processing', 'Drew Ferguson (R)'), ('Crop Production & Basic Processing', 'Jeff Fortenberry (R)'), ('Crop Production & Basic Processing', 'Marcia L Fudge (D)'), ('Crop Production & Basic Processing', 'Matt Gaetz (R)'), ('Crop Production & Basic Processing', 'John Garamendi (D)'), ('Crop Production & Basic Processing', 'Tom Garrett (R)'), ('Crop Production & Basic Processing', 'Bob Gibbs (R)'), ('Crop Production & Basic Processing', 'Vicky Hartzler (R)'), ('Crop Production & Basic Processing', 'Alcee L Hastings (D)'), ('Crop Production & Basic Processing', 'Clay Higgins (R)'), ('Crop Production & Basic Processing', 'Mike Johnson (R)'), ('Agricultural Services/Products', 'Ralph Abraham (R)'), ('Agricultural Services/Products', 'Robert B Aderholt (R)'), ('Agricultural Services/Products', 'Jodey Arrington (R)'), ('Agricultural Services/Products', 'Sanford Bishop (D)'), ('Agricultural Services/Products', 'Cheri Bustos (D)'), ('Agricultural Services/Products', 'James Comer (R)'), ('Agricultural Services/Products', 'Mike Conaway (R)'), ('Agricultural Services/Products', 'Jim Costa (D)'), ('Agricultural Services/Products', 'Rick Crawford (R)'), ('Agricultural Services/Products', 'Rodney Davis (R)'), ('Agricultural Services/Products', 'Jeff Denham (R)'), ('Agricultural Services/Products', 'Neal Dunn (R)'), ('Agricultural Services/Products', 'Marcia L Fudge (D)'), ('Agricultural Services/Products', 'Bob Gibbs (R)'), ('Agricultural Services/Products', 'Michelle Lujan Grisham (D)'), ('Agricultural Services/Products', 'Vicky Hartzler (R)'), ('General Contractors', 'Ralph Abraham (R)'), ('General Contractors', 'Richard W Allen (R)'), ('General Contractors', 'Brian Babin (R)'), ('General Contractors', 'Don Bacon (R)'), ('General Contractors', 'Lou Barletta (R)'), ('General Contractors', 'Jaime Herrera Beutler (R)'), ('General Contractors', 'Madeleine Z Bordallo (D)'), ('General Contractors', 'Mike Bost (R)'), ('General Contractors', 'Robert A. Brady (D)'), ('General Contractors', 'Kenneth R Buck (R)'), ('General Contractors', 'Michael Cloud (R)'), ('General Contractors', 'Neal Dunn (R)'), ('General Contractors', 'Ron Estes (R)'), ('General Contractors', 'John Faso (R)'), ('General Contractors', 'Chuck Fleischmann (R)'), ('General Contractors', 'Greg Gianforte (R)'), ('General Contractors', 'Paul Gosar (R)'), ('General Contractors', 'Garret Graves (R)'), ('General Contractors', 'Kevin Hern (R)'), ('General Contractors', 'Sheila Jackson Lee (D)'), ('General Contractors', 'Mike Johnson (R)'), ('General Contractors', 'Brenda Jones (D)'), ('Air Transport', 'Ralph Abraham (R)'), ('Air Transport', 'Brian Babin (R)'), ('Air Transport', 'Diane Black (R)'), ('Air Transport', 'Cheri Bustos (D)'), ('Air Transport', 'Andre Carson (D)'), ('Air Transport', 'John Carter (R)'), ('Air Transport', 'Tom Cole (R)'), ('Air Transport', 'Barbara Comstock (R)'), ('Air Transport', 'Rick Crawford (R)'), ('Air Transport', 'Rodney Davis (R)'), ('Air Transport', 'Peter DeFazio (D)'), ('Air Transport', 'Jeff Denham (R)'), ('Air Transport', 'Mark Desaulnier (D)'), ('Air Transport', 'Mario Diaz-Balart (R)'), ('Air Transport', 'Ron Estes (R)'), ('Air Transport', 'Drew Ferguson (R)'), ('Air Transport', 'Bill Flores (R)'), ('Air Transport', 'Lois J Frankel (D)'), ('Air Transport', 'Rodney Frelinghuysen (R)'), ('Air Transport', 'Bob Gibbs (R)'), ('Air Transport', 'Kay Granger (R)'), ('Air Transport', 'Sam Graves (R)'), ('Air Transport', 'Colleen Hanabusa (D)'), ('Air Transport', 'Hakeem Jeffries (D)'), ('Air Transport', 'Eddie Bernice Johnson (D)'), ('Air Transport', 'Hank Johnson (D)'), ('Leadership PACs', 'Ralph Abraham (R)'), ('Leadership PACs', 'Alma Adams (D)'), ('Leadership PACs', 'Richard W Allen (R)'), ('Leadership PACs', 'Justin Amash (R)'), ('Leadership PACs', 'Mark Amodei (R)'), ('Leadership PACs', 'Don Bacon (R)'), ('Leadership PACs', 'Troy Balderson (R)'), ('Leadership PACs', 'Jim Banks (R)'), ('Leadership PACs', 'Lou Barletta (R)'), ('Leadership PACs', 'Andy Barr (R)'), ('Leadership PACs', 'Nanette Barragan (D)'), ('Leadership PACs', 'Ami Bera (D)'), ('Leadership PACs', 'John Bergman (R)'), ('Leadership PACs', 'Jaime Herrera Beutler (R)'), ('Leadership PACs', 'Andy Biggs (R)'), ('Leadership PACs', 'Mike Bishop (R)'), ('Leadership PACs', 'Marsha Blackburn (R)'), ('Leadership PACs', 'Rod Blum (R)'), ('Leadership PACs', 'Mike Bost (R)'), ('Leadership PACs', 'Dave Brat (R)'), ('Leadership PACs', 'Mo Brooks (R)'), ('Leadership PACs', 'Susan Brooks (R)'), ('Leadership PACs', 'Anthony Brown (D)'), ('Leadership PACs', 'Julia Brownley (D)'), ('Leadership PACs', 'Vernon Buchanan (R)'), ('Leadership PACs', 'Larry Bucshon (R)'), ('Leadership PACs', 'Ted Budd (R)'), ('Leadership PACs', 'Michael Burgess (R)'), ('Leadership PACs', 'Cheri Bustos (D)'), ('Leadership PACs', 'Bradley Byrne (R)'), ('Leadership PACs', 'Salud Carbajal (D)'), ('Leadership PACs', 'John Carter (R)'), ('Leadership PACs', 'Matt Cartwright (D)'), ('Leadership PACs', 'Steve Chabot (R)'), ('Leadership PACs', 'Liz Cheney (R)'), ('Leadership PACs', 'Yvette D Clarke (D)'), ('Leadership PACs', 'Michael Cloud (R)'), ('Leadership PACs', 'Mike Coffman (R)'), ('Leadership PACs', 'Chris Collins (R)'), ('Leadership PACs', 'Doug Collins (R)'), ('Leadership PACs', 'James Comer (R)'), ('Leadership PACs', 'Barbara Comstock (R)'), ('Leadership PACs', 'Paul Cook (R)'), ('Leadership PACs', 'Jim Costa (D)'), ('Leadership PACs', 'Ryan Costello (R)'), ('Leadership PACs', 'Kevin Cramer (R)'), ('Leadership PACs', 'Rick Crawford (R)'), ('Leadership PACs', 'Charlie Crist (D)'), ('Leadership PACs', 'John Culberson (R)'), ('Leadership PACs', 'Carlos Curbelo (R)'), ('Leadership PACs', 'John Curtis (R)'), ('Leadership PACs', 'Warren Davidson (R)'), ('Leadership PACs', 'Rodney Davis (R)'), ('Leadership PACs', 'Val Demings (D)'), ('Leadership PACs', 'Jeff Denham (R)'), ('Leadership PACs', 'Scott Desjarlais (R)'), ('Leadership PACs', 'Mario Diaz-Balart (R)'), ('Leadership PACs', 'Dan Donovan (R)'), ('Leadership PACs', 'John J Duncan Jr. (R)'), ('Leadership PACs', 'Neal Dunn (R)'), ('Leadership PACs', 'Tom Emmer (R)'), ('Leadership PACs', 'Adriano Espaillat (D)'), ('Leadership PACs', 'Ron Estes (R)'), ('Leadership PACs', 'Elizabeth Esty (D)'), ('Leadership PACs', 'John Faso (R)'), ('Leadership PACs', 'Drew Ferguson (R)'), ('Leadership PACs', 'Brian Fitzpatrick (R)'), ('Leadership PACs', 'Chuck Fleischmann (R)'), ('Leadership PACs', 'Jeff Fortenberry (R)'), ('Leadership PACs', 'Mike Gallagher (R)'), ('Leadership PACs', 'Tom Garrett (R)'), ('Leadership PACs', 'Greg Gianforte (R)'), ('Leadership PACs', 'Bob Gibbs (R)'), ('Leadership PACs', 'Jimmy Gomez (D)'), ('Leadership PACs', 'Jenniffer Gonzalez (3)'), ('Leadership PACs', 'Paul Gosar (R)'), ('Leadership PACs', 'Josh Gottheimer (D)'), ('Leadership PACs', 'Trey Gowdy (R)'), ('Leadership PACs', 'Morgan Griffith (R)'), ('Leadership PACs', 'Glenn S Grothman (R)'), ('Leadership PACs', 'Luis V Gutierrez (D)'), ('Leadership PACs', 'Karen Handel (R)'), ('Leadership PACs', 'Gregg Harper (R)'), ('Leadership PACs', 'Andy Harris (R)'), ('Leadership PACs', 'Vicky Hartzler (R)'), ('Leadership PACs', 'Alcee L Hastings (D)'), ('Leadership PACs', 'Kevin Hern (R)'), ('Leadership PACs', 'Jody B Hice (R)'), ('Leadership PACs', 'Clay Higgins (R)'), ('Leadership PACs', 'French Hill (R)'), ('Leadership PACs', 'George Holding (R)'), ('Leadership PACs', 'Trey Hollingsworth (R)'), ('Leadership PACs', 'Richard Hudson (R)'), ('Leadership PACs', 'Bill Huizenga (R)'), ('Leadership PACs', 'Randy Hultgren (R)'), ('Leadership PACs', 'Duncan D Hunter (R)'), ('Leadership PACs', 'Will Hurd (R)'), ('Leadership PACs', 'Darrell Issa (R)'), ('Leadership PACs', 'Evan Jenkins (R)'), ('Leadership PACs', 'Lynn Jenkins (R)'), ('Leadership PACs', 'Bill Johnson (R)'), ('Leadership PACs', 'Mike Johnson (R)'), ('Defense Aerospace', 'Ralph Abraham (R)'), ('Defense Aerospace', 'Robert B Aderholt (R)'), ('Defense Aerospace', 'Pete Aguilar (D)'), ('Defense Aerospace', 'Mark Amodei (R)'), ('Defense Aerospace', 'Jim Banks (R)'), ('Defense Aerospace', 'Don Beyer (D)'), ('Defense Aerospace', 'Andy Biggs (R)'), ('Defense Aerospace', 'Rob Bishop (R)'), ('Defense Aerospace', 'Sanford Bishop (D)'), ('Defense Aerospace', 'Madeleine Z Bordallo (D)'), ('Defense Aerospace', 'Mo Brooks (R)'), ('Defense Aerospace', 'Anthony Brown (D)'), ('Defense Aerospace', 'Bradley Byrne (R)'), ('Defense Aerospace', 'Ken Calvert (R)'), ('Defense Aerospace', 'John Carter (R)'), ('Defense Aerospace', 'Joaquin Castro (D)'), ('Defense Aerospace', 'Liz Cheney (R)'), ('Defense Aerospace', 'Paul Cook (R)'), ('Defense Aerospace', 'Jim Cooper (D)'), ('Defense Aerospace', 'Joe Courtney (D)'), ('Defense Aerospace', 'Susan A Davis (D)'), ('Defense Aerospace', 'Mario Diaz-Balart (R)'), ('Defense Aerospace', 'Chuck Fleischmann (R)'), ('Defense Aerospace', 'Jeff Fortenberry (R)'), ('Defense Aerospace', 'Rodney Frelinghuysen (R)'), ('Defense Aerospace', 'Matt Gaetz (R)'), ('Defense Aerospace', 'Kay Granger (R)'), ('Defense Aerospace', 'Sam Graves (R)'), ('Defense Aerospace', 'Tom Graves (R)'), ('Defense Aerospace', 'Colleen Hanabusa (D)'), ('Defense Aerospace', 'Gregg Harper (R)'), ('Defense Aerospace', 'Vicky Hartzler (R)'), ('Defense Aerospace', 'Jody B Hice (R)'), ('Defense Aerospace', 'Jim Himes (D)'), ('Defense Aerospace', 'Duncan D Hunter (R)'), ('Health Services/HMOs', 'Ralph Abraham (R)'), ('Health Services/HMOs', 'Ami Bera (D)'), ('Health Services/HMOs', 'Gus Bilirakis (R)'), ('Health Services/HMOs', 'Diane Black (R)'), ('Health Services/HMOs', 'Earl Blumenauer (D)'), ('Health Services/HMOs', 'Kevin Brady (R)'), ('Health Services/HMOs', 'Susan Brooks (R)'), ('Health Services/HMOs', 'Julia Brownley (D)'), ('Health Services/HMOs', 'Vernon Buchanan (R)'), ('Health Services/HMOs', 'Larry Bucshon (R)'), ('Health Services/HMOs', 'Michael Burgess (R)'), ('Health Services/HMOs', 'Ryan Costello (R)'), ('Health Services/HMOs', 'Diana DeGette (D)'), ('Health Services/HMOs', 'Val Demings (D)'), ('Health Services/HMOs', 'Brett Guthrie (R)'), ('Health Services/HMOs', 'Andy Harris (R)'), ('Health Services/HMOs', 'Clay Higgins (R)'), ('Health Services/HMOs', 'Bill Johnson (R)'), ('Oil & Gas', 'Ralph Abraham (R)'), ('Oil & Gas', 'Jodey Arrington (R)'), ('Oil & Gas', 'Brian Babin (R)'), ('Oil & Gas', 'Don Bacon (R)'), ('Oil & Gas', 'Troy Balderson (R)'), ('Oil & Gas', 'Lou Barletta (R)'), ('Oil & Gas', 'Andy Barr (R)'), ('Oil & Gas', 'Joe Barton (R)'), ('Oil & Gas', 'Gus Bilirakis (R)'), ('Oil & Gas', 'Mike Bishop (R)'), ('Oil & Gas', 'Rob Bishop (R)'), ('Oil & Gas', 'Marsha Blackburn (R)'), ('Oil & Gas', 'Rod Blum (R)'), ('Oil & Gas', 'Kevin Brady (R)'), ('Oil & Gas', 'Dave Brat (R)'), ('Oil & Gas', 'Kenneth R Buck (R)'), ('Oil & Gas', 'Buddy Carter (R)'), ('Oil & Gas', 'John Carter (R)'), ('Oil & Gas', 'Liz Cheney (R)'), ('Oil & Gas', 'Michael Cloud (R)'), ('Oil & Gas', 'Mike Coffman (R)'), ('Oil & Gas', 'Tom Cole (R)'), ('Oil & Gas', 'Chris Collins (R)'), ('Oil & Gas', 'Barbara Comstock (R)'), ('Oil & Gas', 'Mike Conaway (R)'), ('Oil & Gas', 'Paul Cook (R)'), ('Oil & Gas', 'Lou Correa (D)'), ('Oil & Gas', 'Jim Costa (D)'), ('Oil & Gas', 'Kevin Cramer (R)'), ('Oil & Gas', 'Henry Cuellar (D)'), ('Oil & Gas', 'John Culberson (R)'), ('Oil & Gas', 'John Curtis (R)'), ('Oil & Gas', 'Jeff Denham (R)'), ('Oil & Gas', 'Dan Donovan (R)'), ('Oil & Gas', 'Jeff Duncan (R)'), ('Oil & Gas', 'John J Duncan Jr. (R)'), ('Oil & Gas', 'Ron Estes (R)'), ('Oil & Gas', 'John Faso (R)'), ('Oil & Gas', 'Brian Fitzpatrick (R)'), ('Oil & Gas', 'Bill Flores (R)'), ('Oil & Gas', 'Greg Gianforte (R)'), ('Oil & Gas', 'Bob Gibbs (R)'), ('Oil & Gas', 'Louis B Gohmert Jr. (R)'), ('Oil & Gas', 'Vicente Gonzalez (D)'), ('Oil & Gas', 'Paul Gosar (R)'), ('Oil & Gas', 'Kay Granger (R)'), ('Oil & Gas', 'Garret Graves (R)'), ('Oil & Gas', 'Gene Green (D)'), ('Oil & Gas', 'Morgan Griffith (R)'), ('Oil & Gas', 'Glenn S Grothman (R)'), ('Oil & Gas', 'Brett Guthrie (R)'), ('Oil & Gas', 'Karen Handel (R)'), ('Oil & Gas', 'Gregg Harper (R)'), ('Oil & Gas', 'Kevin Hern (R)'), ('Oil & Gas', 'Clay Higgins (R)'), ('Oil & Gas', 'Richard Hudson (R)'), ('Oil & Gas', 'Will Hurd (R)'), ('Oil & Gas', 'Evan Jenkins (R)'), ('Oil & Gas', 'Bill Johnson (R)'), ('Oil & Gas', 'Mike Johnson (R)'), ('Hospitals/Nursing Homes', 'Ralph Abraham (R)'), ('Hospitals/Nursing Homes', 'Diane Black (R)'), ('Hospitals/Nursing Homes', 'Vernon Buchanan (R)'), ('Hospitals/Nursing Homes', 'Michael Burgess (R)'), ('Hospitals/Nursing Homes', 'Kathy Castor (D)'), ('Hospitals/Nursing Homes', 'Joseph Crowley (D)'), ('Hospitals/Nursing Homes', 'John K Delaney (D)'), ('Hospitals/Nursing Homes', 'Lois J Frankel (D)'), ('Hospitals/Nursing Homes', 'Brett Guthrie (R)'), ('Hospitals/Nursing Homes', 'Gregg Harper (R)'), ('Hospitals/Nursing Homes', 'Brian M Higgins (D)'), ('Hospitals/Nursing Homes', 'Sheila Jackson Lee (D)'), ('Hospitals/Nursing Homes', 'Lynn Jenkins (R)'), ('Public Sector Unions', 'Alma Adams (D)'), ('Public Sector Unions', 'Pete Aguilar (D)'), ('Public Sector Unions', 'Karen Bass (D)'), ('Public Sector Unions', 'Sanford Bishop (D)'), ('Public Sector Unions', 'Suzanne Bonamici (D)'), ('Public Sector Unions', 'Madeleine Z Bordallo (D)'), ('Public Sector Unions', 'Brendan Boyle (D)'), ('Public Sector Unions', 'Robert A. Brady (D)'), ('Public Sector Unions', 'Anthony Brown (D)'), ('Public Sector Unions', 'Julia Brownley (D)'), ('Public Sector Unions', 'Andre Carson (D)'), ('Public Sector Unions', 'Matt Cartwright (D)'), ('Public Sector Unions', 'Kathy Castor (D)'), ('Public Sector Unions', 'Joaquin Castro (D)'), ('Public Sector Unions', 'Judy Chu (D)'), ('Public Sector Unions', 'Katherine Clark (D)'), ('Public Sector Unions', 'Yvette D Clarke (D)'), ('Public Sector Unions', 'William L Clay Jr. (D)'), ('Public Sector Unions', 'Emanuel Cleaver (D)'), ('Public Sector Unions', 'James E Clyburn (D)'), ('Public Sector Unions', 'Steve Cohen (D)'), ('Public Sector Unions', 'Bonnie Coleman (D)'), ('Public Sector Unions', 'Gerry Connolly (D)'), ('Public Sector Unions', 'Paul Cook (R)'), ('Public Sector Unions', 'Joe Courtney (D)'), ('Public Sector Unions', 'Elijah E Cummings (D)'), ('Public Sector Unions', 'Danny K Davis (D)'), ('Public Sector Unions', 'Susan A Davis (D)'), ('Public Sector Unions', 'Peter DeFazio (D)'), ('Public Sector Unions', 'Diana DeGette (D)'), ('Public Sector Unions', 'Rosa L DeLauro (D)'), ('Public Sector Unions', 'Mark Desaulnier (D)'), ('Public Sector Unions', 'Lloyd Doggett (D)'), ('Public Sector Unions', 'Mike Doyle (D)'), ('Public Sector Unions', 'Keith Ellison (D)'), ('Public Sector Unions', 'Eliot L Engel (D)'), ('Public Sector Unions', 'Adriano Espaillat (D)'), ('Public Sector Unions', 'Elizabeth Esty (D)'), ('Public Sector Unions', 'Dwight Evans (D)'), ('Public Sector Unions', 'Brian Fitzpatrick (R)'), ('Public Sector Unions', 'Lois J Frankel (D)'), ('Public Sector Unions', 'Marcia L Fudge (D)'), ('Public Sector Unions', 'Ruben Gallego (D)'), ('Public Sector Unions', 'John Garamendi (D)'), ('Public Sector Unions', 'Jimmy Gomez (D)'), ('Public Sector Unions', 'Sam Graves (R)'), ('Public Sector Unions', 'Raul M Grijalva (D)'), ('Public Sector Unions', 'Brian M Higgins (D)'), ('Public Sector Unions', 'Steny H Hoyer (D)'), ('Public Sector Unions', 'Jared Huffman (D)'), ('Public Sector Unions', 'Sheila Jackson Lee (D)'), ('Public Sector Unions', 'Hakeem Jeffries (D)'), ('Public Sector Unions', 'Eddie Bernice Johnson (D)'), ('Public Sector Unions', 'Hank Johnson (D)'), ('Industrial Unions', 'Alma Adams (D)'), ('Industrial Unions', 'Karen Bass (D)'), ('Industrial Unions', 'Sanford Bishop (D)'), ('Industrial Unions', 'Brendan Boyle (D)'), ('Industrial Unions', 'Robert A. Brady (D)'), ('Industrial Unions', 'Anthony Brown (D)'), ('Industrial Unions', 'G K Butterfield (D)'), ('Industrial Unions', 'Andre Carson (D)'), ('Industrial Unions', 'Matt Cartwright (D)'), ('Industrial Unions', 'Joaquin Castro (D)'), ('Industrial Unions', 'Judy Chu (D)'), ('Industrial Unions', 'William L Clay Jr. (D)'), ('Industrial Unions', 'Emanuel Cleaver (D)'), ('Industrial Unions', 'Steve Cohen (D)'), ('Industrial Unions', 'Bonnie Coleman (D)'), ('Industrial Unions', 'Joe Courtney (D)'), ('Industrial Unions', 'Elijah E Cummings (D)'), ('Industrial Unions', 'Danny K Davis (D)'), ('Industrial Unions', 'Val Demings (D)'), ('Industrial Unions', 'Mark Desaulnier (D)'), ('Industrial Unions', 'Debbie Dingell (D)'), ('Industrial Unions', 'Lloyd Doggett (D)'), ('Industrial Unions', 'Mike Doyle (D)'), ('Industrial Unions', 'Adriano Espaillat (D)'), ('Industrial Unions', 'Dwight Evans (D)'), ('Industrial Unions', 'Lois J Frankel (D)'), ('Industrial Unions', 'Marcia L Fudge (D)'), ('Industrial Unions', 'John Garamendi (D)'), ('Industrial Unions', 'Vicente Gonzalez (D)'), ('Industrial Unions', 'Al Green (D)'), ('Industrial Unions', 'Gene Green (D)'), ('Industrial Unions', 'Raul M Grijalva (D)'), ('Industrial Unions', 'Michelle Lujan Grisham (D)'), ('Industrial Unions', 'Colleen Hanabusa (D)'), ('Industrial Unions', 'Brian M Higgins (D)'), ('Industrial Unions', 'Sheila Jackson Lee (D)'), ('Industrial Unions', 'Hank Johnson (D)'), ('Building Trade Unions', 'Alma Adams (D)'), ('Building Trade Unions', 'Nanette Barragan (D)'), ('Building Trade Unions', 'Joyce Beatty (D)'), ('Building Trade Unions', 'Suzanne Bonamici (D)'), ('Building Trade Unions', 'Brendan Boyle (D)'), ('Building Trade Unions', 'Robert A. Brady (D)'), ('Building Trade Unions', 'Anthony Brown (D)'), ('Building Trade Unions', 'Andre Carson (D)'), ('Building Trade Unions', 'Matt Cartwright (D)'), ('Building Trade Unions', 'Joaquin Castro (D)'), ('Building Trade Unions', 'Judy Chu (D)'), ('Building Trade Unions', 'David Cicilline (D)'), ('Building Trade Unions', 'Katherine Clark (D)'), ('Building Trade Unions', 'Yvette D Clarke (D)'), ('Building Trade Unions', 'William L Clay Jr. (D)'), ('Building Trade Unions', 'Emanuel Cleaver (D)'), ('Building Trade Unions', 'James E Clyburn (D)'), ('Building Trade Unions', 'Bonnie Coleman (D)'), ('Building Trade Unions', 'Paul Cook (R)'), ('Building Trade Unions', 'Jim Cooper (D)'), ('Building Trade Unions', 'Lou Correa (D)'), ('Building Trade Unions', 'Joe Courtney (D)'), ('Building Trade Unions', 'Charlie Crist (D)'), ('Building Trade Unions', 'Elijah E Cummings (D)'), ('Building Trade Unions', 'Peter DeFazio (D)'), ('Building Trade Unions', 'Rosa L DeLauro (D)'), ('Building Trade Unions', 'Mark Desaulnier (D)'), ('Building Trade Unions', 'Debbie Dingell (D)'), ('Building Trade Unions', 'Lloyd Doggett (D)'), ('Building Trade Unions', 'Mike Doyle (D)'), ('Building Trade Unions', 'Adriano Espaillat (D)'), ('Building Trade Unions', 'Dwight Evans (D)'), ('Building Trade Unions', 'Bill Foster (D)'), ('Building Trade Unions', 'Lois J Frankel (D)'), ('Building Trade Unions', 'Marcia L Fudge (D)'), ('Building Trade Unions', 'Ruben Gallego (D)'), ('Building Trade Unions', 'John Garamendi (D)'), ('Building Trade Unions', 'Jimmy Gomez (D)'), ('Building Trade Unions', 'Vicente Gonzalez (D)'), ('Building Trade Unions', 'Al Green (D)'), ('Building Trade Unions', 'Gene Green (D)'), ('Building Trade Unions', 'Raul M Grijalva (D)'), ('Building Trade Unions', 'Colleen Hanabusa (D)'), ('Building Trade Unions', 'Dennis Heck (D)'), ('Building Trade Unions', 'Brian M Higgins (D)'), ('Building Trade Unions', 'Jared Huffman (D)'), ('Building Trade Unions', 'Sheila Jackson Lee (D)'), ('Building Trade Unions', 'Pramila Jayapal (D)'), ('Building Trade Unions', 'Hakeem Jeffries (D)'), ('Building Trade Unions', 'Eddie Bernice Johnson (D)'), ('Building Trade Unions', 'Hank Johnson (D)'), ('Insurance', 'Alma Adams (D)'), ('Insurance', 'Pete Aguilar (D)'), ('Insurance', 'Richard W Allen (R)'), ('Insurance', 'Don Bacon (R)'), ('Insurance', 'Troy Balderson (R)'), ('Insurance', 'Jim Banks (R)'), ('Insurance', 'Andy Barr (R)'), ('Insurance', 'Joyce Beatty (D)'), ('Insurance', 'Ami Bera (D)'), ('Insurance', 'Gus Bilirakis (R)'), ('Insurance', 'Mike Bishop (R)'), ('Insurance', 'Diane Black (R)'), ('Insurance', 'Rod Blum (R)'), ('Insurance', 'Earl Blumenauer (D)'), ('Insurance', 'Suzanne Bonamici (D)'), ('Insurance', 'Mike Bost (R)'), ('Insurance', 'Brendan Boyle (D)'), ('Insurance', 'Kevin Brady (R)'), ('Insurance', 'Susan Brooks (R)'), ('Insurance', 'Vernon Buchanan (R)'), ('Insurance', 'Larry Bucshon (R)'), ('Insurance', 'Ted Budd (R)'), ('Insurance', 'Michael Burgess (R)'), ('Insurance', 'Cheri Bustos (D)'), ('Insurance', 'Bradley Byrne (R)'), ('Insurance', 'Andre Carson (D)'), ('Insurance', 'Buddy Carter (R)'), ('Insurance', 'Matt Cartwright (D)'), ('Insurance', 'Kathy Castor (D)'), ('Insurance', 'Joaquin Castro (D)'), ('Insurance', 'Steve Chabot (R)'), ('Insurance', 'Judy Chu (D)'), ('Insurance', 'Yvette D Clarke (D)'), ('Insurance', 'William L Clay Jr. (D)'), ('Insurance', 'Emanuel Cleaver (D)'), ('Insurance', 'James E Clyburn (D)'), ('Insurance', 'Tom Cole (R)'), ('Insurance', 'Barbara Comstock (R)'), ('Insurance', 'Lou Correa (D)'), ('Insurance', 'Ryan Costello (R)'), ('Insurance', 'Joe Courtney (D)'), ('Insurance', 'Joseph Crowley (D)'), ('Insurance', 'Henry Cuellar (D)'), ('Insurance', 'Carlos Curbelo (R)'), ('Insurance', 'Warren Davidson (R)'), ('Insurance', 'Danny K Davis (D)'), ('Insurance', 'Rodney Davis (R)'), ('Insurance', 'Diana DeGette (D)'), ('Insurance', 'John K Delaney (D)'), ('Insurance', 'Suzan DelBene (D)'), ('Insurance', 'Val Demings (D)'), ('Insurance', 'Dan Donovan (R)'), ('Insurance', 'Sean P Duffy (R)'), ('Insurance', 'Jeff Duncan (R)'), ('Insurance', 'Neal Dunn (R)'), ('Insurance', 'Tom Emmer (R)'), ('Insurance', 'Dwight Evans (D)'), ('Insurance', 'John Faso (R)'), ('Insurance', 'Drew Ferguson (R)'), ('Insurance', 'Brian Fitzpatrick (R)'), ('Insurance', 'Chuck Fleischmann (R)'), ('Insurance', 'Bill Flores (R)'), ('Insurance', 'Jeff Fortenberry (R)'), ('Insurance', 'Bill Foster (D)'), ('Insurance', 'Virginia Foxx (R)'), ('Insurance', 'Marcia L Fudge (D)'), ('Insurance', 'Mike Gallagher (R)'), ('Insurance', 'Tom Garrett (R)'), ('Insurance', 'Bob Gibbs (R)'), ('Insurance', 'Louis B Gohmert Jr. (R)'), ('Insurance', 'Vicente Gonzalez (D)'), ('Insurance', 'Josh Gottheimer (D)'), ('Insurance', 'Trey Gowdy (R)'), ('Insurance', 'Garret Graves (R)'), ('Insurance', 'Tom Graves (R)'), ('Insurance', 'Glenn S Grothman (R)'), ('Insurance', 'Brett Guthrie (R)'), ('Insurance', 'Karen Handel (R)'), ('Insurance', 'Gregg Harper (R)'), ('Insurance', 'Dennis Heck (D)'), ('Insurance', 'Jeb Hensarling (R)'), ('Insurance', 'Kevin Hern (R)'), ('Insurance', 'Jody B Hice (R)'), ('Insurance', 'Brian M Higgins (D)'), ('Insurance', 'French Hill (R)'), ('Insurance', 'Jim Himes (D)'), ('Insurance', 'George Holding (R)'), ('Insurance', 'Trey Hollingsworth (R)'), ('Insurance', 'Steny H Hoyer (D)'), ('Insurance', 'Richard Hudson (R)'), ('Insurance', 'Bill Huizenga (R)'), ('Insurance', 'Randy Hultgren (R)'), ('Insurance', 'Will Hurd (R)'), ('Insurance', 'Hakeem Jeffries (D)'), ('Insurance', 'Bill Johnson (R)'), ('Insurance', 'Hank Johnson (D)'), ('Insurance', 'Mike Johnson (R)'), ('Securities & Investment', 'Alma Adams (D)'), ('Securities & Investment', 'Pete Aguilar (D)'), ('Securities & Investment', 'Richard W Allen (R)'), ('Securities & Investment', 'Justin Amash (R)'), ('Securities & Investment', 'Don Bacon (R)'), ('Securities & Investment', 'Jim Banks (R)'), ('Securities & Investment', 'Andy Barr (R)'), ('Securities & Investment', 'Nanette Barragan (D)'), ('Securities & Investment', 'Karen Bass (D)'), ('Securities & Investment', 'Joyce Beatty (D)'), ('Securities & Investment', 'Ami Bera (D)'), ('Securities & Investment', 'Jaime Herrera Beutler (R)'), ('Securities & Investment', 'Don Beyer (D)'), ('Securities & Investment', 'Mike Bishop (R)'), ('Securities & Investment', 'Rob Bishop (R)'), ('Securities & Investment', 'Marsha Blackburn (R)'), ('Securities & Investment', 'Rod Blum (R)'), ('Securities & Investment', 'Earl Blumenauer (D)'), ('Securities & Investment', 'Mike Bost (R)'), ('Securities & Investment', 'Brendan Boyle (D)'), ('Securities & Investment', 'Kevin Brady (R)'), ('Securities & Investment', 'Dave Brat (R)'), ('Securities & Investment', 'Mo Brooks (R)'), ('Securities & Investment', 'Susan Brooks (R)'), ('Securities & Investment', 'Vernon Buchanan (R)'), ('Securities & Investment', 'Ted Budd (R)'), ('Securities & Investment', 'Cheri Bustos (D)'), ('Securities & Investment', 'Salud Carbajal (D)'), ('Securities & Investment', 'Matt Cartwright (D)'), ('Securities & Investment', 'Joaquin Castro (D)'), ('Securities & Investment', 'Liz Cheney (R)'), ('Securities & Investment', 'David Cicilline (D)'), ('Securities & Investment', 'Katherine Clark (D)'), ('Securities & Investment', 'William L Clay Jr. (D)'), ('Securities & Investment', 'Emanuel Cleaver (D)'), ('Securities & Investment', 'James E Clyburn (D)'), ('Securities & Investment', 'Mike Coffman (R)'), ('Securities & Investment', 'Barbara Comstock (R)'), ('Securities & Investment', 'Mike Conaway (R)'), ('Securities & Investment', 'Gerry Connolly (D)'), ('Securities & Investment', 'Jim Cooper (D)'), ('Securities & Investment', 'Jim Costa (D)'), ('Securities & Investment', 'Ryan Costello (R)'), ('Securities & Investment', 'Kevin Cramer (R)'), ('Securities & Investment', 'Charlie Crist (D)'), ('Securities & Investment', 'Joseph Crowley (D)'), ('Securities & Investment', 'John Culberson (R)'), ('Securities & Investment', 'Carlos Curbelo (R)'), ('Securities & Investment', 'John Curtis (R)'), ('Securities & Investment', 'Warren Davidson (R)'), ('Securities & Investment', 'Danny K Davis (D)'), ('Securities & Investment', 'Rodney Davis (R)'), ('Securities & Investment', 'Susan A Davis (D)'), ('Securities & Investment', 'Diana DeGette (D)'), ('Securities & Investment', 'John K Delaney (D)'), ('Securities & Investment', 'Suzan DelBene (D)'), ('Securities & Investment', 'Jeff Denham (R)'), ('Securities & Investment', 'Scott Desjarlais (R)'), ('Securities & Investment', 'Ted Deutch (D)'), ('Securities & Investment', 'Dan Donovan (R)'), ('Securities & Investment', 'Sean P Duffy (R)'), ('Securities & Investment', 'Keith Ellison (D)'), ('Securities & Investment', 'Tom Emmer (R)'), ('Securities & Investment', 'Eliot L Engel (D)'), ('Securities & Investment', 'Anna Eshoo (D)'), ('Securities & Investment', 'Adriano Espaillat (D)'), ('Securities & Investment', 'Elizabeth Esty (D)'), ('Securities & Investment', 'John Faso (R)'), ('Securities & Investment', 'Brian Fitzpatrick (R)'), ('Securities & Investment', 'Bill Foster (D)'), ('Securities & Investment', 'Virginia Foxx (R)'), ('Securities & Investment', 'Rodney Frelinghuysen (R)'), ('Securities & Investment', 'Mike Gallagher (R)'), ('Securities & Investment', 'Greg Gianforte (R)'), ('Securities & Investment', 'Louis B Gohmert Jr. (R)'), ('Securities & Investment', 'Vicente Gonzalez (D)'), ('Securities & Investment', 'Josh Gottheimer (D)'), ('Securities & Investment', 'Tom Graves (R)'), ('Securities & Investment', 'Glenn S Grothman (R)'), ('Securities & Investment', 'Karen Handel (R)'), ('Securities & Investment', 'Andy Harris (R)'), ('Securities & Investment', 'Vicky Hartzler (R)'), ('Securities & Investment', 'Dennis Heck (D)'), ('Securities & Investment', 'Jeb Hensarling (R)'), ('Securities & Investment', 'Brian M Higgins (D)'), ('Securities & Investment', 'French Hill (R)'), ('Securities & Investment', 'Jim Himes (D)'), ('Securities & Investment', 'George Holding (R)'), ('Securities & Investment', 'Trey Hollingsworth (R)'), ('Securities & Investment', 'Steny H Hoyer (D)'), ('Securities & Investment', 'Richard Hudson (R)'), ('Securities & Investment', 'Jared Huffman (D)'), ('Securities & Investment', 'Bill Huizenga (R)'), ('Securities & Investment', 'Randy Hultgren (R)'), ('Securities & Investment', 'Will Hurd (R)'), ('Securities & Investment', 'Darrell Issa (R)'), ('Securities & Investment', 'Pramila Jayapal (D)'), ('Securities & Investment', 'Hakeem Jeffries (D)'), ('Securities & Investment', 'Evan Jenkins (R)'), ('Securities & Investment', 'Brenda Jones (D)'), ('Lawyers/Law Firms', 'Alma Adams (D)'), ('Lawyers/Law Firms', 'Robert B Aderholt (R)'), ('Lawyers/Law Firms', 'Pete Aguilar (D)'), ('Lawyers/Law Firms', 'Mark Amodei (R)'), ('Lawyers/Law Firms', 'Jodey Arrington (R)'), ('Lawyers/Law Firms', 'Brian Babin (R)'), ('Lawyers/Law Firms', 'Troy Balderson (R)'), ('Lawyers/Law Firms', 'Lou Barletta (R)'), ('Lawyers/Law Firms', 'Andy Barr (R)'), ('Lawyers/Law Firms', 'Nanette Barragan (D)'), ('Lawyers/Law Firms', 'Joe Barton (R)'), ('Lawyers/Law Firms', 'Karen Bass (D)'), ('Lawyers/Law Firms', 'Joyce Beatty (D)'), ('Lawyers/Law Firms', 'Ami Bera (D)'), ('Lawyers/Law Firms', 'Don Beyer (D)'), ('Lawyers/Law Firms', 'Gus Bilirakis (R)'), ('Lawyers/Law Firms', 'Mike Bishop (R)'), ('Lawyers/Law Firms', 'Rob Bishop (R)'), ('Lawyers/Law Firms', 'Sanford Bishop (D)'), ('Lawyers/Law Firms', 'Marsha Blackburn (R)'), ('Lawyers/Law Firms', 'Earl Blumenauer (D)'), ('Lawyers/Law Firms', 'Suzanne Bonamici (D)'), ('Lawyers/Law Firms', 'Brendan Boyle (D)'), ('Lawyers/Law Firms', 'Kevin Brady (R)'), ('Lawyers/Law Firms', 'Robert A. Brady (D)'), ('Lawyers/Law Firms', 'Dave Brat (R)'), ('Lawyers/Law Firms', 'Mo Brooks (R)'), ('Lawyers/Law Firms', 'Susan Brooks (R)'), ('Lawyers/Law Firms', 'Anthony Brown (D)'), ('Lawyers/Law Firms', 'Julia Brownley (D)'), ('Lawyers/Law Firms', 'Larry Bucshon (R)'), ('Lawyers/Law Firms', 'Michael Burgess (R)'), ('Lawyers/Law Firms', 'Cheri Bustos (D)'), ('Lawyers/Law Firms', 'G K Butterfield (D)'), ('Lawyers/Law Firms', 'Bradley Byrne (R)'), ('Lawyers/Law Firms', 'Ken Calvert (R)'), ('Lawyers/Law Firms', 'Salud Carbajal (D)'), ('Lawyers/Law Firms', 'Tony Cardenas (D)'), ('Lawyers/Law Firms', 'Andre Carson (D)'), ('Lawyers/Law Firms', 'Buddy Carter (R)'), ('Lawyers/Law Firms', 'John Carter (R)'), ('Lawyers/Law Firms', 'Matt Cartwright (D)'), ('Lawyers/Law Firms', 'Kathy Castor (D)'), ('Lawyers/Law Firms', 'Joaquin Castro (D)'), ('Lawyers/Law Firms', 'Steve Chabot (R)'), ('Lawyers/Law Firms', 'Judy Chu (D)'), ('Lawyers/Law Firms', 'David Cicilline (D)'), ('Lawyers/Law Firms', 'Katherine Clark (D)'), ('Lawyers/Law Firms', 'Yvette D Clarke (D)'), ('Lawyers/Law Firms', 'William L Clay Jr. (D)'), ('Lawyers/Law Firms', 'Emanuel Cleaver (D)'), ('Lawyers/Law Firms', 'James E Clyburn (D)'), ('Lawyers/Law Firms', 'Mike Coffman (R)'), ('Lawyers/Law Firms', 'Steve Cohen (D)'), ('Lawyers/Law Firms', 'Tom Cole (R)'), ('Lawyers/Law Firms', 'Bonnie Coleman (D)'), ('Lawyers/Law Firms', 'Chris Collins (R)'), ('Lawyers/Law Firms', 'Doug Collins (R)'), ('Lawyers/Law Firms', 'James Comer (R)'), ('Lawyers/Law Firms', 'Barbara Comstock (R)'), ('Lawyers/Law Firms', 'Gerry Connolly (D)'), ('Lawyers/Law Firms', 'Jim Cooper (D)'), ('Lawyers/Law Firms', 'Lou Correa (D)'), ('Lawyers/Law Firms', 'Ryan Costello (R)'), ('Lawyers/Law Firms', 'Joe Courtney (D)'), ('Lawyers/Law Firms', 'Charlie Crist (D)'), ('Lawyers/Law Firms', 'Joseph Crowley (D)'), ('Lawyers/Law Firms', 'Henry Cuellar (D)'), ('Lawyers/Law Firms', 'John Culberson (R)'), ('Lawyers/Law Firms', 'Elijah E Cummings (D)'), ('Lawyers/Law Firms', 'Carlos Curbelo (R)'), ('Lawyers/Law Firms', 'John Curtis (R)'), ('Lawyers/Law Firms', 'Rodney Davis (R)'), ('Lawyers/Law Firms', 'Susan A Davis (D)'), ('Lawyers/Law Firms', 'Diana DeGette (D)'), ('Lawyers/Law Firms', 'John K Delaney (D)'), ('Lawyers/Law Firms', 'Rosa L DeLauro (D)'), ('Lawyers/Law Firms', 'Suzan DelBene (D)'), ('Lawyers/Law Firms', 'Val Demings (D)'), ('Lawyers/Law Firms', 'Jeff Denham (R)'), ('Lawyers/Law Firms', 'Mark Desaulnier (D)'), ('Lawyers/Law Firms', 'Scott Desjarlais (R)'), ('Lawyers/Law Firms', 'Ted Deutch (D)'), ('Lawyers/Law Firms', 'Mario Diaz-Balart (R)'), ('Lawyers/Law Firms', 'Debbie Dingell (D)'), ('Lawyers/Law Firms', 'Lloyd Doggett (D)'), ('Lawyers/Law Firms', 'Dan Donovan (R)'), ('Lawyers/Law Firms', 'Mike Doyle (D)'), ('Lawyers/Law Firms', 'Sean P Duffy (R)'), ('Lawyers/Law Firms', 'Jeff Duncan (R)'), ('Lawyers/Law Firms', 'John J Duncan Jr. (R)'), ('Lawyers/Law Firms', 'Keith Ellison (D)'), ('Lawyers/Law Firms', 'Tom Emmer (R)'), ('Lawyers/Law Firms', 'Eliot L Engel (D)'), ('Lawyers/Law Firms', 'Anna Eshoo (D)'), ('Lawyers/Law Firms', 'Adriano Espaillat (D)'), ('Lawyers/Law Firms', 'Ron Estes (R)'), ('Lawyers/Law Firms', 'Elizabeth Esty (D)'), ('Lawyers/Law Firms', 'Dwight Evans (D)'), ('Lawyers/Law Firms', 'John Faso (R)'), ('Lawyers/Law Firms', 'Drew Ferguson (R)'), ('Lawyers/Law Firms', 'Brian Fitzpatrick (R)'), ('Lawyers/Law Firms', 'Chuck Fleischmann (R)'), ('Lawyers/Law Firms', 'Jeff Fortenberry (R)'), ('Lawyers/Law Firms', 'Bill Foster (D)'), ('Lawyers/Law Firms', 'Virginia Foxx (R)'), ('Lawyers/Law Firms', 'Lois J Frankel (D)'), ('Lawyers/Law Firms', 'Marcia L Fudge (D)'), ('Lawyers/Law Firms', 'Matt Gaetz (R)'), ('Lawyers/Law Firms', 'Mike Gallagher (R)'), ('Lawyers/Law Firms', 'Ruben Gallego (D)'), ('Lawyers/Law Firms', 'John Garamendi (D)'), ('Lawyers/Law Firms', 'Tom Garrett (R)'), ('Lawyers/Law Firms', 'Bob Gibbs (R)'), ('Lawyers/Law Firms', 'Jimmy Gomez (D)'), ('Lawyers/Law Firms', 'Jenniffer Gonzalez (3)'), ('Lawyers/Law Firms', 'Vicente Gonzalez (D)'), ('Lawyers/Law Firms', 'Bob Goodlatte (R)'), ('Lawyers/Law Firms', 'Josh Gottheimer (D)'), ('Lawyers/Law Firms', 'Trey Gowdy (R)'), ('Lawyers/Law Firms', 'Kay Granger (R)'), ('Lawyers/Law Firms', 'Garret Graves (R)'), ('Lawyers/Law Firms', 'Al Green (D)'), ('Lawyers/Law Firms', 'Gene Green (D)'), ('Lawyers/Law Firms', 'Morgan Griffith (R)'), ('Lawyers/Law Firms', 'Raul M Grijalva (D)'), ('Lawyers/Law Firms', 'Michelle Lujan Grisham (D)'), ('Lawyers/Law Firms', 'Glenn S Grothman (R)'), ('Lawyers/Law Firms', 'Brett Guthrie (R)'), ('Lawyers/Law Firms', 'Colleen Hanabusa (D)'), ('Lawyers/Law Firms', 'Karen Handel (R)'), ('Lawyers/Law Firms', 'Alcee L Hastings (D)'), ('Lawyers/Law Firms', 'Dennis Heck (D)'), ('Lawyers/Law Firms', 'Jeb Hensarling (R)'), ('Lawyers/Law Firms', 'Brian M Higgins (D)'), ('Lawyers/Law Firms', 'Clay Higgins (R)'), ('Lawyers/Law Firms', 'French Hill (R)'), ('Lawyers/Law Firms', 'Jim Himes (D)'), ('Lawyers/Law Firms', 'George Holding (R)'), ('Lawyers/Law Firms', 'Trey Hollingsworth (R)'), ('Lawyers/Law Firms', 'Steny H Hoyer (D)'), ('Lawyers/Law Firms', 'Jared Huffman (D)'), ('Lawyers/Law Firms', 'Bill Huizenga (R)'), ('Lawyers/Law Firms', 'Duncan D Hunter (R)'), ('Lawyers/Law Firms', 'Will Hurd (R)'), ('Lawyers/Law Firms', 'Sheila Jackson Lee (D)'), ('Lawyers/Law Firms', 'Pramila Jayapal (D)'), ('Lawyers/Law Firms', 'Hakeem Jeffries (D)'), ('Lawyers/Law Firms', 'Evan Jenkins (R)'), ('Lawyers/Law Firms', 'Eddie Bernice Johnson (D)'), ('Lawyers/Law Firms', 'Hank Johnson (D)'), ('Lawyers/Law Firms', 'Mike Johnson (R)'), ('Lawyers/Law Firms', 'Brenda Jones (D)'), ('Electric Utilities', 'Alma Adams (D)'), ('Electric Utilities', 'Joe Barton (R)'), ('Electric Utilities', 'Joyce Beatty (D)'), ('Electric Utilities', 'John Bergman (R)'), ('Electric Utilities', 'Gus Bilirakis (R)'), ('Electric Utilities', 'Kevin Brady (R)'), ('Electric Utilities', 'Larry Bucshon (R)'), ('Electric Utilities', 'G K Butterfield (D)'), ('Electric Utilities', 'Ken Calvert (R)'), ('Electric Utilities', 'Tony Cardenas (D)'), ('Electric Utilities', 'Liz Cheney (R)'), ('Electric Utilities', 'Yvette D Clarke (D)'), ('Electric Utilities', 'James E Clyburn (D)'), ('Electric Utilities', 'Tom Cole (R)'), ('Electric Utilities', 'Chris Collins (R)'), ('Electric Utilities', 'Jim Costa (D)'), ('Electric Utilities', 'Danny K Davis (D)'), ('Electric Utilities', 'Debbie Dingell (D)'), ('Electric Utilities', 'Mike Doyle (D)'), ('Electric Utilities', 'Jeff Duncan (R)'), ('Electric Utilities', 'Chuck Fleischmann (R)'), ('Electric Utilities', 'Bill Flores (R)'), ('Electric Utilities', 'Jeff Fortenberry (R)'), ('Electric Utilities', 'Rodney Frelinghuysen (R)'), ('Electric Utilities', 'Marcia L Fudge (D)'), ('Electric Utilities', 'Tom Garrett (R)'), ('Electric Utilities', 'Bob Gibbs (R)'), ('Electric Utilities', 'Paul Gosar (R)'), ('Electric Utilities', 'Morgan Griffith (R)'), ('Electric Utilities', 'Gregg Harper (R)'), ('Electric Utilities', 'Steny H Hoyer (D)'), ('Electric Utilities', 'Randy Hultgren (R)'), ('Electric Utilities', 'Bill Johnson (R)'), ('Misc Defense', 'Robert B Aderholt (R)'), ('Misc Defense', 'Jim Banks (R)'), ('Misc Defense', 'Madeleine Z Bordallo (D)'), ('Misc Defense', 'Mo Brooks (R)'), ('Misc Defense', 'Anthony Brown (D)'), ('Misc Defense', 'Bradley Byrne (R)'), ('Misc Defense', 'Gerry Connolly (D)'), ('Misc Defense', 'Paul Cook (R)'), ('Misc Defense', 'Joe Courtney (D)'), ('Misc Defense', 'Susan A Davis (D)'), ('Misc Defense', 'Rodney Frelinghuysen (R)'), ('Misc Defense', 'Kay Granger (R)'), ('Misc Defense', 'Sam Graves (R)'), ('Misc Defense', 'Colleen Hanabusa (D)'), ('Misc Defense', 'Duncan D Hunter (R)'), ('Misc Manufacturing & Distributing', 'Robert B Aderholt (R)'), ('Misc Manufacturing & Distributing', 'Justin Amash (R)'), ('Misc Manufacturing & Distributing', 'Don Bacon (R)'), ('Misc Manufacturing & Distributing', 'Lou Barletta (R)'), ('Misc Manufacturing & Distributing', 'Joe Barton (R)'), ('Misc Manufacturing & Distributing', 'Andy Biggs (R)'), ('Misc Manufacturing & Distributing', 'Mike Bishop (R)'), ('Misc Manufacturing & Distributing', 'Rob Bishop (R)'), ('Misc Manufacturing & Distributing', 'Diane Black (R)'), ('Misc Manufacturing & Distributing', 'Earl Blumenauer (D)'), ('Misc Manufacturing & Distributing', 'Suzanne Bonamici (D)'), ('Misc Manufacturing & Distributing', 'Ted Budd (R)'), ('Misc Manufacturing & Distributing', 'Ken Calvert (R)'), ('Misc Manufacturing & Distributing', 'Steve Chabot (R)'), ('Misc Manufacturing & Distributing', 'David Cicilline (D)'), ('Misc Manufacturing & Distributing', 'Jim Cooper (D)'), ('Misc Manufacturing & Distributing', 'John Culberson (R)'), ('Misc Manufacturing & Distributing', 'Warren Davidson (R)'), ('Misc Manufacturing & Distributing', 'Scott Desjarlais (R)'), ('Misc Manufacturing & Distributing', 'Dan Donovan (R)'), ('Misc Manufacturing & Distributing', 'Sean P Duffy (R)'), ('Misc Manufacturing & Distributing', 'Tulsi Gabbard (D)'), ('Misc Manufacturing & Distributing', 'Mike Gallagher (R)'), ('Misc Manufacturing & Distributing', 'Bob Gibbs (R)'), ('Misc Manufacturing & Distributing', 'Glenn S Grothman (R)'), ('Misc Manufacturing & Distributing', 'Colleen Hanabusa (D)'), ('Misc Manufacturing & Distributing', 'Vicky Hartzler (R)'), ('Misc Manufacturing & Distributing', 'Jody B Hice (R)'), ('Misc Manufacturing & Distributing', 'Jim Himes (D)'), ('Misc Manufacturing & Distributing', 'Bill Huizenga (R)'), ('Misc Manufacturing & Distributing', 'Evan Jenkins (R)'), ('Food Processing & Sales', 'Robert B Aderholt (R)'), ('Food Processing & Sales', 'Justin Amash (R)'), ('Food Processing & Sales', 'Sanford Bishop (D)'), ('Food Processing & Sales', 'Steve Chabot (R)'), ('Food Processing & Sales', 'Mike Conaway (R)'), ('Food Processing & Sales', 'Jim Costa (D)'), ('Food Processing & Sales', 'Scott Desjarlais (R)'), ('Food Processing & Sales', 'Chuck Fleischmann (R)'), ('Food Processing & Sales', 'Andy Harris (R)'), ('Defense Electronics', 'Robert B Aderholt (R)'), ('Defense Electronics', 'Jim Banks (R)'), ('Defense Electronics', 'Madeleine Z Bordallo (D)'), ('Defense Electronics', 'Ken Calvert (R)'), ('Defense Electronics', 'John Carter (R)'), ('Defense Electronics', 'Susan A Davis (D)'), ('Defense Electronics', 'Mario Diaz-Balart (R)'), ('Defense Electronics', 'Rodney Frelinghuysen (R)'), ('Defense Electronics', 'Kay Granger (R)'), ('Defense Electronics', 'Tom Graves (R)'), ('Defense Electronics', 'Vicky Hartzler (R)'), ('Defense Electronics', 'Duncan D Hunter (R)'), ('Lobbyists', 'Robert B Aderholt (R)'), ('Lobbyists', 'Mark Amodei (R)'), ('Lobbyists', 'Jodey Arrington (R)'), ('Lobbyists', 'Joe Barton (R)'), ('Lobbyists', 'Karen Bass (D)'), ('Lobbyists', 'Don Beyer (D)'), ('Lobbyists', 'Andy Biggs (R)'), ('Lobbyists', 'Rob Bishop (R)'), ('Lobbyists', 'Diane Black (R)'), ('Lobbyists', 'Marsha Blackburn (R)'), ('Lobbyists', 'Suzanne Bonamici (D)'), ('Lobbyists', 'Kevin Brady (R)'), ('Lobbyists', 'Susan Brooks (R)'), ('Lobbyists', 'Vernon Buchanan (R)'), ('Lobbyists', 'Kenneth R Buck (R)'), ('Lobbyists', 'Michael Burgess (R)'), ('Lobbyists', 'Ken Calvert (R)'), ('Lobbyists', 'Tony Cardenas (D)'), ('Lobbyists', 'Buddy Carter (R)'), ('Lobbyists', 'John Carter (R)'), ('Lobbyists', 'Liz Cheney (R)'), ('Lobbyists', 'Tom Cole (R)'), ('Lobbyists', 'Doug Collins (R)'), ('Lobbyists', 'James Comer (R)'), ('Lobbyists', 'Barbara Comstock (R)'), ('Lobbyists', 'Gerry Connolly (D)'), ('Lobbyists', 'Ryan Costello (R)'), ('Lobbyists', 'Joseph Crowley (D)'), ('Lobbyists', 'Carlos Curbelo (R)'), ('Lobbyists', 'Warren Davidson (R)'), ('Lobbyists', 'Peter DeFazio (D)'), ('Lobbyists', 'Rosa L DeLauro (D)'), ('Lobbyists', 'Mario Diaz-Balart (R)'), ('Lobbyists', 'Sean P Duffy (R)'), ('Lobbyists', 'Jeff Duncan (R)'), ('Lobbyists', 'John J Duncan Jr. (R)'), ('Lobbyists', 'John Faso (R)'), ('Lobbyists', 'Virginia Foxx (R)'), ('Lobbyists', 'Rodney Frelinghuysen (R)'), ('Lobbyists', 'Matt Gaetz (R)'), ('Lobbyists', 'Jimmy Gomez (D)'), ('Lobbyists', 'Jenniffer Gonzalez (3)'), ('Lobbyists', 'Bob Goodlatte (R)'), ('Lobbyists', 'Kay Granger (R)'), ('Lobbyists', 'Garret Graves (R)'), ('Lobbyists', 'Tom Graves (R)'), ('Lobbyists', 'Brett Guthrie (R)'), ('Lobbyists', 'Gregg Harper (R)'), ('Lobbyists', 'Jeb Hensarling (R)'), ('Lobbyists', 'Clay Higgins (R)'), ('Lobbyists', 'French Hill (R)'), ('Lobbyists', 'George Holding (R)'), ('Lobbyists', 'Steny H Hoyer (D)'), ('Lobbyists', 'Duncan D Hunter (R)'), ('Commercial Banks', 'Robert B Aderholt (R)'), ('Commercial Banks', 'Richard W Allen (R)'), ('Commercial Banks', 'Jodey Arrington (R)'), ('Commercial Banks', 'Troy Balderson (R)'), ('Commercial Banks', 'Andy Barr (R)'), ('Commercial Banks', 'Joyce Beatty (D)'), ('Commercial Banks', 'Sanford Bishop (D)'), ('Commercial Banks', 'Ted Budd (R)'), ('Commercial Banks', 'John Carter (R)'), ('Commercial Banks', 'William L Clay Jr. (D)'), ('Commercial Banks', 'James E Clyburn (D)'), ('Commercial Banks', 'Mike Coffman (R)'), ('Commercial Banks', 'James Comer (R)'), ('Commercial Banks', 'Mike Conaway (R)'), ('Commercial Banks', 'Kevin Cramer (R)'), ('Commercial Banks', 'Rick Crawford (R)'), ('Commercial Banks', 'Joseph Crowley (D)'), ('Commercial Banks', 'John Curtis (R)'), ('Commercial Banks', 'Warren Davidson (R)'), ('Commercial Banks', 'John K Delaney (D)'), ('Commercial Banks', 'Sean P Duffy (R)'), ('Commercial Banks', 'Neal Dunn (R)'), ('Commercial Banks', 'Tom Emmer (R)'), ('Commercial Banks', 'Jeff Fortenberry (R)'), ('Commercial Banks', 'Bill Foster (D)'), ('Commercial Banks', 'Virginia Foxx (R)'), ('Commercial Banks', 'Tom Garrett (R)'), ('Commercial Banks', 'Louis B Gohmert Jr. (R)'), ('Commercial Banks', 'Vicente Gonzalez (D)'), ('Commercial Banks', 'Tom Graves (R)'), ('Commercial Banks', 'Al Green (D)'), ('Commercial Banks', 'Alcee L Hastings (D)'), ('Commercial Banks', 'Dennis Heck (D)'), ('Commercial Banks', 'Jeb Hensarling (R)'), ('Commercial Banks', 'Kevin Hern (R)'), ('Commercial Banks', 'Jody B Hice (R)'), ('Commercial Banks', 'French Hill (R)'), ('Commercial Banks', 'Jim Himes (D)'), ('Commercial Banks', 'George Holding (R)'), ('Commercial Banks', 'Trey Hollingsworth (R)'), ('Commercial Banks', 'Bill Huizenga (R)'), ('Commercial Banks', 'Randy Hultgren (R)'), ('Commercial Banks', 'Will Hurd (R)'), ('Commercial Banks', 'Brenda Jones (D)'), ('Retired', 'Pete Aguilar (D)'), ('Retired', 'Richard W Allen (R)'), ('Retired', 'Justin Amash (R)'), ('Retired', 'Mark Amodei (R)'), ('Retired', 'Jodey Arrington (R)'), ('Retired', 'Brian Babin (R)'), ('Retired', 'Don Bacon (R)'), ('Retired', 'Troy Balderson (R)'), ('Retired', 'Lou Barletta (R)'), ('Retired', 'Andy Barr (R)'), ('Retired', 'Nanette Barragan (D)'), ('Retired', 'Karen Bass (D)'), ('Retired', 'Ami Bera (D)'), ('Retired', 'John Bergman (R)'), ('Retired', 'Jaime Herrera Beutler (R)'), ('Retired', 'Don Beyer (D)'), ('Retired', 'Andy Biggs (R)'), ('Retired', 'Gus Bilirakis (R)'), ('Retired', 'Rob Bishop (R)'), ('Retired', 'Marsha Blackburn (R)'), ('Retired', 'Rod Blum (R)'), ('Retired', 'Earl Blumenauer (D)'), ('Retired', 'Suzanne Bonamici (D)'), ('Retired', 'Mike Bost (R)'), ('Retired', 'Robert A. Brady (D)'), ('Retired', 'Dave Brat (R)'), ('Retired', 'Mo Brooks (R)'), ('Retired', 'Julia Brownley (D)'), ('Retired', 'Vernon Buchanan (R)'), ('Retired', 'Kenneth R Buck (R)'), ('Retired', 'Ted Budd (R)'), ('Retired', 'Michael Burgess (R)'), ('Retired', 'Cheri Bustos (D)'), ('Retired', 'Salud Carbajal (D)'), ('Retired', 'Buddy Carter (R)'), ('Retired', 'Kathy Castor (D)'), ('Retired', 'Steve Chabot (R)'), ('Retired', 'Liz Cheney (R)'), ('Retired', 'David Cicilline (D)'), ('Retired', 'Katherine Clark (D)'), ('Retired', 'Michael Cloud (R)'), ('Retired', 'Mike Coffman (R)'), ('Retired', 'Tom Cole (R)'), ('Retired', 'Bonnie Coleman (D)'), ('Retired', 'Chris Collins (R)'), ('Retired', 'Barbara Comstock (R)'), ('Retired', 'Mike Conaway (R)'), ('Retired', 'Gerry Connolly (D)'), ('Retired', 'Jim Cooper (D)'), ('Retired', 'Joe Courtney (D)'), ('Retired', 'Kevin Cramer (R)'), ('Retired', 'Rick Crawford (R)'), ('Retired', 'Charlie Crist (D)'), ('Retired', 'John Culberson (R)'), ('Retired', 'Carlos Curbelo (R)'), ('Retired', 'John Curtis (R)'), ('Retired', 'Warren Davidson (R)'), ('Retired', 'Rodney Davis (R)'), ('Retired', 'Peter DeFazio (D)'), ('Retired', 'Diana DeGette (D)'), ('Retired', 'Rosa L DeLauro (D)'), ('Retired', 'Suzan DelBene (D)'), ('Retired', 'Val Demings (D)'), ('Retired', 'Mark Desaulnier (D)'), ('Retired', 'Scott Desjarlais (R)'), ('Retired', 'Ted Deutch (D)'), ('Retired', 'Debbie Dingell (D)'), ('Retired', 'Lloyd Doggett (D)'), ('Retired', 'Sean P Duffy (R)'), ('Retired', 'Jeff Duncan (R)'), ('Retired', 'Neal Dunn (R)'), ('Retired', 'Keith Ellison (D)'), ('Retired', 'Tom Emmer (R)'), ('Retired', 'Eliot L Engel (D)'), ('Retired', 'Anna Eshoo (D)'), ('Retired', 'Elizabeth Esty (D)'), ('Retired', 'Dwight Evans (D)'), ('Retired', 'John Faso (R)'), ('Retired', 'Brian Fitzpatrick (R)'), ('Retired', 'Bill Flores (R)'), ('Retired', 'Bill Foster (D)'), ('Retired', 'Virginia Foxx (R)'), ('Retired', 'Lois J Frankel (D)'), ('Retired', 'Rodney Frelinghuysen (R)'), ('Retired', 'Tulsi Gabbard (D)'), ('Retired', 'Matt Gaetz (R)'), ('Retired', 'Mike Gallagher (R)'), ('Retired', 'Ruben Gallego (D)'), ('Retired', 'John Garamendi (D)'), ('Retired', 'Tom Garrett (R)'), ('Retired', 'Greg Gianforte (R)'), ('Retired', 'Louis B Gohmert Jr. (R)'), ('Retired', 'Jenniffer Gonzalez (3)'), ('Retired', 'Bob Goodlatte (R)'), ('Retired', 'Paul Gosar (R)'), ('Retired', 'Josh Gottheimer (D)'), ('Retired', 'Trey Gowdy (R)'), ('Retired', 'Kay Granger (R)'), ('Retired', 'Garret Graves (R)'), ('Retired', 'Morgan Griffith (R)'), ('Retired', 'Raul M Grijalva (D)'), ('Retired', 'Glenn S Grothman (R)'), ('Retired', 'Karen Handel (R)'), ('Retired', 'Andy Harris (R)'), ('Retired', 'Vicky Hartzler (R)'), ('Retired', 'Alcee L Hastings (D)'), ('Retired', 'Dennis Heck (D)'), ('Retired', 'Jeb Hensarling (R)'), ('Retired', 'Kevin Hern (R)'), ('Retired', 'Jody B Hice (R)'), ('Retired', 'Clay Higgins (R)'), ('Retired', 'French Hill (R)'), ('Retired', 'Jim Himes (D)'), ('Retired', 'George Holding (R)'), ('Retired', 'Steny H Hoyer (D)'), ('Retired', 'Richard Hudson (R)'), ('Retired', 'Jared Huffman (D)'), ('Retired', 'Bill Huizenga (R)'), ('Retired', 'Randy Hultgren (R)'), ('Retired', 'Duncan D Hunter (R)'), ('Retired', 'Will Hurd (R)'), ('Retired', 'Darrell Issa (R)'), ('Retired', 'Pramila Jayapal (D)'), ('Retired', 'Evan Jenkins (R)'), ('Retired', 'Mike Johnson (R)'), ('Retired', 'Brenda Jones (D)'), ('Real Estate', 'Pete Aguilar (D)'), ('Real Estate', 'Richard W Allen (R)'), ('Real Estate', 'Justin Amash (R)'), ('Real Estate', 'Mark Amodei (R)'), ('Real Estate', 'Jodey Arrington (R)'), ('Real Estate', 'Brian Babin (R)'), ('Real Estate', 'Don Bacon (R)'), ('Real Estate', 'Troy Balderson (R)'), ('Real Estate', 'Jim Banks (R)'), ('Real Estate', 'Lou Barletta (R)'), ('Real Estate', 'Andy Barr (R)'), ('Real Estate', 'Nanette Barragan (D)'), ('Real Estate', 'Karen Bass (D)'), ('Real Estate', 'Joyce Beatty (D)'), ('Real Estate', 'John Bergman (R)'), ('Real Estate', 'Jaime Herrera Beutler (R)'), ('Real Estate', 'Don Beyer (D)'), ('Real Estate', 'Andy Biggs (R)'), ('Real Estate', 'Gus Bilirakis (R)'), ('Real Estate', 'Mike Bishop (R)'), ('Real Estate', 'Rob Bishop (R)'), ('Real Estate', 'Marsha Blackburn (R)'), ('Real Estate', 'Rod Blum (R)'), ('Real Estate', 'Earl Blumenauer (D)'), ('Real Estate', 'Madeleine Z Bordallo (D)'), ('Real Estate', 'Mike Bost (R)'), ('Real Estate', 'Kevin Brady (R)'), ('Real Estate', 'Robert A. Brady (D)'), ('Real Estate', 'Dave Brat (R)'), ('Real Estate', 'Mo Brooks (R)'), ('Real Estate', 'Susan Brooks (R)'), ('Real Estate', 'Anthony Brown (D)'), ('Real Estate', 'Julia Brownley (D)'), ('Real Estate', 'Vernon Buchanan (R)'), ('Real Estate', 'Kenneth R Buck (R)'), ('Real Estate', 'Larry Bucshon (R)'), ('Real Estate', 'Ted Budd (R)'), ('Real Estate', 'Cheri Bustos (D)'), ('Real Estate', 'Bradley Byrne (R)'), ('Real Estate', 'Ken Calvert (R)'), ('Real Estate', 'Salud Carbajal (D)'), ('Real Estate', 'Tony Cardenas (D)'), ('Real Estate', 'Andre Carson (D)'), ('Real Estate', 'John Carter (R)'), ('Real Estate', 'Kathy Castor (D)'), ('Real Estate', 'Joaquin Castro (D)'), ('Real Estate', 'Steve Chabot (R)'), ('Real Estate', 'Judy Chu (D)'), ('Real Estate', 'David Cicilline (D)'), ('Real Estate', 'Katherine Clark (D)'), ('Real Estate', 'Yvette D Clarke (D)'), ('Real Estate', 'William L Clay Jr. (D)'), ('Real Estate', 'Emanuel Cleaver (D)'), ('Real Estate', 'Mike Coffman (R)'), ('Real Estate', 'Steve Cohen (D)'), ('Real Estate', 'Chris Collins (R)'), ('Real Estate', 'Doug Collins (R)'), ('Real Estate', 'Barbara Comstock (R)'), ('Real Estate', 'Gerry Connolly (D)'), ('Real Estate', 'Paul Cook (R)'), ('Real Estate', 'Jim Cooper (D)'), ('Real Estate', 'Lou Correa (D)'), ('Real Estate', 'Jim Costa (D)'), ('Real Estate', 'Ryan Costello (R)'), ('Real Estate', 'Joe Courtney (D)'), ('Real Estate', 'Kevin Cramer (R)'), ('Real Estate', 'Rick Crawford (R)'), ('Real Estate', 'Charlie Crist (D)'), ('Real Estate', 'Joseph Crowley (D)'), ('Real Estate', 'Henry Cuellar (D)'), ('Real Estate', 'John Culberson (R)'), ('Real Estate', 'Carlos Curbelo (R)'), ('Real Estate', 'John Curtis (R)'), ('Real Estate', 'Warren Davidson (R)'), ('Real Estate', 'Danny K Davis (D)'), ('Real Estate', 'Susan A Davis (D)'), ('Real Estate', 'Diana DeGette (D)'), ('Real Estate', 'John K Delaney (D)'), ('Real Estate', 'Rosa L DeLauro (D)'), ('Real Estate', 'Suzan DelBene (D)'), ('Real Estate', 'Val Demings (D)'), ('Real Estate', 'Jeff Denham (R)'), ('Real Estate', 'Mark Desaulnier (D)'), ('Real Estate', 'Scott Desjarlais (R)'), ('Real Estate', 'Ted Deutch (D)'), ('Real Estate', 'Mario Diaz-Balart (R)'), ('Real Estate', 'Debbie Dingell (D)'), ('Real Estate', 'Lloyd Doggett (D)'), ('Real Estate', 'Dan Donovan (R)'), ('Real Estate', 'Mike Doyle (D)'), ('Real Estate', 'Sean P Duffy (R)'), ('Real Estate', 'Neal Dunn (R)'), ('Real Estate', 'Keith Ellison (D)'), ('Real Estate', 'Tom Emmer (R)'), ('Real Estate', 'Eliot L Engel (D)'), ('Real Estate', 'Anna Eshoo (D)'), ('Real Estate', 'Adriano Espaillat (D)'), ('Real Estate', 'Ron Estes (R)'), ('Real Estate', 'Elizabeth Esty (D)'), ('Real Estate', 'Dwight Evans (D)'), ('Real Estate', 'John Faso (R)'), ('Real Estate', 'Drew Ferguson (R)'), ('Real Estate', 'Brian Fitzpatrick (R)'), ('Real Estate', 'Jeff Fortenberry (R)'), ('Real Estate', 'Bill Foster (D)'), ('Real Estate', 'Virginia Foxx (R)'), ('Real Estate', 'Lois J Frankel (D)'), ('Real Estate', 'Marcia L Fudge (D)'), ('Real Estate', 'Tulsi Gabbard (D)'), ('Real Estate', 'Matt Gaetz (R)'), ('Real Estate', 'Mike Gallagher (R)'), ('Real Estate', 'Ruben Gallego (D)'), ('Real Estate', 'John Garamendi (D)'), ('Real Estate', 'Tom Garrett (R)'), ('Real Estate', 'Greg Gianforte (R)'), ('Real Estate', 'Louis B Gohmert Jr. (R)'), ('Real Estate', 'Jimmy Gomez (D)'), ('Real Estate', 'Vicente Gonzalez (D)'), ('Real Estate', 'Paul Gosar (R)'), ('Real Estate', 'Josh Gottheimer (D)'), ('Real Estate', 'Trey Gowdy (R)'), ('Real Estate', 'Kay Granger (R)'), ('Real Estate', 'Garret Graves (R)'), ('Real Estate', 'Tom Graves (R)'), ('Real Estate', 'Al Green (D)'), ('Real Estate', 'Glenn S Grothman (R)'), ('Real Estate', 'Karen Handel (R)'), ('Real Estate', 'Gregg Harper (R)'), ('Real Estate', 'Andy Harris (R)'), ('Real Estate', 'Vicky Hartzler (R)'), ('Real Estate', 'Alcee L Hastings (D)'), ('Real Estate', 'Dennis Heck (D)'), ('Real Estate', 'Jeb Hensarling (R)'), ('Real Estate', 'Kevin Hern (R)'), ('Real Estate', 'Jody B Hice (R)'), ('Real Estate', 'Brian M Higgins (D)'), ('Real Estate', 'Clay Higgins (R)'), ('Real Estate', 'French Hill (R)'), ('Real Estate', 'Jim Himes (D)'), ('Real Estate', 'George Holding (R)'), ('Real Estate', 'Trey Hollingsworth (R)'), ('Real Estate', 'Steny H Hoyer (D)'), ('Real Estate', 'Richard Hudson (R)'), ('Real Estate', 'Jared Huffman (D)'), ('Real Estate', 'Bill Huizenga (R)'), ('Real Estate', 'Randy Hultgren (R)'), ('Real Estate', 'Duncan D Hunter (R)'), ('Real Estate', 'Will Hurd (R)'), ('Real Estate', 'Darrell Issa (R)'), ('Real Estate', 'Sheila Jackson Lee (D)'), ('Real Estate', 'Hakeem Jeffries (D)'), ('Real Estate', 'Evan Jenkins (R)'), ('Real Estate', 'Eddie Bernice Johnson (D)'), ('Real Estate', 'Mike Johnson (R)'), ('Real Estate', 'Brenda Jones (D)'), ('Education', 'Pete Aguilar (D)'), ('Education', 'Ami Bera (D)'), ('Education', 'Andy Biggs (R)'), ('Education', 'Julia Brownley (D)'), ('Education', 'Bonnie Coleman (D)'), ('Education', 'Jim Cooper (D)'), ('Education', 'Rosa L DeLauro (D)'), ('Education', 'Debbie Dingell (D)'), ('Education', 'Keith Ellison (D)'), ('Education', 'Eliot L Engel (D)'), ('Education', 'Bill Foster (D)'), ('Education', 'Virginia Foxx (R)'), ('Education', 'Tulsi Gabbard (D)'), ('Education', 'Raul M Grijalva (D)'), ('Education', 'Alcee L Hastings (D)'), ('Education', 'Pramila Jayapal (D)'), ('Education', 'Brenda Jones (D)'), ('Pharmaceuticals/Health Products', 'Pete Aguilar (D)'), ('Pharmaceuticals/Health Products', 'Jim Banks (R)'), ('Pharmaceuticals/Health Products', 'Joyce Beatty (D)'), ('Pharmaceuticals/Health Products', 'Ami Bera (D)'), ('Pharmaceuticals/Health Products', 'Gus Bilirakis (R)'), ('Pharmaceuticals/Health Products', 'Mike Bishop (R)'), ('Pharmaceuticals/Health Products', 'Diane Black (R)'), ('Pharmaceuticals/Health Products', 'Brendan Boyle (D)'), ('Pharmaceuticals/Health Products', 'Kevin Brady (R)'), ('Pharmaceuticals/Health Products', 'Susan Brooks (R)'), ('Pharmaceuticals/Health Products', 'Vernon Buchanan (R)'), ('Pharmaceuticals/Health Products', 'Larry Bucshon (R)'), ('Pharmaceuticals/Health Products', 'Michael Burgess (R)'), ('Pharmaceuticals/Health Products', 'G K Butterfield (D)'), ('Pharmaceuticals/Health Products', 'Tony Cardenas (D)'), ('Pharmaceuticals/Health Products', 'Buddy Carter (R)'), ('Pharmaceuticals/Health Products', 'Katherine Clark (D)'), ('Pharmaceuticals/Health Products', 'Yvette D Clarke (D)'), ('Pharmaceuticals/Health Products', 'James E Clyburn (D)'), ('Pharmaceuticals/Health Products', 'Tom Cole (R)'), ('Pharmaceuticals/Health Products', 'Bonnie Coleman (D)'), ('Pharmaceuticals/Health Products', 'Chris Collins (R)'), ('Pharmaceuticals/Health Products', 'Doug Collins (R)'), ('Pharmaceuticals/Health Products', 'Lou Correa (D)'), ('Pharmaceuticals/Health Products', 'Ryan Costello (R)'), ('Pharmaceuticals/Health Products', 'Joseph Crowley (D)'), ('Pharmaceuticals/Health Products', 'John Curtis (R)'), ('Pharmaceuticals/Health Products', 'Diana DeGette (D)'), ('Pharmaceuticals/Health Products', 'Suzan DelBene (D)'), ('Pharmaceuticals/Health Products', 'Jeff Duncan (R)'), ('Pharmaceuticals/Health Products', 'Anna Eshoo (D)'), ('Pharmaceuticals/Health Products', 'Chuck Fleischmann (R)'), ('Pharmaceuticals/Health Products', 'Bill Flores (R)'), ('Pharmaceuticals/Health Products', 'Rodney Frelinghuysen (R)'), ('Pharmaceuticals/Health Products', 'Jenniffer Gonzalez (3)'), ('Pharmaceuticals/Health Products', 'Gene Green (D)'), ('Pharmaceuticals/Health Products', 'Morgan Griffith (R)'), ('Pharmaceuticals/Health Products', 'Brett Guthrie (R)'), ('Pharmaceuticals/Health Products', 'Gregg Harper (R)'), ('Pharmaceuticals/Health Products', 'Andy Harris (R)'), ('Pharmaceuticals/Health Products', 'Jim Himes (D)'), ('Pharmaceuticals/Health Products', 'George Holding (R)'), ('Pharmaceuticals/Health Products', 'Trey Hollingsworth (R)'), ('Pharmaceuticals/Health Products', 'Steny H Hoyer (D)'), ('Pharmaceuticals/Health Products', 'Richard Hudson (R)'), ('Pharmaceuticals/Health Products', 'Bill Johnson (R)'), ('Forestry & Forest Products', 'Richard W Allen (R)'), ('Forestry & Forest Products', 'Jaime Herrera Beutler (R)'), ('Forestry & Forest Products', 'Sanford Bishop (D)'), ('Forestry & Forest Products', 'Neal Dunn (R)'), ('Forestry & Forest Products', 'Gregg Harper (R)'), ('Forestry & Forest Products', 'Mike Johnson (R)'), ('Republican/Conservative', 'Justin Amash (R)'), ('Republican/Conservative', 'Jim Banks (R)'), ('Republican/Conservative', 'Lou Barletta (R)'), ('Republican/Conservative', 'John Bergman (R)'), ('Republican/Conservative', 'Jaime Herrera Beutler (R)'), ('Republican/Conservative', 'Marsha Blackburn (R)'), ('Republican/Conservative', 'Rod Blum (R)'), ('Republican/Conservative', 'Mike Bost (R)'), ('Republican/Conservative', 'Dave Brat (R)'), ('Republican/Conservative', 'Mo Brooks (R)'), ('Republican/Conservative', 'Kenneth R Buck (R)'), ('Republican/Conservative', 'Ted Budd (R)'), ('Republican/Conservative', 'Michael Cloud (R)'), ('Republican/Conservative', 'Mike Coffman (R)'), ('Republican/Conservative', 'Barbara Comstock (R)'), ('Republican/Conservative', 'Kevin Cramer (R)'), ('Republican/Conservative', 'Jeff Fortenberry (R)'), ('Republican/Conservative', 'Matt Gaetz (R)'), ('Republican/Conservative', 'Mike Gallagher (R)'), ('Republican/Conservative', 'Greg Gianforte (R)'), ('Republican/Conservative', 'Louis B Gohmert Jr. (R)'), ('Republican/Conservative', 'Trey Gowdy (R)'), ('Republican/Conservative', 'Karen Handel (R)'), ('Republican/Conservative', 'Darrell Issa (R)'), ('Retail Sales', 'Justin Amash (R)'), ('Retail Sales', 'Joe Barton (R)'), ('Retail Sales', 'John Bergman (R)'), ('Retail Sales', 'Suzanne Bonamici (D)'), ('Retail Sales', 'G K Butterfield (D)'), ('Retail Sales', 'Bradley Byrne (R)'), ('Retail Sales', 'Tony Cardenas (D)'), ('Retail Sales', 'Buddy Carter (R)'), ('Retail Sales', 'Joaquin Castro (D)'), ('Retail Sales', 'Liz Cheney (R)'), ('Retail Sales', 'Doug Collins (R)'), ('Retail Sales', 'Lou Correa (D)'), ('Retail Sales', 'Henry Cuellar (D)'), ('Retail Sales', 'Tom Emmer (R)'), ('Retail Sales', 'Morgan Griffith (R)'), ('Retail Sales', 'Jody B Hice (R)'), ('Retail Sales', 'Trey Hollingsworth (R)'), ('Retail Sales', 'Richard Hudson (R)'), ('Retail Sales', 'Bill Huizenga (R)'), ('Retail Sales', 'Darrell Issa (R)'), ('Retail Sales', 'Hank Johnson (D)'), ('Non-Profit Institutions', 'Justin Amash (R)'), ('Non-Profit Institutions', 'Don Beyer (D)'), ('Non-Profit Institutions', 'Rosa L DeLauro (D)'), ('Non-Profit Institutions', 'Anna Eshoo (D)'), ('Non-Profit Institutions', 'Pramila Jayapal (D)'), ('Casinos/Gambling', 'Mark Amodei (R)'), ('Casinos/Gambling', 'Rob Bishop (R)'), ('Casinos/Gambling', 'Ken Calvert (R)'), ('Casinos/Gambling', 'Tony Cardenas (D)'), ('Casinos/Gambling', 'Paul Cook (R)'), ('Casinos/Gambling', 'Lou Correa (D)'), ('Casinos/Gambling', 'Jeff Denham (R)'), ('Casinos/Gambling', 'Ted Deutch (D)'), ('Casinos/Gambling', 'Ruben Gallego (D)'), ('Casinos/Gambling', 'Jimmy Gomez (D)'), ('Casinos/Gambling', 'Raul M Grijalva (D)'), ('Casinos/Gambling', 'Michelle Lujan Grisham (D)'), ('Casinos/Gambling', 'Dennis Heck (D)'), ('Casinos/Gambling', 'Darrell Issa (R)'), ('Mining', 'Mark Amodei (R)'), ('Mining', 'Andy Barr (R)'), ('Mining', 'Rob Bishop (R)'), ('Mining', 'Mike Bost (R)'), ('Mining', 'Steve Chabot (R)'), ('Mining', 'Liz Cheney (R)'), ('Mining', 'Kevin Cramer (R)'), ('Mining', 'Virginia Foxx (R)'), ('Mining', 'Paul Gosar (R)'), ('Mining', 'Morgan Griffith (R)'), ('Mining', 'Jody B Hice (R)'), ('Mining', 'Evan Jenkins (R)'), ('Mining', 'Bill Johnson (R)'), ('Livestock', 'Mark Amodei (R)'), ('Livestock', 'Michael Cloud (R)'), ('Livestock', 'Mike Conaway (R)'), ('Livestock', 'Greg Gianforte (R)'), ('Livestock', 'Bob Goodlatte (R)'), ('Automotive', 'Jodey Arrington (R)'), ('Automotive', 'Brian Babin (R)'), ('Automotive', 'Joe Barton (R)'), ('Automotive', 'John Bergman (R)'), ('Automotive', 'Don Beyer (D)'), ('Automotive', 'Mike Bishop (R)'), ('Automotive', 'Brendan Boyle (D)'), ('Automotive', 'Kenneth R Buck (R)'), ('Automotive', 'Larry Bucshon (R)'), ('Automotive', 'Michael Burgess (R)'), ('Automotive', 'G K Butterfield (D)'), ('Automotive', 'Steve Cohen (D)'), ('Automotive', 'James Comer (R)'), ('Automotive', 'Lou Correa (D)'), ('Automotive', 'Kevin Cramer (R)'), ('Automotive', 'Henry Cuellar (D)'), ('Automotive', 'Scott Desjarlais (R)'), ('Automotive', 'Debbie Dingell (D)'), ('Automotive', 'Mike Doyle (D)'), ('Automotive', 'Jeff Duncan (R)'), ('Automotive', 'Bill Flores (R)'), ('Automotive', 'Mike Gallagher (R)'), ('Automotive', 'Tom Garrett (R)'), ('Automotive', 'Paul Gosar (R)'), ('Automotive', 'Sam Graves (R)'), ('Automotive', 'Brett Guthrie (R)'), ('Automotive', 'Gregg Harper (R)'), ('Automotive', 'Andy Harris (R)'), ('Automotive', 'Kevin Hern (R)'), ('Automotive', 'Jody B Hice (R)'), ('Automotive', 'Richard Hudson (R)'), ('Automotive', 'Evan Jenkins (R)'), ('Automotive', 'Eddie Bernice Johnson (D)'), ('Chemical & Related Manufacturing', 'Brian Babin (R)'), ('Chemical & Related Manufacturing', 'Scott Desjarlais (R)'), ('Construction Services', 'Brian Babin (R)'), ('Construction Services', 'Earl Blumenauer (D)'), ('Construction Services', 'Madeleine Z Bordallo (D)'), ('Construction Services', 'John Culberson (R)'), ('Construction Services', 'Peter DeFazio (D)'), ('Construction Services', 'John K Delaney (D)'), ('Construction Services', 'John J Duncan Jr. (R)'), ('Construction Services', 'Chuck Fleischmann (R)'), ('Construction Services', 'Garret Graves (R)'), ('Construction Services', 'Sam Graves (R)'), ('Construction Services', 'Al Green (D)'), ('Construction Services', 'Eddie Bernice Johnson (D)'), ('Candidate Committees', 'Don Bacon (R)'), ('Candidate Committees', 'Troy Balderson (R)'), ('Candidate Committees', 'John Bergman (R)'), ('Candidate Committees', 'Jaime Herrera Beutler (R)'), ('Candidate Committees', 'Rod Blum (R)'), ('Candidate Committees', 'Mike Bost (R)'), ('Candidate Committees', 'Dave Brat (R)'), ('Candidate Committees', 'Ted Budd (R)'), ('Candidate Committees', 'Salud Carbajal (D)'), ('Candidate Committees', 'Matt Cartwright (D)'), ('Candidate Committees', 'Steve Chabot (R)'), ('Candidate Committees', 'Michael Cloud (R)'), ('Candidate Committees', 'Mike Coffman (R)'), ('Candidate Committees', 'John Culberson (R)'), ('Candidate Committees', 'John J Duncan Jr. (R)'), ('Candidate Committees', 'Elizabeth Esty (D)'), ('Candidate Committees', 'Brian Fitzpatrick (R)'), ('Candidate Committees', 'Michelle Lujan Grisham (D)'), ('Candidate Committees', 'Luis V Gutierrez (D)'), ('Candidate Committees', 'Colleen Hanabusa (D)'), ('Candidate Committees', 'Randy Hultgren (R)'), ('Candidate Committees', 'Duncan D Hunter (R)'), ('Candidate Committees', 'Darrell Issa (R)'), ('Building Materials & Equipment', 'Lou Barletta (R)'), ('Building Materials & Equipment', 'Mo Brooks (R)'), ('Building Materials & Equipment', 'Ken Calvert (R)'), ('Building Materials & Equipment', 'James Comer (R)'), ('Building Materials & Equipment', 'Paul Cook (R)'), ('Building Materials & Equipment', 'Peter DeFazio (D)'), ('Building Materials & Equipment', 'Mark Desaulnier (D)'), ('Building Materials & Equipment', 'John J Duncan Jr. (R)'), ('Building Materials & Equipment', 'Drew Ferguson (R)'), ('Building Materials & Equipment', 'Sam Graves (R)'), ('Transportation Unions', 'Nanette Barragan (D)'), ('Transportation Unions', 'Madeleine Z Bordallo (D)'), ('Transportation Unions', 'Brendan Boyle (D)'), ('Transportation Unions', 'Robert A. Brady (D)'), ('Transportation Unions', 'Anthony Brown (D)'), ('Transportation Unions', 'Julia Brownley (D)'), ('Transportation Unions', 'Cheri Bustos (D)'), ('Transportation Unions', 'Andre Carson (D)'), ('Transportation Unions', 'Matt Cartwright (D)'), ('Transportation Unions', 'Judy Chu (D)'), ('Transportation Unions', 'Katherine Clark (D)'), ('Transportation Unions', 'William L Clay Jr. (D)'), ('Transportation Unions', 'James E Clyburn (D)'), ('Transportation Unions', 'Steve Cohen (D)'), ('Transportation Unions', 'Bonnie Coleman (D)'), ('Transportation Unions', 'Chris Collins (R)'), ('Transportation Unions', 'Paul Cook (R)'), ('Transportation Unions', 'Elijah E Cummings (D)'), ('Transportation Unions', 'Danny K Davis (D)'), ('Transportation Unions', 'Peter DeFazio (D)'), ('Transportation Unions', 'John K Delaney (D)'), ('Transportation Unions', 'Mark Desaulnier (D)'), ('Transportation Unions', 'Mario Diaz-Balart (R)'), ('Transportation Unions', 'Lloyd Doggett (D)'), ('Transportation Unions', 'Dan Donovan (R)'), ('Transportation Unions', 'John J Duncan Jr. (R)'), ('Transportation Unions', 'Adriano Espaillat (D)'), ('Transportation Unions', 'Drew Ferguson (R)'), ('Transportation Unions', 'Lois J Frankel (D)'), ('Transportation Unions', 'Marcia L Fudge (D)'), ('Transportation Unions', 'Ruben Gallego (D)'), ('Transportation Unions', 'John Garamendi (D)'), ('Transportation Unions', 'Bob Gibbs (R)'), ('Transportation Unions', 'Jenniffer Gonzalez (3)'), ('Transportation Unions', 'Sam Graves (R)'), ('Transportation Unions', 'Al Green (D)'), ('Transportation Unions', 'Gene Green (D)'), ('Transportation Unions', 'Raul M Grijalva (D)'), ('Transportation Unions', 'Luis V Gutierrez (D)'), ('Transportation Unions', 'Colleen Hanabusa (D)'), ('Transportation Unions', 'Alcee L Hastings (D)'), ('Transportation Unions', 'Brian M Higgins (D)'), ('Transportation Unions', 'Jared Huffman (D)'), ('Transportation Unions', 'Sheila Jackson Lee (D)'), ('Transportation Unions', 'Hakeem Jeffries (D)'), ('Transportation Unions', 'Eddie Bernice Johnson (D)'), ('Transportation Unions', 'Hank Johnson (D)'), ('Democratic/Liberal', 'Nanette Barragan (D)'), ('Democratic/Liberal', 'Ami Bera (D)'), ('Democratic/Liberal', 'Madeleine Z Bordallo (D)'), ('Democratic/Liberal', 'Salud Carbajal (D)'), ('Democratic/Liberal', 'David Cicilline (D)'), ('Democratic/Liberal', 'Katherine Clark (D)'), ('Democratic/Liberal', 'Gerry Connolly (D)'), ('Democratic/Liberal', 'Jim Cooper (D)'), ('Democratic/Liberal', 'Charlie Crist (D)'), ('Democratic/Liberal', 'Elijah E Cummings (D)'), ('Democratic/Liberal', 'Suzan DelBene (D)'), ('Democratic/Liberal', 'Lloyd Doggett (D)'), ('Democratic/Liberal', 'Josh Gottheimer (D)'), ('TV/Movies/Music', 'Nanette Barragan (D)'), ('TV/Movies/Music', 'Karen Bass (D)'), ('TV/Movies/Music', 'Julia Brownley (D)'), ('TV/Movies/Music', 'Salud Carbajal (D)'), ('TV/Movies/Music', 'Tony Cardenas (D)'), ('TV/Movies/Music', 'David Cicilline (D)'), ('TV/Movies/Music', 'Doug Collins (R)'), ('TV/Movies/Music', 'Ted Deutch (D)'), ('TV/Movies/Music', 'Mike Doyle (D)'), ('TV/Movies/Music', 'Keith Ellison (D)'), ('TV/Movies/Music', 'Matt Gaetz (R)'), ('TV/Movies/Music', 'Bob Goodlatte (R)'), ('TV/Movies/Music', 'Gene Green (D)'), ('TV/Movies/Music', 'Pramila Jayapal (D)'), ('TV/Movies/Music', 'Hakeem Jeffries (D)'), (\"Women's Issues\", 'Nanette Barragan (D)'), (\"Women's Issues\", 'Diane Black (R)'), (\"Women's Issues\", 'Salud Carbajal (D)'), (\"Women's Issues\", 'Elizabeth Esty (D)'), ('Misc Energy', 'Joe Barton (R)'), ('Misc Energy', 'Larry Bucshon (R)'), ('Misc Energy', 'Ron Estes (R)'), ('Misc Energy', 'Luis V Gutierrez (D)'), ('Telecom Services', 'Joe Barton (R)'), ('Telecom Services', 'Andy Biggs (R)'), ('Telecom Services', 'Diane Black (R)'), ('Telecom Services', 'Robert A. Brady (D)'), ('Telecom Services', 'Susan Brooks (R)'), ('Telecom Services', 'Kenneth R Buck (R)'), ('Telecom Services', 'G K Butterfield (D)'), ('Telecom Services', 'Tony Cardenas (D)'), ('Telecom Services', 'Buddy Carter (R)'), ('Telecom Services', 'Kathy Castor (D)'), ('Telecom Services', 'David Cicilline (D)'), ('Telecom Services', 'Yvette D Clarke (D)'), ('Telecom Services', 'Chris Collins (R)'), ('Telecom Services', 'Doug Collins (R)'), ('Telecom Services', 'Ryan Costello (R)'), ('Telecom Services', 'Diana DeGette (D)'), ('Telecom Services', 'Val Demings (D)'), ('Telecom Services', 'Debbie Dingell (D)'), ('Telecom Services', 'Mike Doyle (D)'), ('Telecom Services', 'Jeff Duncan (R)'), ('Telecom Services', 'Anna Eshoo (D)'), ('Telecom Services', 'Dwight Evans (D)'), ('Telecom Services', 'Bill Flores (R)'), ('Telecom Services', 'Bob Goodlatte (R)'), ('Telecom Services', 'Gene Green (D)'), ('Telecom Services', 'Morgan Griffith (R)'), ('Telecom Services', 'Brett Guthrie (R)'), ('Telecom Services', 'Luis V Gutierrez (D)'), ('Telecom Services', 'Gregg Harper (R)'), ('Telecom Services', 'Darrell Issa (R)'), ('Telecom Services', 'Bill Johnson (R)'), ('Telecom Services', 'Hank Johnson (D)'), ('Business Services', 'Karen Bass (D)'), ('Business Services', 'Don Beyer (D)'), ('Business Services', 'Robert A. Brady (D)'), ('Business Services', 'Gerry Connolly (D)'), ('Business Services', 'John Curtis (R)'), ('Business Services', 'Eliot L Engel (D)'), ('Business Services', 'Tulsi Gabbard (D)'), ('Business Services', 'Jenniffer Gonzalez (3)'), ('Business Services', 'Josh Gottheimer (D)'), ('Business Services', 'Pramila Jayapal (D)'), ('Business Services', 'Brenda Jones (D)'), ('Misc Issues', 'Joyce Beatty (D)'), ('Misc Issues', 'Cheri Bustos (D)'), ('Misc Issues', 'Kathy Castor (D)'), ('Misc Issues', 'Judy Chu (D)'), ('Misc Issues', 'Joseph Crowley (D)'), ('Misc Issues', 'Dan Donovan (R)'), ('Misc Issues', 'Sean P Duffy (R)'), ('Misc Issues', 'Anna Eshoo (D)'), ('Misc Issues', 'John Faso (R)'), ('Misc Issues', 'Kay Granger (R)'), ('Misc Issues', 'Al Green (D)'), ('Misc Issues', 'Clay Higgins (R)'), ('Misc Issues', 'Lynn Jenkins (R)'), ('Finance/Credit Companies', 'Joyce Beatty (D)'), ('Finance/Credit Companies', 'Ted Budd (R)'), ('Finance/Credit Companies', 'William L Clay Jr. (D)'), ('Finance/Credit Companies', 'Henry Cuellar (D)'), ('Finance/Credit Companies', 'Warren Davidson (R)'), ('Finance/Credit Companies', 'John K Delaney (D)'), ('Finance/Credit Companies', 'Sean P Duffy (R)'), ('Finance/Credit Companies', 'Tom Emmer (R)'), ('Finance/Credit Companies', 'Tom Graves (R)'), ('Finance/Credit Companies', 'Alcee L Hastings (D)'), ('Finance/Credit Companies', 'Jeb Hensarling (R)'), ('Finance/Credit Companies', 'Trey Hollingsworth (R)'), ('Finance/Credit Companies', 'Bill Huizenga (R)'), ('Finance/Credit Companies', 'Randy Hultgren (R)'), ('Food & Beverage', 'Jaime Herrera Beutler (R)'), ('Food & Beverage', 'Bradley Byrne (R)'), ('Food & Beverage', 'Carlos Curbelo (R)'), ('Food & Beverage', 'Danny K Davis (D)'), ('Food & Beverage', 'Rodney Davis (R)'), ('Food & Beverage', 'Drew Ferguson (R)'), ('Food & Beverage', 'Virginia Foxx (R)'), ('Food & Beverage', 'Jenniffer Gonzalez (3)'), ('Food & Beverage', 'Al Green (D)'), ('Food & Beverage', 'Andy Harris (R)'), ('Food & Beverage', 'Kevin Hern (R)'), ('Food & Beverage', 'Clay Higgins (R)'), ('Electronics Mfg & Equip', 'Andy Biggs (R)'), ('Electronics Mfg & Equip', 'Suzanne Bonamici (D)'), ('Electronics Mfg & Equip', 'Doug Collins (R)'), ('Electronics Mfg & Equip', 'Gerry Connolly (D)'), ('Electronics Mfg & Equip', 'Suzan DelBene (D)'), ('Electronics Mfg & Equip', 'Keith Ellison (D)'), ('Electronics Mfg & Equip', 'Anna Eshoo (D)'), ('Electronics Mfg & Equip', 'Tulsi Gabbard (D)'), ('Electronics Mfg & Equip', 'Bob Goodlatte (R)'), ('Electronics Mfg & Equip', 'Will Hurd (R)'), ('Electronics Mfg & Equip', 'Darrell Issa (R)'), ('Electronics Mfg & Equip', 'Hakeem Jeffries (D)'), ('Electronics Mfg & Equip', 'Hank Johnson (D)'), ('Misc Business', 'Gus Bilirakis (R)'), ('Misc Business', 'Michael Cloud (R)'), ('Misc Business', 'Henry Cuellar (D)'), ('Misc Business', 'Louis B Gohmert Jr. (R)'), ('Misc Business', 'Jenniffer Gonzalez (3)'), ('Misc Business', 'Trey Gowdy (R)'), ('Misc Business', 'Kevin Hern (R)'), ('Misc Business', 'Brenda Jones (D)'), ('Accountants', 'Diane Black (R)'), ('Accountants', 'Emanuel Cleaver (D)'), ('Accountants', 'Mike Conaway (R)'), ('Accountants', 'Warren Davidson (R)'), ('Accountants', 'Susan A Davis (D)'), ('Accountants', 'John K Delaney (D)'), ('Accountants', 'Val Demings (D)'), ('Accountants', 'Bill Flores (R)'), ('Accountants', 'Bill Foster (D)'), ('Accountants', 'Tom Garrett (R)'), ('Accountants', 'Jimmy Gomez (D)'), ('Accountants', 'Jenniffer Gonzalez (3)'), ('Accountants', 'Vicente Gonzalez (D)'), ('Accountants', 'Trey Gowdy (R)'), ('Accountants', 'Tom Graves (R)'), ('Accountants', 'Michelle Lujan Grisham (D)'), ('Accountants', 'Luis V Gutierrez (D)'), ('Accountants', 'Karen Handel (R)'), ('Accountants', 'Dennis Heck (D)'), ('Accountants', 'Jeb Hensarling (R)'), ('Accountants', 'French Hill (R)'), ('Accountants', 'Jim Himes (D)'), ('Accountants', 'Trey Hollingsworth (R)'), ('Accountants', 'Randy Hultgren (R)'), ('Beer, Wine & Liquor', 'Diane Black (R)'), ('Beer, Wine & Liquor', 'James Comer (R)'), ('Beer, Wine & Liquor', 'Jim Cooper (D)'), ('Beer, Wine & Liquor', 'Charlie Crist (D)'), ('Beer, Wine & Liquor', 'Danny K Davis (D)'), ('Beer, Wine & Liquor', 'Ted Deutch (D)'), ('Beer, Wine & Liquor', 'Matt Gaetz (R)'), ('Beer, Wine & Liquor', 'John Garamendi (D)'), ('Beer, Wine & Liquor', 'Jared Huffman (D)'), ('Tobacco', 'Diane Black (R)'), ('Misc Finance', 'Diane Black (R)'), ('Misc Finance', 'Marsha Blackburn (R)'), ('Misc Finance', 'Dave Brat (R)'), ('Misc Finance', 'Salud Carbajal (D)'), ('Misc Finance', 'Liz Cheney (R)'), ('Misc Finance', 'Charlie Crist (D)'), ('Misc Finance', 'John Culberson (R)'), ('Misc Finance', 'Lloyd Doggett (D)'), ('Misc Finance', 'Eliot L Engel (D)'), ('Misc Finance', 'Elizabeth Esty (D)'), ('Misc Finance', 'Greg Gianforte (R)'), ('Misc Finance', 'Louis B Gohmert Jr. (R)'), ('Misc Finance', 'Josh Gottheimer (D)'), ('Misc Finance', 'Al Green (D)'), ('Misc Finance', 'Jeb Hensarling (R)'), ('Misc Finance', 'Will Hurd (R)'), ('Misc Finance', 'Eddie Bernice Johnson (D)'), ('Railroads', 'Earl Blumenauer (D)'), ('Railroads', 'Andre Carson (D)'), ('Railroads', 'Steve Cohen (D)'), ('Railroads', 'Rick Crawford (R)'), ('Railroads', 'Elijah E Cummings (D)'), ('Railroads', 'Peter DeFazio (D)'), ('Railroads', 'Jeff Denham (R)'), ('Railroads', 'Mark Desaulnier (D)'), ('Railroads', 'Mario Diaz-Balart (R)'), ('Railroads', 'John J Duncan Jr. (R)'), ('Railroads', 'Ron Estes (R)'), ('Railroads', 'Bob Goodlatte (R)'), ('Railroads', 'Sam Graves (R)'), ('Railroads', 'Eddie Bernice Johnson (D)'), ('Printing & Publishing', 'Madeleine Z Bordallo (D)'), ('Printing & Publishing', 'Emanuel Cleaver (D)'), ('Misc Unions', 'Madeleine Z Bordallo (D)'), ('Misc Unions', 'Steve Cohen (D)'), ('Misc Unions', 'Bonnie Coleman (D)'), ('Misc Unions', 'Elijah E Cummings (D)'), ('Misc Unions', 'Rosa L DeLauro (D)'), ('Misc Unions', 'Ted Deutch (D)'), ('Misc Unions', 'Dwight Evans (D)'), ('Misc Unions', 'Ruben Gallego (D)'), ('Misc Unions', 'Jimmy Gomez (D)'), ('Misc Unions', 'Raul M Grijalva (D)'), ('Misc Unions', 'Luis V Gutierrez (D)'), ('Misc Unions', 'Hank Johnson (D)'), ('Sea Transport', 'Madeleine Z Bordallo (D)'), ('Sea Transport', 'Kathy Castor (D)'), ('Sea Transport', 'Elijah E Cummings (D)'), ('Sea Transport', 'Peter DeFazio (D)'), ('Sea Transport', 'John Garamendi (D)'), ('Sea Transport', 'Jenniffer Gonzalez (3)'), ('Sea Transport', 'Garret Graves (R)'), ('Sea Transport', 'Colleen Hanabusa (D)'), ('Sea Transport', 'Duncan D Hunter (R)'), ('Human Rights', 'Madeleine Z Bordallo (D)'), ('Human Rights', 'Judy Chu (D)'), ('Human Rights', 'David Cicilline (D)'), ('Human Rights', 'Tom Cole (R)'), ('Human Rights', 'Tulsi Gabbard (D)'), ('Human Rights', 'Ruben Gallego (D)'), ('Pro-Israel', 'Brendan Boyle (D)'), ('Pro-Israel', 'Bonnie Coleman (D)'), ('Pro-Israel', 'Carlos Curbelo (R)'), ('Pro-Israel', 'Ted Deutch (D)'), ('Pro-Israel', 'Eliot L Engel (D)'), ('Pro-Israel', 'Josh Gottheimer (D)'), ('Pro-Israel', 'Glenn S Grothman (R)'), ('Pro-Israel', 'Luis V Gutierrez (D)'), ('Pro-Israel', 'Alcee L Hastings (D)'), ('Home Builders', 'Kenneth R Buck (R)'), ('Telephone Utilities', 'G K Butterfield (D)'), ('Telephone Utilities', 'Gene Green (D)'), ('Telephone Utilities', 'Luis V Gutierrez (D)'), ('Dairy', 'Mike Conaway (R)'), ('Dairy', 'Jim Costa (D)'), ('Steel Production', 'Rick Crawford (R)'), ('Misc Services', 'John Curtis (R)'), ('Misc Services', 'Tulsi Gabbard (D)'), ('Internet', 'Suzan DelBene (D)'), ('Internet', 'Bob Goodlatte (R)'), ('Internet', 'Pramila Jayapal (D)'), ('Misc Transport', 'John J Duncan Jr. (R)'), ('Civil Servants/Public Officials', 'Keith Ellison (D)'), ('Civil Servants/Public Officials', 'Bill Foster (D)'), ('Civil Servants/Public Officials', 'Tulsi Gabbard (D)'), ('Lodging/Tourism', 'Lois J Frankel (D)'), ('Poultry & Eggs', 'Bob Goodlatte (R)'), ('Gun Rights', 'Paul Gosar (R)'), ('Gun Rights', 'Trey Gowdy (R)'), ('Special Trade Contractors', 'Garret Graves (R)'), ('Special Trade Contractors', 'Bill Johnson (R)'), ('Trucking', 'Sam Graves (R)'), ('Environment', 'Michelle Lujan Grisham (D)'), ('Environment', 'Jared Huffman (D)'), ('Clergy & Religious Organizations', 'Sheila Jackson Lee (D)')])"
      ]
     },
     "execution_count": 21,
     "metadata": {},
     "output_type": "execute_result"
    }
   ],
   "source": [
    "g.edges()"
   ]
  },
  {
   "cell_type": "code",
   "execution_count": null,
   "metadata": {},
   "outputs": [],
   "source": []
  },
  {
   "cell_type": "code",
   "execution_count": 15,
   "metadata": {},
   "outputs": [],
   "source": [
    "graph = g"
   ]
  },
  {
   "cell_type": "code",
   "execution_count": 16,
   "metadata": {},
   "outputs": [],
   "source": [
    "import neonx"
   ]
  },
  {
   "cell_type": "code",
   "execution_count": 17,
   "metadata": {},
   "outputs": [],
   "source": [
    "# create a Networkx graph\n",
    "# LINKS_TO is the relatioship name between the nodes\n",
    "data = neonx.get_geoff(graph, \"bribe\")"
   ]
  },
  {
   "cell_type": "code",
   "execution_count": 18,
   "metadata": {},
   "outputs": [],
   "source": [
    "# write graph to Neo4J db hosted locally\n",
    "results = neonx.write_to_neo(\"http://localhost:7474/db/data/\", graph, 'bribe')"
   ]
  },
  {
   "cell_type": "code",
   "execution_count": 75,
   "metadata": {},
   "outputs": [
    {
     "name": "stdout",
     "output_type": "stream",
     "text": [
      "Help on function write_to_neo in module neonx.neo:\n",
      "\n",
      "write_to_neo(server_url, graph, edge_rel_name, encoder=None)\n",
      "    Write the `graph` as Geoff string. The edges between the nodes\n",
      "    have relationship name `edge_rel_name`. The code\n",
      "    below shows a simple example::\n",
      "    \n",
      "        from neonx import write_to_neo\n",
      "    \n",
      "        # create a graph\n",
      "        import networkx as nx\n",
      "        G = nx.Graph()\n",
      "        G.add_nodes_from([1, 2, 3])\n",
      "        G.add_edge(1, 2)\n",
      "        G.add_edge(2, 3)\n",
      "    \n",
      "    \n",
      "        # save graph to neo4j\n",
      "        results = write_to_neo(\"http://localhost:7474/db/data/\", G, 'LINKS_TO')\n",
      "    \n",
      "    If the properties are not json encodable, please pass a custom JSON encoder\n",
      "    class. See `JSONEncoder\n",
      "    <http://docs.python.org/2/library/json.html#json.JSONEncoder/>`_.\n",
      "    \n",
      "    :param server_url: Server URL for the Neo4j server.\n",
      "    :param graph: A NetworkX Graph or a DiGraph\n",
      "    :param edge_rel_name: Relationship name between the nodes\n",
      "    :param optional encoder: JSONEncoder object. Defaults to JSONEncoder.\n",
      "    :rtype: A list of Neo4j created resources.\n",
      "\n"
     ]
    }
   ],
   "source": [
    "help(neonx.write_to_neo)"
   ]
  },
  {
   "cell_type": "code",
   "execution_count": 19,
   "metadata": {},
   "outputs": [],
   "source": [
    "pickle_obj(data, '200')"
   ]
  },
  {
   "cell_type": "code",
   "execution_count": 32,
   "metadata": {},
   "outputs": [
    {
     "data": {
      "text/plain": [
       "'/Users/mark/Documents/flatiron/projects/congress_bribes/graphing_congressional_lobbying/graphing_congress_lobbying_industries'"
      ]
     },
     "execution_count": 32,
     "metadata": {},
     "output_type": "execute_result"
    }
   ],
   "source": [
    "pwd"
   ]
  },
  {
   "cell_type": "code",
   "execution_count": 26,
   "metadata": {},
   "outputs": [],
   "source": [
    "nx.write_gexf(graph, \"/Users/mark/Documents/flatiron/projects/congress_bribes/graphing_congressional_lobbying/graphing_congress_lobbying_industries/200_geoff.gexf\")"
   ]
  },
  {
   "cell_type": "code",
   "execution_count": 135,
   "metadata": {},
   "outputs": [],
   "source": [
    "with open('graph_geoff', 'w') as f:\n",
    "    nx.write_gexf(graph, \"400_geoff_new_n.gexf\")"
   ]
  },
  {
   "cell_type": "markdown",
   "metadata": {},
   "source": [
    "# Graph created & geoff'd for easy imports\n",
    "- I've got it running in Gephi right now. it's quite colourful."
   ]
  },
  {
   "cell_type": "code",
   "execution_count": null,
   "metadata": {},
   "outputs": [],
   "source": []
  },
  {
   "cell_type": "markdown",
   "metadata": {},
   "source": [
    "# hosted it in neo4j. let's explore some queries"
   ]
  },
  {
   "cell_type": "code",
   "execution_count": 55,
   "metadata": {},
   "outputs": [
    {
     "data": {
      "text/plain": [
       "AtlasView({'Health Professionals': {'weight': '172491'}, 'Oil & Gas': {'weight': '80807'}, 'Air Transport': {'weight': '65500'}, 'Retired': {'weight': '59656'}, 'Chemical & Related Manufacturing': {'weight': '54000'}, 'Construction Services': {'weight': '35700'}, 'Real Estate': {'weight': '34274'}, 'Automotive': {'weight': '33600'}, 'Lawyers/Law Firms': {'weight': '33249'}, 'General Contractors': {'weight': '29681'}})"
      ]
     },
     "execution_count": 55,
     "metadata": {},
     "output_type": "execute_result"
    }
   ],
   "source": [
    "g['Brian Babin (R)']"
   ]
  },
  {
   "cell_type": "code",
   "execution_count": null,
   "metadata": {},
   "outputs": [],
   "source": []
  },
  {
   "cell_type": "code",
   "execution_count": null,
   "metadata": {},
   "outputs": [],
   "source": []
  },
  {
   "cell_type": "code",
   "execution_count": null,
   "metadata": {},
   "outputs": [],
   "source": []
  },
  {
   "cell_type": "code",
   "execution_count": null,
   "metadata": {},
   "outputs": [],
   "source": []
  }
 ],
 "metadata": {
  "kernelspec": {
   "display_name": "Python 3",
   "language": "python",
   "name": "python3"
  },
  "language_info": {
   "codemirror_mode": {
    "name": "ipython",
    "version": 3
   },
   "file_extension": ".py",
   "mimetype": "text/x-python",
   "name": "python",
   "nbconvert_exporter": "python",
   "pygments_lexer": "ipython3",
   "version": "3.7.4"
  },
  "toc": {
   "base_numbering": 1,
   "nav_menu": {},
   "number_sections": true,
   "sideBar": true,
   "skip_h1_title": false,
   "title_cell": "Table of Contents",
   "title_sidebar": "Contents",
   "toc_cell": true,
   "toc_position": {
    "height": "calc(100% - 180px)",
    "left": "10px",
    "top": "150px",
    "width": "224px"
   },
   "toc_section_display": true,
   "toc_window_display": true
  }
 },
 "nbformat": 4,
 "nbformat_minor": 2
}
