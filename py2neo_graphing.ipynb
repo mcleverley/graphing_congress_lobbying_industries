{
 "cells": [
  {
   "cell_type": "markdown",
   "metadata": {
    "toc": true
   },
   "source": [
    "<h1>Table of Contents<span class=\"tocSkip\"></span></h1>\n",
    "<div class=\"toc\"><ul class=\"toc-item\"><li><ul class=\"toc-item\"><li><span><a href=\"#imports\" data-toc-modified-id=\"imports-0.1\"><span class=\"toc-item-num\">0.1&nbsp;&nbsp;</span>imports</a></span></li><li><span><a href=\"#methods\" data-toc-modified-id=\"methods-0.2\"><span class=\"toc-item-num\">0.2&nbsp;&nbsp;</span>methods</a></span></li></ul></li><li><span><a href=\"#Connect-to-local-Neo4J-database\" data-toc-modified-id=\"Connect-to-local-Neo4J-database-1\"><span class=\"toc-item-num\">1&nbsp;&nbsp;</span>Connect to local Neo4J database</a></span></li><li><span><a href=\"#graph-creation-in-Py2Neo\" data-toc-modified-id=\"graph-creation-in-Py2Neo-2\"><span class=\"toc-item-num\">2&nbsp;&nbsp;</span>graph creation in Py2Neo</a></span><ul class=\"toc-item\"><li><span><a href=\"#Graph-population-method\" data-toc-modified-id=\"Graph-population-method-2.1\"><span class=\"toc-item-num\">2.1&nbsp;&nbsp;</span>Graph population method</a></span></li></ul></li></ul></div>"
   ]
  },
  {
   "cell_type": "markdown",
   "metadata": {},
   "source": [
    "### imports"
   ]
  },
  {
   "cell_type": "code",
   "execution_count": 1,
   "metadata": {},
   "outputs": [],
   "source": [
    "import py2neo\n",
    "from py2neo import Database\n",
    "from py2neo import Graph, Node, Relationship\n",
    "from py2neo import NodeMatcher, RelationshipMatcher\n",
    "import neoconfig\n",
    "import pickle\n"
   ]
  },
  {
   "cell_type": "code",
   "execution_count": 2,
   "metadata": {},
   "outputs": [],
   "source": [
    "def get_industries(mems): # pass list-list-dict-dict data\n",
    "    industries = [] # returns list of unique industries\n",
    "    for chamber in mems: # this is awfully nested\n",
    "        for member in chamber: # dict\n",
    "            for k, v in member.items():\n",
    "                if k!='party' and k!='name' and k!='id':\n",
    "                    if k not in industries:\n",
    "                        industries.append(k)\n",
    "    return industries\n",
    "\n",
    "def add_industry_nodes(G, industries): # pass graph, list of industries\n",
    "    for industry in industries:\n",
    "        G.add_node(str(industry), size=0, ind=industry)\n",
    "        print(type(industry), type(G.node[industry]))\n",
    "    return G # returns modified graph\n",
    "\n",
    "def pickle_obj(obj, filename):\n",
    "    with open(filename, 'wb') as f:\n",
    "        pickle.dump(obj, f)\n",
    "def unpickle_obj(filename):\n",
    "    with open(filename, 'rb') as f:\n",
    "        return pickle.load(f)\n",
    "    \n",
    "    \n"
   ]
  },
  {
   "cell_type": "code",
   "execution_count": null,
   "metadata": {},
   "outputs": [],
   "source": []
  },
  {
   "cell_type": "code",
   "execution_count": null,
   "metadata": {},
   "outputs": [],
   "source": []
  },
  {
   "cell_type": "code",
   "execution_count": null,
   "metadata": {},
   "outputs": [],
   "source": []
  },
  {
   "cell_type": "code",
   "execution_count": null,
   "metadata": {},
   "outputs": [],
   "source": []
  },
  {
   "cell_type": "code",
   "execution_count": 3,
   "metadata": {},
   "outputs": [],
   "source": [
    "def populate_graph(G, mems, industries): # add member nodes + edges\n",
    "    edges = []\n",
    "    ec=0\n",
    "    for chamber in mems:\n",
    "        for c, member in enumerate(chamber):\n",
    "            if len(member)!=0:\n",
    "                try:\n",
    "                    mem_node = G.add_node(member['name'], size=0)\n",
    "                    total_mem_size = 0\n",
    "                    print(c)\n",
    "                    for k, v in member.items():\n",
    "                        if k!='party' and k!='name' and k!='id': # industry dict\n",
    "                            G.add_edge(member['name'], v['name'], weight=v['total'])\n",
    "#                             G[member['name']][v['name']]['party'] = member['party']\n",
    "                            total_mem_size += int(v['total']) # update member's total bribery $\n",
    "                            G.node[v['name']]['size'] += int(v['total']) # update industry's total bribery $\n",
    "                    G.node[member['name']]['size'] = total_mem_size # reassign mem_node size\n",
    "                    G.node[member['name']]['party'] = member['party']\n",
    "                    G.node[member['name']]['name'] = member['name'] # give a name property\n",
    "                except:\n",
    "                    ec+=1 # count errors to ensure data integrity\n",
    "    print(f'{ec} errors')\n",
    "    return G"
   ]
  },
  {
   "cell_type": "code",
   "execution_count": null,
   "metadata": {},
   "outputs": [],
   "source": []
  },
  {
   "cell_type": "code",
   "execution_count": 3,
   "metadata": {},
   "outputs": [],
   "source": [
    "# members in json format\n",
    "mems = unpickle_obj('json_data')"
   ]
  },
  {
   "cell_type": "code",
   "execution_count": 4,
   "metadata": {},
   "outputs": [],
   "source": [
    "industries = get_industries(mems)"
   ]
  },
  {
   "cell_type": "code",
   "execution_count": null,
   "metadata": {},
   "outputs": [],
   "source": []
  },
  {
   "cell_type": "code",
   "execution_count": null,
   "metadata": {},
   "outputs": [],
   "source": []
  },
  {
   "cell_type": "code",
   "execution_count": null,
   "metadata": {},
   "outputs": [],
   "source": []
  },
  {
   "cell_type": "code",
   "execution_count": null,
   "metadata": {},
   "outputs": [],
   "source": []
  },
  {
   "cell_type": "code",
   "execution_count": null,
   "metadata": {},
   "outputs": [],
   "source": []
  },
  {
   "cell_type": "code",
   "execution_count": null,
   "metadata": {},
   "outputs": [],
   "source": []
  },
  {
   "cell_type": "markdown",
   "metadata": {},
   "source": [
    "### methods"
   ]
  },
  {
   "cell_type": "code",
   "execution_count": null,
   "metadata": {},
   "outputs": [],
   "source": []
  },
  {
   "cell_type": "code",
   "execution_count": null,
   "metadata": {},
   "outputs": [],
   "source": []
  },
  {
   "cell_type": "markdown",
   "metadata": {},
   "source": [
    "## Connect to local Neo4J database"
   ]
  },
  {
   "cell_type": "code",
   "execution_count": 28,
   "metadata": {},
   "outputs": [],
   "source": [
    "db = py2neo.Database() # instantiate using default bolt port"
   ]
  },
  {
   "cell_type": "code",
   "execution_count": 29,
   "metadata": {},
   "outputs": [],
   "source": [
    "g = py2neo.Graph(host='localhost', auth = ('neo4j', neoconfig.password))"
   ]
  },
  {
   "cell_type": "markdown",
   "metadata": {},
   "source": [
    "the logic of py2neo seems to be:\n",
    "- create transaction, the 'subgraph'\n",
    "    - create Nodes or Relationships, assign placeholder variable names\n",
    "    - transaction.create(placeholder_name) for anything you want to add\n",
    "    - tx.commit() to push the subgraph up to the connected Neo db"
   ]
  },
  {
   "cell_type": "code",
   "execution_count": 31,
   "metadata": {},
   "outputs": [],
   "source": [
    "tx = g.begin() # begin transaction\n",
    "a = Node('Crab', name='Reginald', weight=4) # create nodes\n",
    "b = Node('Whale', name='Jake', weight=2000)\n",
    "ab = Relationship(a, 'FRIENDS', b) # create relationship\n",
    "tx.create(a) # create using variable names\n",
    "tx.create(b)\n",
    "tx.create(ab)\n",
    "tx.commit()"
   ]
  },
  {
   "cell_type": "code",
   "execution_count": 8,
   "metadata": {},
   "outputs": [],
   "source": [
    "# tx = g.begin()\n",
    "# col = Node('Spinny boy', name='Colin', moves=100)\n",
    "# ram = Node('Spinny boy', name='Ramone', moves=200)\n",
    "# tx.create(col)\n",
    "# tx.create(ram)\n",
    "# tx.commit()"
   ]
  },
  {
   "cell_type": "code",
   "execution_count": 11,
   "metadata": {},
   "outputs": [],
   "source": [
    "# tx = g.begin()\n",
    "# frnd = Relationship(col, 'FRIENDS', ram, same_crew='yes')\n",
    "# tx.create(frnd)\n",
    "# tx.commit()"
   ]
  },
  {
   "cell_type": "code",
   "execution_count": null,
   "metadata": {},
   "outputs": [],
   "source": []
  },
  {
   "cell_type": "code",
   "execution_count": 34,
   "metadata": {},
   "outputs": [
    {
     "data": {
      "text/plain": [
       "False"
      ]
     },
     "execution_count": 34,
     "metadata": {},
     "output_type": "execute_result"
    }
   ],
   "source": [
    "g.exists(ab)"
   ]
  },
  {
   "cell_type": "code",
   "execution_count": 8,
   "metadata": {},
   "outputs": [
    {
     "data": {
      "text/plain": [
       "True"
      ]
     },
     "execution_count": 8,
     "metadata": {},
     "output_type": "execute_result"
    }
   ],
   "source": [
    "tx.commit() # exists in graph after commit\n",
    "g.exists(ab)"
   ]
  },
  {
   "cell_type": "code",
   "execution_count": 12,
   "metadata": {},
   "outputs": [],
   "source": [
    "mat = NodeMatcher(g)\n",
    "\n",
    "dolph = mat.match('Dolphin', name='George').first() # matches first node with type Dolphin\n"
   ]
  },
  {
   "cell_type": "code",
   "execution_count": 13,
   "metadata": {},
   "outputs": [
    {
     "data": {
      "text/plain": [
       "(_20:Dolphin {name: 'George', weight: 50})"
      ]
     },
     "execution_count": 13,
     "metadata": {},
     "output_type": "execute_result"
    }
   ],
   "source": [
    "dolph"
   ]
  },
  {
   "cell_type": "code",
   "execution_count": null,
   "metadata": {},
   "outputs": [],
   "source": []
  },
  {
   "cell_type": "code",
   "execution_count": null,
   "metadata": {},
   "outputs": [],
   "source": []
  },
  {
   "cell_type": "code",
   "execution_count": null,
   "metadata": {},
   "outputs": [],
   "source": [
    "tx = g.begin()\n",
    "matcher = NodeMatcher(g)"
   ]
  },
  {
   "cell_type": "code",
   "execution_count": 15,
   "metadata": {},
   "outputs": [
    {
     "data": {
      "text/plain": [
       "(_20:Dolphin {name: 'George', weight: 50})"
      ]
     },
     "execution_count": 15,
     "metadata": {},
     "output_type": "execute_result"
    }
   ],
   "source": [
    "matcher.match('Dolphin', weight=50).first() # returns a node"
   ]
  },
  {
   "cell_type": "code",
   "execution_count": 17,
   "metadata": {},
   "outputs": [],
   "source": [
    "# assign match to varname for edge creation\n",
    "george = matcher.match('Dolphin', name='George').first()\n",
    "jake = matcher.match('Whale', name='Jake').first()\n",
    "rel = Relationship(george, 'RIVALS', jake, competitions=5)\n",
    "tx.create(rel)\n",
    "tx.commit()\n"
   ]
  },
  {
   "cell_type": "code",
   "execution_count": null,
   "metadata": {},
   "outputs": [],
   "source": [
    "tx = g.begin()\n",
    "ematcher = RelationshipMatcher(g)\n",
    "george = matcher.match('Dolphin', name='George').first()\n",
    "jake = matcher.match('Whale', name='Jake').first()\n",
    "m = ematcher.match(nodes=(george, jake)).first()"
   ]
  },
  {
   "cell_type": "code",
   "execution_count": 83,
   "metadata": {},
   "outputs": [],
   "source": [
    "tx = g.begin()\n",
    "hugh = matcher.match('Shrimp').first()\n",
    "george = matcher.match('Dolphin', name='George').first()\n",
    "jake = matcher.match('Whale', name='Jake').first()\n",
    "m = ematcher.match(nodes=(george, jake)).first()\n"
   ]
  },
  {
   "cell_type": "code",
   "execution_count": 84,
   "metadata": {},
   "outputs": [
    {
     "data": {
      "text/plain": [
       "(_40:Shrimp {name: 'Hugh', weight: 1})"
      ]
     },
     "execution_count": 84,
     "metadata": {},
     "output_type": "execute_result"
    }
   ],
   "source": [
    "hugh"
   ]
  },
  {
   "cell_type": "code",
   "execution_count": 89,
   "metadata": {},
   "outputs": [
    {
     "data": {
      "text/plain": [
       "NoneType"
      ]
     },
     "execution_count": 89,
     "metadata": {},
     "output_type": "execute_result"
    }
   ],
   "source": [
    "con = ematcher.match(nodes=(hugh, george)).first()\n",
    "type(con)"
   ]
  },
  {
   "cell_type": "code",
   "execution_count": 90,
   "metadata": {},
   "outputs": [
    {
     "name": "stdout",
     "output_type": "stream",
     "text": [
      "no\n"
     ]
    }
   ],
   "source": [
    "if con:\n",
    "    print('yes')\n",
    "if not con:\n",
    "    print('no')"
   ]
  },
  {
   "cell_type": "code",
   "execution_count": null,
   "metadata": {},
   "outputs": [],
   "source": [
    "c0"
   ]
  },
  {
   "cell_type": "code",
   "execution_count": 66,
   "metadata": {},
   "outputs": [
    {
     "data": {
      "text/plain": [
       "(George)-[:RIVALS {competitions: 500}]->(Jake)"
      ]
     },
     "execution_count": 66,
     "metadata": {},
     "output_type": "execute_result"
    }
   ],
   "source": [
    "m['competitions'] = 500\n",
    "m"
   ]
  },
  {
   "cell_type": "code",
   "execution_count": 79,
   "metadata": {},
   "outputs": [],
   "source": [
    "tx = g.begin()"
   ]
  },
  {
   "cell_type": "code",
   "execution_count": null,
   "metadata": {},
   "outputs": [],
   "source": [
    "(\n",
    "f''\n",
    "f''\n",
    "    \n",
    ")"
   ]
  },
  {
   "cell_type": "code",
   "execution_count": 78,
   "metadata": {},
   "outputs": [
    {
     "name": "stdout",
     "output_type": "stream",
     "text": [
      "'Hello, John5!\n",
      "\n"
     ]
    }
   ],
   "source": [
    "name = \"John\"\n",
    "num = 5\n",
    "print(''''Hello, %s%d!\n",
    "''' % (name, num))"
   ]
  },
  {
   "cell_type": "code",
   "execution_count": 80,
   "metadata": {},
   "outputs": [],
   "source": [
    "mon = 45\n",
    "query = '''\n",
    "MATCH (:Dolphin { name: 'George' })-[r]-(:Crab)\n",
    "SET r.money = %d\n",
    "RETURN r.money\n",
    "''' % (mon)\n",
    "tx.run(query)\n",
    "tx.commit()"
   ]
  },
  {
   "cell_type": "code",
   "execution_count": null,
   "metadata": {},
   "outputs": [],
   "source": [
    "tx."
   ]
  },
  {
   "cell_type": "code",
   "execution_count": 69,
   "metadata": {},
   "outputs": [
    {
     "data": {
      "text/plain": [
       "False"
      ]
     },
     "execution_count": 69,
     "metadata": {},
     "output_type": "execute_result"
    }
   ],
   "source": [
    "tx.finished()"
   ]
  },
  {
   "cell_type": "code",
   "execution_count": 67,
   "metadata": {},
   "outputs": [
    {
     "ename": "TypeError",
     "evalue": "merge() missing 1 required positional argument: 'subgraph'",
     "output_type": "error",
     "traceback": [
      "\u001b[0;31m---------------------------------------------------------------------------\u001b[0m",
      "\u001b[0;31mTypeError\u001b[0m                                 Traceback (most recent call last)",
      "\u001b[0;32m<ipython-input-67-5478c600f6c2>\u001b[0m in \u001b[0;36m<module>\u001b[0;34m\u001b[0m\n\u001b[0;32m----> 1\u001b[0;31m \u001b[0mtx\u001b[0m\u001b[0;34m.\u001b[0m\u001b[0mmerge\u001b[0m\u001b[0;34m(\u001b[0m\u001b[0;34m)\u001b[0m\u001b[0;34m\u001b[0m\u001b[0;34m\u001b[0m\u001b[0m\n\u001b[0m\u001b[1;32m      2\u001b[0m \u001b[0mtx\u001b[0m\u001b[0;34m.\u001b[0m\u001b[0mcommit\u001b[0m\u001b[0;34m(\u001b[0m\u001b[0;34m)\u001b[0m\u001b[0;34m\u001b[0m\u001b[0;34m\u001b[0m\u001b[0m\n",
      "\u001b[0;31mTypeError\u001b[0m: merge() missing 1 required positional argument: 'subgraph'"
     ]
    }
   ],
   "source": [
    "tx.merge()\n",
    "tx.commit()"
   ]
  },
  {
   "cell_type": "code",
   "execution_count": null,
   "metadata": {},
   "outputs": [],
   "source": []
  },
  {
   "cell_type": "code",
   "execution_count": 42,
   "metadata": {},
   "outputs": [
    {
     "data": {
      "text/plain": [
       "(George)-[:RIVALS {competitions: 5}]->(Jake)"
      ]
     },
     "execution_count": 42,
     "metadata": {},
     "output_type": "execute_result"
    }
   ],
   "source": [
    "m = ematcher.match(nodes=(george, jake)).first()\n",
    "m"
   ]
  },
  {
   "cell_type": "code",
   "execution_count": 73,
   "metadata": {},
   "outputs": [
    {
     "data": {
      "text/plain": [
       "'a3\\nb'"
      ]
     },
     "execution_count": 73,
     "metadata": {},
     "output_type": "execute_result"
    }
   ],
   "source": [
    "f'''a{1+2}\n",
    "b'''"
   ]
  },
  {
   "cell_type": "markdown",
   "metadata": {},
   "source": [
    "## graph creation in Py2Neo"
   ]
  },
  {
   "cell_type": "code",
   "execution_count": 22,
   "metadata": {},
   "outputs": [
    {
     "data": {
      "text/plain": [
       "'Agricultural Services/Products'"
      ]
     },
     "execution_count": 22,
     "metadata": {},
     "output_type": "execute_result"
    }
   ],
   "source": [
    "industries[2]"
   ]
  },
  {
   "cell_type": "code",
   "execution_count": null,
   "metadata": {},
   "outputs": [],
   "source": []
  },
  {
   "cell_type": "markdown",
   "metadata": {},
   "source": [
    "\n",
    "- Py2Neo's Database.Transaction.commit() presents an issue updating new edge properties.\n",
    "- it commits a subgraph to the larger Database, but:\n",
    "            - \"Any entities in subgraph that are already bound to remote entities will remain unchanged, those which are not will become bound to their newly-created counterparts\"\n",
    "- so since our edges are going to be programatically updated, we can't use Py2Neo's RelationshipMatcher to update the main graph\n",
    "    - fix: stop mucking about with a wrapper and just use a Cypher statement\n",
    "        - SET relationship.property = value  will instantiate a new property if not exists, and update if exists\n",
    "    - cypher investigations: i can't use my beloved f-strings for a multiline query, because cypher uses the same {curly braces} that f-strings do.\n",
    "        - but the % formatting works with '''multiline''', so no worries"
   ]
  },
  {
   "cell_type": "code",
   "execution_count": null,
   "metadata": {},
   "outputs": [],
   "source": [
    "\n",
    "''' old method '''\n",
    "def populate_graph(g, mems, industries): # add member nodes + edges\n",
    "    g = add_industries(g, industries) # add industry nodes\n",
    "    nmatch = NodeMatcher(g)\n",
    "    ematch = RelationshipMatcher(g)\n",
    "    edges = []\n",
    "    ec=0\n",
    "    \n",
    "    for chamber in mems:\n",
    "        for c, member in enumerate(chamber):\n",
    "            if len(member)!=0:\n",
    "                try:\n",
    "                    mem_node = G.add_node(member['name'], size=0)\n",
    "                    total_mem_size = 0\n",
    "                    print(c)\n",
    "                    for k, v in member.items():\n",
    "                        if k!='party' and k!='name' and k!='id': # industry dict\n",
    "                            G.add_edge(member['name'], v['name'], weight=v['total'])\n",
    "#                             G[member['name']][v['name']]['party'] = member['party']\n",
    "                            total_mem_size += int(v['total']) # update member's total bribery $\n",
    "                            G.node[v['name']]['size'] += int(v['total']) # update industry's total bribery $\n",
    "                    G.node[member['name']]['size'] = total_mem_size # reassign mem_node size\n",
    "                    G.node[member['name']]['party'] = member['party']\n",
    "                    G.node[member['name']]['name'] = member['name'] # give a name property\n",
    "                except:\n",
    "                    ec+=1 # count errors to ensure data integrity\n",
    "    print(f'{ec} errors')\n",
    "    return G"
   ]
  },
  {
   "cell_type": "code",
   "execution_count": 28,
   "metadata": {
    "scrolled": true
   },
   "outputs": [
    {
     "data": {
      "text/plain": [
       "{'name': 'Ralph Abraham (R)',\n",
       " 'party': 'R',\n",
       " 'id': 'N00036633',\n",
       " 'Health Professionals': {'code': 'H01',\n",
       "  'name': 'Health Professionals',\n",
       "  'indiv': '32400',\n",
       "  'pac': '55500',\n",
       "  'total': '87900'},\n",
       " 'Crop Production & Basic Processing': {'code': 'A01',\n",
       "  'name': 'Crop Production & Basic Processing',\n",
       "  'indiv': '30100',\n",
       "  'pac': '52250',\n",
       "  'total': '82350'},\n",
       " 'Agricultural Services/Products': {'code': 'A07',\n",
       "  'name': 'Agricultural Services/Products',\n",
       "  'indiv': '750',\n",
       "  'pac': '37500',\n",
       "  'total': '38250'},\n",
       " 'General Contractors': {'code': 'C01',\n",
       "  'name': 'General Contractors',\n",
       "  'indiv': '29100',\n",
       "  'pac': '4500',\n",
       "  'total': '33600'},\n",
       " 'Air Transport': {'code': 'M01',\n",
       "  'name': 'Air Transport',\n",
       "  'indiv': '0',\n",
       "  'pac': '30500',\n",
       "  'total': '30500'},\n",
       " 'Leadership PACs': {'code': 'Q03',\n",
       "  'name': 'Leadership PACs',\n",
       "  'indiv': '0',\n",
       "  'pac': '29750',\n",
       "  'total': '29750'},\n",
       " 'Defense Aerospace': {'code': 'D01',\n",
       "  'name': 'Defense Aerospace',\n",
       "  'indiv': '0',\n",
       "  'pac': '29000',\n",
       "  'total': '29000'},\n",
       " 'Health Services/HMOs': {'code': 'H03',\n",
       "  'name': 'Health Services/HMOs',\n",
       "  'indiv': '11900',\n",
       "  'pac': '13500',\n",
       "  'total': '25400'},\n",
       " 'Oil & Gas': {'code': 'E01',\n",
       "  'name': 'Oil & Gas',\n",
       "  'indiv': '13800',\n",
       "  'pac': '11000',\n",
       "  'total': '24800'},\n",
       " 'Hospitals/Nursing Homes': {'code': 'H02',\n",
       "  'name': 'Hospitals/Nursing Homes',\n",
       "  'indiv': '21050',\n",
       "  'pac': '2700',\n",
       "  'total': '23750'}}"
      ]
     },
     "execution_count": 28,
     "metadata": {},
     "output_type": "execute_result"
    }
   ],
   "source": [
    "mems[0][0]"
   ]
  },
  {
   "cell_type": "markdown",
   "metadata": {},
   "source": [
    "### Graph population method"
   ]
  },
  {
   "cell_type": "code",
   "execution_count": null,
   "metadata": {},
   "outputs": [],
   "source": [
    "MATCH (:Dolphin { name: 'George' })-[r]-(:Crab)\n",
    "SET r.money = %d # matches rel between George the Dolphin and any crab, sets money\n",
    "RETURN r.money # wonder what would happen if George linked to 2 crabs? 2 change r?"
   ]
  },
  {
   "cell_type": "code",
   "execution_count": 42,
   "metadata": {},
   "outputs": [
    {
     "ename": "SyntaxError",
     "evalue": "f-string expression part cannot include a backslash (<ipython-input-42-153edad42eff>, line 13)",
     "output_type": "error",
     "traceback": [
      "\u001b[0;36m  File \u001b[0;32m\"<ipython-input-42-153edad42eff>\"\u001b[0;36m, line \u001b[0;32m13\u001b[0m\n\u001b[0;31m    '''\u001b[0m\n\u001b[0m      ^\u001b[0m\n\u001b[0;31mSyntaxError\u001b[0m\u001b[0;31m:\u001b[0m f-string expression part cannot include a backslash\n"
     ]
    }
   ],
   "source": [
    "name = 'Ralph Abraham (R)'\n",
    "weight = 500\n",
    "# ''' MATCH (n:{name: %s})\n",
    "#     SET n.weight = %d\n",
    "#     RETURN n\n",
    "#     '''.format(name, weight)\n",
    "# query = ('MATCH (n:{name %s}) '.format(name)\n",
    "# 'SET n.weight = %d '.format(weight)\n",
    "# 'RETURN n'\n",
    "# )\n",
    "\n",
    "query = f'''MATCH (n:\\{ \\} {name})\n",
    "'''\n",
    "query"
   ]
  },
  {
   "cell_type": "code",
   "execution_count": 57,
   "metadata": {},
   "outputs": [
    {
     "ename": "NameError",
     "evalue": "name 'graph' is not defined",
     "output_type": "error",
     "traceback": [
      "\u001b[0;31m---------------------------------------------------------------------------\u001b[0m",
      "\u001b[0;31mNameError\u001b[0m                                 Traceback (most recent call last)",
      "\u001b[0;32m<ipython-input-57-5b3cf970e328>\u001b[0m in \u001b[0;36m<module>\u001b[0;34m\u001b[0m\n\u001b[0;32m----> 1\u001b[0;31m graph.evaluate(\"MATCH (a:User {id: \" + str(user['id']) + \"}) \\\n\u001b[0m\u001b[1;32m      2\u001b[0m                 \u001b[0mWITH\u001b[0m \u001b[0ma\u001b[0m\u001b[0;31m \u001b[0m\u001b[0;31m\\\u001b[0m\u001b[0;34m\u001b[0m\u001b[0;34m\u001b[0m\u001b[0m\n\u001b[1;32m      3\u001b[0m                 \u001b[0mMATCH\u001b[0m \u001b[0;34m(\u001b[0m\u001b[0mb\u001b[0m\u001b[0;34m:\u001b[0m\u001b[0mUser\u001b[0m \u001b[0;34m{\u001b[0m\u001b[0mid\u001b[0m\u001b[0;34m:\u001b[0m \u001b[0;34m\" + str(rtuser['id']) + \"\u001b[0m\u001b[0;34m}\u001b[0m\u001b[0;34m)\u001b[0m\u001b[0;31m \u001b[0m\u001b[0;31m\\\u001b[0m\u001b[0;34m\u001b[0m\u001b[0;34m\u001b[0m\u001b[0m\n\u001b[1;32m      4\u001b[0m                 \u001b[0mMERGE\u001b[0m \u001b[0;34m(\u001b[0m\u001b[0ma\u001b[0m\u001b[0;34m)\u001b[0m\u001b[0;34m-\u001b[0m\u001b[0;34m[\u001b[0m\u001b[0mr\u001b[0m\u001b[0;34m:\u001b[0m\u001b[0mRETWEETS\u001b[0m\u001b[0;34m]\u001b[0m\u001b[0;34m->\u001b[0m\u001b[0;34m(\u001b[0m\u001b[0mb\u001b[0m\u001b[0;34m)\u001b[0m\u001b[0;31m \u001b[0m\u001b[0;31m\\\u001b[0m\u001b[0;34m\u001b[0m\u001b[0;34m\u001b[0m\u001b[0m\n\u001b[1;32m      5\u001b[0m                 \u001b[0mON\u001b[0m \u001b[0mCREATE\u001b[0m \u001b[0mSET\u001b[0m \u001b[0mr\u001b[0m\u001b[0;34m.\u001b[0m\u001b[0mcount\u001b[0m \u001b[0;34m=\u001b[0m \u001b[0;36m1\u001b[0m\u001b[0;31m \u001b[0m\u001b[0;31m\\\u001b[0m\u001b[0;34m\u001b[0m\u001b[0;34m\u001b[0m\u001b[0m\n",
      "\u001b[0;31mNameError\u001b[0m: name 'graph' is not defined"
     ]
    }
   ],
   "source": [
    "graph.evaluate(\"MATCH (a:User {id: \" + str(user['id']) + \"}) \\\n",
    "                WITH a \\\n",
    "                MATCH (b:User {id: \" + str(rtuser['id']) + \"}) \\\n",
    "                MERGE (a)-[r:RETWEETS]->(b) \\\n",
    "                ON CREATE SET r.count = 1 \\\n",
    "                ON MATCH SET r.count = r.count+1\")\n",
    "tx.evaluate(\"MATCH (n:Member {name: \" + node_name + \"}) \\\n",
    "            SET n.weight = \" + str(weight) + \" \\\n",
    "            RETURN n\")\n",
    "\n"
   ]
  },
  {
   "cell_type": "markdown",
   "metadata": {},
   "source": [
    "- notes on update issues:\n",
    "    - if the searched node + properties don't match pattern exactly, MERGE will just create a new node. no good\n",
    "    - MATCH doesn't seem to want to SET unless i just SET all nodes"
   ]
  },
  {
   "cell_type": "code",
   "execution_count": 77,
   "metadata": {},
   "outputs": [
    {
     "data": {
      "text/plain": [
       "<Graph database=<Database uri='bolt://localhost:7687' secure=False user_agent='py2neo/4.3.0 neobolt/1.7.15 Python/3.7.4-final-0 (darwin)'> name='data'>"
      ]
     },
     "execution_count": 77,
     "metadata": {},
     "output_type": "execute_result"
    }
   ],
   "source": [
    "def update_node_weight(g, node_name, node_weight): # string name of node, int weight to update to\n",
    "    tx = g.begin() # industry & member nodes both have name + weight properties\n",
    "    # method 1: string concat\n",
    "#     tx.run(\"MATCH (n:Member {name: \" + node_name + \"}) \\\n",
    "#             SET n.weight = \" + str(weight) + \" \\\n",
    "#             RETURN n\")\n",
    "#     tx.commit()\n",
    "\n",
    "    # method 2: $format\n",
    "    query = ('MERGE (n:Member {name: $name}) ' \n",
    "    'SET n.weight = $weight '\n",
    "    'RETURN n'\n",
    "    ) \n",
    "    g.run(query, name=str(node_name), weight=node_weight)\n",
    "    tx.commit()\n",
    "    return g # return g after modifying\n",
    "update_node_weight(g, 'Ralph Abraham(R)', 111)"
   ]
  },
  {
   "cell_type": "code",
   "execution_count": 65,
   "metadata": {},
   "outputs": [
    {
     "ename": "TypeError",
     "evalue": "'NodeMatch' object does not support item assignment",
     "output_type": "error",
     "traceback": [
      "\u001b[0;31m---------------------------------------------------------------------------\u001b[0m",
      "\u001b[0;31mTypeError\u001b[0m                                 Traceback (most recent call last)",
      "\u001b[0;32m<ipython-input-65-510afba1c9c4>\u001b[0m in \u001b[0;36m<module>\u001b[0;34m\u001b[0m\n\u001b[1;32m      3\u001b[0m     \u001b[0mnode\u001b[0m\u001b[0;34m[\u001b[0m\u001b[0;34m'weight'\u001b[0m\u001b[0;34m]\u001b[0m \u001b[0;34m=\u001b[0m \u001b[0mnode_weight\u001b[0m\u001b[0;34m\u001b[0m\u001b[0;34m\u001b[0m\u001b[0m\n\u001b[1;32m      4\u001b[0m     \u001b[0mnode\u001b[0m\u001b[0;34m.\u001b[0m\u001b[0mpush\u001b[0m\u001b[0;34m(\u001b[0m\u001b[0;34m)\u001b[0m\u001b[0;34m\u001b[0m\u001b[0;34m\u001b[0m\u001b[0m\n\u001b[0;32m----> 5\u001b[0;31m \u001b[0mp2neo_update_node_weight\u001b[0m\u001b[0;34m(\u001b[0m\u001b[0mg\u001b[0m\u001b[0;34m,\u001b[0m \u001b[0mmat\u001b[0m\u001b[0;34m,\u001b[0m \u001b[0;34m'Ralph Abraham(R)'\u001b[0m\u001b[0;34m,\u001b[0m \u001b[0;36m1234\u001b[0m\u001b[0;34m)\u001b[0m\u001b[0;34m\u001b[0m\u001b[0;34m\u001b[0m\u001b[0m\n\u001b[0m",
      "\u001b[0;32m<ipython-input-65-510afba1c9c4>\u001b[0m in \u001b[0;36mp2neo_update_node_weight\u001b[0;34m(g, nmat, node_name, node_weight)\u001b[0m\n\u001b[1;32m      1\u001b[0m \u001b[0;32mdef\u001b[0m \u001b[0mp2neo_update_node_weight\u001b[0m\u001b[0;34m(\u001b[0m\u001b[0mg\u001b[0m\u001b[0;34m,\u001b[0m \u001b[0mnmat\u001b[0m\u001b[0;34m,\u001b[0m \u001b[0mnode_name\u001b[0m\u001b[0;34m,\u001b[0m \u001b[0mnode_weight\u001b[0m\u001b[0;34m)\u001b[0m\u001b[0;34m:\u001b[0m\u001b[0;34m\u001b[0m\u001b[0;34m\u001b[0m\u001b[0m\n\u001b[1;32m      2\u001b[0m     \u001b[0mnode\u001b[0m \u001b[0;34m=\u001b[0m \u001b[0mnmat\u001b[0m\u001b[0;34m.\u001b[0m\u001b[0mmatch\u001b[0m\u001b[0;34m(\u001b[0m\u001b[0mnode_name\u001b[0m\u001b[0;34m)\u001b[0m\u001b[0;34m\u001b[0m\u001b[0;34m\u001b[0m\u001b[0m\n\u001b[0;32m----> 3\u001b[0;31m     \u001b[0mnode\u001b[0m\u001b[0;34m[\u001b[0m\u001b[0;34m'weight'\u001b[0m\u001b[0;34m]\u001b[0m \u001b[0;34m=\u001b[0m \u001b[0mnode_weight\u001b[0m\u001b[0;34m\u001b[0m\u001b[0;34m\u001b[0m\u001b[0m\n\u001b[0m\u001b[1;32m      4\u001b[0m     \u001b[0mnode\u001b[0m\u001b[0;34m.\u001b[0m\u001b[0mpush\u001b[0m\u001b[0;34m(\u001b[0m\u001b[0;34m)\u001b[0m\u001b[0;34m\u001b[0m\u001b[0;34m\u001b[0m\u001b[0m\n\u001b[1;32m      5\u001b[0m \u001b[0mp2neo_update_node_weight\u001b[0m\u001b[0;34m(\u001b[0m\u001b[0mg\u001b[0m\u001b[0;34m,\u001b[0m \u001b[0mmat\u001b[0m\u001b[0;34m,\u001b[0m \u001b[0;34m'Ralph Abraham(R)'\u001b[0m\u001b[0;34m,\u001b[0m \u001b[0;36m1234\u001b[0m\u001b[0;34m)\u001b[0m\u001b[0;34m\u001b[0m\u001b[0;34m\u001b[0m\u001b[0m\n",
      "\u001b[0;31mTypeError\u001b[0m: 'NodeMatch' object does not support item assignment"
     ]
    }
   ],
   "source": [
    "def p2neo_update_node_weight(g, nmat, node_name, node_weight):\n",
    "    node = nmat.match(node_name)\n",
    "    node['weight'] = node_weight\n",
    "    node.push()\n",
    "p2neo_update_node_weight(g, mat, 'Ralph Abraham(R)', )"
   ]
  },
  {
   "cell_type": "code",
   "execution_count": 66,
   "metadata": {},
   "outputs": [
    {
     "data": {
      "text/plain": [
       "<Graph database=<Database uri='bolt://localhost:7687' secure=False user_agent='py2neo/4.3.0 neobolt/1.7.15 Python/3.7.4-final-0 (darwin)'> name='data'>"
      ]
     },
     "execution_count": 66,
     "metadata": {},
     "output_type": "execute_result"
    }
   ],
   "source": []
  },
  {
   "cell_type": "code",
   "execution_count": 62,
   "metadata": {},
   "outputs": [],
   "source": [
    "mat = NodeMatcher(g)\n",
    "ral = mat.match('Ralph Abraham(R)').first()\n",
    "ral."
   ]
  },
  {
   "cell_type": "code",
   "execution_count": null,
   "metadata": {},
   "outputs": [],
   "source": [
    "def encode_sentiment(tweet):\n",
    "    sentiment, embedding = graph_sentiment(tweet['text'])\n",
    "    sentiment = float(sentiment)\n",
    "    t_id = tweet['id_str']\n",
    "    if not isinstance(tweet['retweeted_status'], dict):\n",
    "        query = '''MERGE (t:Tweet {id_str: $id})\n",
    "        ON CREATE SET t.stranded = 1\n",
    "        ON MATCH SET t.sentiment = $sentiment,\n",
    "            t.embedding = $embedding\n",
    "        '''\n",
    "        graph.run(query, id=t_id, sentiment=sentiment, embedding=list(embedding))\n",
    "        print('Sentimental')"
   ]
  },
  {
   "cell_type": "code",
   "execution_count": 36,
   "metadata": {},
   "outputs": [
    {
     "ename": "KeyError",
     "evalue": "'name'",
     "output_type": "error",
     "traceback": [
      "\u001b[0;31m---------------------------------------------------------------------------\u001b[0m",
      "\u001b[0;31mKeyError\u001b[0m                                  Traceback (most recent call last)",
      "\u001b[0;32m<ipython-input-36-a5eaa99f9692>\u001b[0m in \u001b[0;36m<module>\u001b[0;34m\u001b[0m\n\u001b[0;32m----> 1\u001b[0;31m \u001b[0mupdate_node_weight\u001b[0m\u001b[0;34m(\u001b[0m\u001b[0mg\u001b[0m\u001b[0;34m,\u001b[0m \u001b[0;34m'Ralph Abraham (R)'\u001b[0m\u001b[0;34m,\u001b[0m \u001b[0;36m500\u001b[0m\u001b[0;34m)\u001b[0m\u001b[0;34m\u001b[0m\u001b[0;34m\u001b[0m\u001b[0m\n\u001b[0m",
      "\u001b[0;32m<ipython-input-32-30b7345a2a31>\u001b[0m in \u001b[0;36mupdate_node_weight\u001b[0;34m(g, name, weight)\u001b[0m\n\u001b[1;32m      4\u001b[0m     \u001b[0mSET\u001b[0m \u001b[0mn\u001b[0m\u001b[0;34m.\u001b[0m\u001b[0mweight\u001b[0m \u001b[0;34m=\u001b[0m \u001b[0;34m%\u001b[0m\u001b[0md\u001b[0m\u001b[0;34m\u001b[0m\u001b[0;34m\u001b[0m\u001b[0m\n\u001b[1;32m      5\u001b[0m     \u001b[0mRETURN\u001b[0m \u001b[0mn\u001b[0m\u001b[0;34m\u001b[0m\u001b[0;34m\u001b[0m\u001b[0m\n\u001b[0;32m----> 6\u001b[0;31m     '''.format(name, weight) # can't use multiline f-strings, cypher uses {} too\n\u001b[0m\u001b[1;32m      7\u001b[0m     \u001b[0mtx\u001b[0m\u001b[0;34m.\u001b[0m\u001b[0mrun\u001b[0m\u001b[0;34m(\u001b[0m\u001b[0mquery\u001b[0m\u001b[0;34m)\u001b[0m\u001b[0;34m\u001b[0m\u001b[0;34m\u001b[0m\u001b[0m\n\u001b[1;32m      8\u001b[0m     \u001b[0mtx\u001b[0m\u001b[0;34m.\u001b[0m\u001b[0mcommit\u001b[0m\u001b[0;34m(\u001b[0m\u001b[0;34m)\u001b[0m\u001b[0;34m\u001b[0m\u001b[0;34m\u001b[0m\u001b[0m\n",
      "\u001b[0;31mKeyError\u001b[0m: 'name'"
     ]
    }
   ],
   "source": [
    "update_node_weight(g, 'Ralph Abraham (R)', 500)"
   ]
  },
  {
   "cell_type": "code",
   "execution_count": 33,
   "metadata": {},
   "outputs": [],
   "source": [
    "def add_industries(g, industries): # populates graph with Industry nodes\n",
    "    tx = g.begin()\n",
    "    for c, indu in enumerate(industries):\n",
    "        n = Node('Industry', name=indu, weight=0) # weight is total money given\n",
    "        tx.create(n)\n",
    "        print(f'created {c+1} industries . . . ')\n",
    "    tx.commit() # push industry nodes to local DB\n",
    "    return g\n",
    "\n",
    "def graphify(g, mems, industries):\n",
    "    ''' args: p2neo graph, congressmembers_list_(dicts), industries_list_(strings)\n",
    "    returns: p2neo graph obj.  also commits changes to local neo4j database'''\n",
    "    \n",
    "    g = add_industries(g, industries) # add industry nodes\n",
    "    ind_totals = dict(zip(industries, [0]*len(industries))) # to keep track of industry totals    \n",
    "    nmatch = NodeMatcher(g) # we could probably just query weight of all edges in Neo & SET it there...\n",
    "\n",
    "    print(f'created {len(industries)} industry nodes')\n",
    "    \n",
    "#     tx = g.begin() # can one tx handle all the data at once? let's find out\n",
    "    for ch, chamber in enumerate(mems): \n",
    "        for c, mem in enumerate(chamber): # mem is dict\n",
    "            print(f'starting {c} {mem[\"name\"]}')\n",
    "            tx = g.begin() # new tx for each node+all its edges\n",
    "            if ch == 0: chamb = 'House'\n",
    "            else: chamb = 'Senate'\n",
    "                \n",
    "            money_received = 0 # total $ for each member\n",
    "            member_name = mem['name']\n",
    "            mem_node = Node('Member', name=member_name, party=mem['party'],\n",
    "                           cid=mem['id'], chamber=chamb, weight=0)\n",
    "            tx.create(mem_node) # create member node\n",
    "            tx.commit()\n",
    "                # create all edges from member node to industry nodes\n",
    "            for key, val in mem.items(): # if key is str 'Agriculture', val is dict of that member's agri donation\n",
    "                if key!='name' and key!='party' and key!='id': # industry donations\n",
    "                    tx = g.begin() # new tx for each iteration, because reassigning var names\n",
    "                    ind_name = val['name']\n",
    "                    donation = int(val['total'])\n",
    "                    money_received += donation\n",
    "                    ind_node = nmatch.match('Industry', name=ind_name).first() # match target industry node\n",
    "                    bribe = Relationship(mem_node, ind_node, weight=donation) # link industry node to this member's donation\n",
    "                    tx.create(bribe) # add one edge to graph\n",
    "                    ind_totals[ind_name] += donation # add to total for industry\n",
    "                    tx.commit()\n",
    "#                     print(f' linked {ind_name} to {mem_name} by {donation}')\n",
    "            # done adding member's edges. update mem_node total $ weight\n",
    "            g = update_node_weight(g, member_name, money_received)\n",
    "            print(f\"{c}  {mem['name']} has received {money_receieved} in total\")\n",
    "    \n",
    "    for key, val in industries.items(): # update using ind_totals\n",
    "        name = key\n",
    "        total = val\n",
    "        g = update_node_weight(g, name, total)\n",
    "    print('[o] updated all industry node totals')\n",
    "    return g # why not\n",
    "                  \n",
    "                  \n",
    "                  "
   ]
  },
  {
   "cell_type": "code",
   "execution_count": 34,
   "metadata": {},
   "outputs": [
    {
     "name": "stdout",
     "output_type": "stream",
     "text": [
      "(439, 100)  82  \n"
     ]
    }
   ],
   "source": [
    "print(f'{len(mems[0]), len(mems[1])}  {len(industries)}  ') # good to go"
   ]
  },
  {
   "cell_type": "code",
   "execution_count": 35,
   "metadata": {
    "scrolled": true
   },
   "outputs": [
    {
     "name": "stdout",
     "output_type": "stream",
     "text": [
      "created 1 industries . . . \n",
      "created 2 industries . . . \n",
      "created 3 industries . . . \n",
      "created 4 industries . . . \n",
      "created 5 industries . . . \n",
      "created 6 industries . . . \n",
      "created 7 industries . . . \n",
      "created 8 industries . . . \n",
      "created 9 industries . . . \n",
      "created 10 industries . . . \n",
      "created 11 industries . . . \n",
      "created 12 industries . . . \n",
      "created 13 industries . . . \n",
      "created 14 industries . . . \n",
      "created 15 industries . . . \n",
      "created 16 industries . . . \n",
      "created 17 industries . . . \n",
      "created 18 industries . . . \n",
      "created 19 industries . . . \n",
      "created 20 industries . . . \n",
      "created 21 industries . . . \n",
      "created 22 industries . . . \n",
      "created 23 industries . . . \n",
      "created 24 industries . . . \n",
      "created 25 industries . . . \n",
      "created 26 industries . . . \n",
      "created 27 industries . . . \n",
      "created 28 industries . . . \n",
      "created 29 industries . . . \n",
      "created 30 industries . . . \n",
      "created 31 industries . . . \n",
      "created 32 industries . . . \n",
      "created 33 industries . . . \n",
      "created 34 industries . . . \n",
      "created 35 industries . . . \n",
      "created 36 industries . . . \n",
      "created 37 industries . . . \n",
      "created 38 industries . . . \n",
      "created 39 industries . . . \n",
      "created 40 industries . . . \n",
      "created 41 industries . . . \n",
      "created 42 industries . . . \n",
      "created 43 industries . . . \n",
      "created 44 industries . . . \n",
      "created 45 industries . . . \n",
      "created 46 industries . . . \n",
      "created 47 industries . . . \n",
      "created 48 industries . . . \n",
      "created 49 industries . . . \n",
      "created 50 industries . . . \n",
      "created 51 industries . . . \n",
      "created 52 industries . . . \n",
      "created 53 industries . . . \n",
      "created 54 industries . . . \n",
      "created 55 industries . . . \n",
      "created 56 industries . . . \n",
      "created 57 industries . . . \n",
      "created 58 industries . . . \n",
      "created 59 industries . . . \n",
      "created 60 industries . . . \n",
      "created 61 industries . . . \n",
      "created 62 industries . . . \n",
      "created 63 industries . . . \n",
      "created 64 industries . . . \n",
      "created 65 industries . . . \n",
      "created 66 industries . . . \n",
      "created 67 industries . . . \n",
      "created 68 industries . . . \n",
      "created 69 industries . . . \n",
      "created 70 industries . . . \n",
      "created 71 industries . . . \n",
      "created 72 industries . . . \n",
      "created 73 industries . . . \n",
      "created 74 industries . . . \n",
      "created 75 industries . . . \n",
      "created 76 industries . . . \n",
      "created 77 industries . . . \n",
      "created 78 industries . . . \n",
      "created 79 industries . . . \n",
      "created 80 industries . . . \n",
      "created 81 industries . . . \n",
      "created 82 industries . . . \n",
      "created 82 industry nodes\n",
      "starting 0 Ralph Abraham (R)\n"
     ]
    },
    {
     "ename": "KeyError",
     "evalue": "'name'",
     "output_type": "error",
     "traceback": [
      "\u001b[0;31m---------------------------------------------------------------------------\u001b[0m",
      "\u001b[0;31mKeyError\u001b[0m                                  Traceback (most recent call last)",
      "\u001b[0;32m<ipython-input-35-305645ab7af0>\u001b[0m in \u001b[0;36m<module>\u001b[0;34m\u001b[0m\n\u001b[0;32m----> 1\u001b[0;31m \u001b[0mg\u001b[0m \u001b[0;34m=\u001b[0m \u001b[0mgraphify\u001b[0m\u001b[0;34m(\u001b[0m\u001b[0mg\u001b[0m\u001b[0;34m,\u001b[0m \u001b[0mmems\u001b[0m\u001b[0;34m,\u001b[0m \u001b[0mindustries\u001b[0m\u001b[0;34m)\u001b[0m\u001b[0;34m\u001b[0m\u001b[0;34m\u001b[0m\u001b[0m\n\u001b[0m",
      "\u001b[0;32m<ipython-input-33-8f1e6a922a66>\u001b[0m in \u001b[0;36mgraphify\u001b[0;34m(g, mems, industries)\u001b[0m\n\u001b[1;32m     46\u001b[0m \u001b[0;31m#                     print(f' linked {ind_name} to {mem_name} by {donation}')\u001b[0m\u001b[0;34m\u001b[0m\u001b[0;34m\u001b[0m\u001b[0;34m\u001b[0m\u001b[0m\n\u001b[1;32m     47\u001b[0m             \u001b[0;31m# done adding member's edges. update mem_node total $ weight\u001b[0m\u001b[0;34m\u001b[0m\u001b[0;34m\u001b[0m\u001b[0;34m\u001b[0m\u001b[0m\n\u001b[0;32m---> 48\u001b[0;31m             \u001b[0mg\u001b[0m \u001b[0;34m=\u001b[0m \u001b[0mupdate_node_weight\u001b[0m\u001b[0;34m(\u001b[0m\u001b[0mg\u001b[0m\u001b[0;34m,\u001b[0m \u001b[0mmember_name\u001b[0m\u001b[0;34m,\u001b[0m \u001b[0mmoney_received\u001b[0m\u001b[0;34m)\u001b[0m\u001b[0;34m\u001b[0m\u001b[0;34m\u001b[0m\u001b[0m\n\u001b[0m\u001b[1;32m     49\u001b[0m             \u001b[0mprint\u001b[0m\u001b[0;34m(\u001b[0m\u001b[0;34mf\"{c}  {mem['name']} has received {money_receieved} in total\"\u001b[0m\u001b[0;34m)\u001b[0m\u001b[0;34m\u001b[0m\u001b[0;34m\u001b[0m\u001b[0m\n\u001b[1;32m     50\u001b[0m \u001b[0;34m\u001b[0m\u001b[0m\n",
      "\u001b[0;32m<ipython-input-32-30b7345a2a31>\u001b[0m in \u001b[0;36mupdate_node_weight\u001b[0;34m(g, name, weight)\u001b[0m\n\u001b[1;32m      4\u001b[0m     \u001b[0mSET\u001b[0m \u001b[0mn\u001b[0m\u001b[0;34m.\u001b[0m\u001b[0mweight\u001b[0m \u001b[0;34m=\u001b[0m \u001b[0;34m%\u001b[0m\u001b[0md\u001b[0m\u001b[0;34m\u001b[0m\u001b[0;34m\u001b[0m\u001b[0m\n\u001b[1;32m      5\u001b[0m     \u001b[0mRETURN\u001b[0m \u001b[0mn\u001b[0m\u001b[0;34m\u001b[0m\u001b[0;34m\u001b[0m\u001b[0m\n\u001b[0;32m----> 6\u001b[0;31m     '''.format(name, weight) # can't use multiline f-strings, cypher uses {} too\n\u001b[0m\u001b[1;32m      7\u001b[0m     \u001b[0mtx\u001b[0m\u001b[0;34m.\u001b[0m\u001b[0mrun\u001b[0m\u001b[0;34m(\u001b[0m\u001b[0mquery\u001b[0m\u001b[0;34m)\u001b[0m\u001b[0;34m\u001b[0m\u001b[0;34m\u001b[0m\u001b[0m\n\u001b[1;32m      8\u001b[0m     \u001b[0mtx\u001b[0m\u001b[0;34m.\u001b[0m\u001b[0mcommit\u001b[0m\u001b[0;34m(\u001b[0m\u001b[0;34m)\u001b[0m\u001b[0;34m\u001b[0m\u001b[0;34m\u001b[0m\u001b[0m\n",
      "\u001b[0;31mKeyError\u001b[0m: 'name'"
     ]
    }
   ],
   "source": [
    "g = graphify(g, mems, industries)"
   ]
  },
  {
   "cell_type": "code",
   "execution_count": 33,
   "metadata": {},
   "outputs": [
    {
     "name": "stdout",
     "output_type": "stream",
     "text": [
      "Help on method create in module py2neo.database:\n",
      "\n",
      "create(subgraph) method of py2neo.database.Transaction instance\n",
      "    Create remote nodes and relationships that correspond to those in a\n",
      "    local subgraph. Any entities in *subgraph* that are already bound to\n",
      "    remote entities will remain unchanged, those which are not will become\n",
      "    bound to their newly-created counterparts.\n",
      "    \n",
      "    For example::\n",
      "    \n",
      "        >>> from py2neo import Graph, Node, Relationship\n",
      "        >>> g = Graph()\n",
      "        >>> tx = g.begin()\n",
      "        >>> a = Node(\"Person\", name=\"Alice\")\n",
      "        >>> tx.create(a)\n",
      "        >>> b = Node(\"Person\", name=\"Bob\")\n",
      "        >>> ab = Relationship(a, \"KNOWS\", b)\n",
      "        >>> tx.create(ab)\n",
      "        >>> tx.commit()\n",
      "        >>> g.exists(ab)\n",
      "        True\n",
      "    \n",
      "    :param subgraph: a :class:`.Node`, :class:`.Relationship` or other\n",
      "                creatable object\n",
      "\n"
     ]
    }
   ],
   "source": [
    "help(tx.create)"
   ]
  },
  {
   "cell_type": "code",
   "execution_count": null,
   "metadata": {},
   "outputs": [],
   "source": []
  },
  {
   "cell_type": "code",
   "execution_count": null,
   "metadata": {},
   "outputs": [],
   "source": []
  },
  {
   "cell_type": "code",
   "execution_count": null,
   "metadata": {},
   "outputs": [],
   "source": []
  },
  {
   "cell_type": "code",
   "execution_count": null,
   "metadata": {},
   "outputs": [],
   "source": []
  },
  {
   "cell_type": "code",
   "execution_count": null,
   "metadata": {},
   "outputs": [],
   "source": []
  },
  {
   "cell_type": "code",
   "execution_count": null,
   "metadata": {},
   "outputs": [],
   "source": []
  },
  {
   "cell_type": "code",
   "execution_count": null,
   "metadata": {},
   "outputs": [],
   "source": []
  },
  {
   "cell_type": "code",
   "execution_count": null,
   "metadata": {},
   "outputs": [],
   "source": []
  },
  {
   "cell_type": "code",
   "execution_count": null,
   "metadata": {},
   "outputs": [],
   "source": []
  },
  {
   "cell_type": "code",
   "execution_count": null,
   "metadata": {},
   "outputs": [],
   "source": []
  },
  {
   "cell_type": "code",
   "execution_count": null,
   "metadata": {},
   "outputs": [],
   "source": []
  },
  {
   "cell_type": "code",
   "execution_count": null,
   "metadata": {},
   "outputs": [],
   "source": []
  }
 ],
 "metadata": {
  "kernelspec": {
   "display_name": "Python 3",
   "language": "python",
   "name": "python3"
  },
  "language_info": {
   "codemirror_mode": {
    "name": "ipython",
    "version": 3
   },
   "file_extension": ".py",
   "mimetype": "text/x-python",
   "name": "python",
   "nbconvert_exporter": "python",
   "pygments_lexer": "ipython3",
   "version": "3.7.4"
  },
  "toc": {
   "base_numbering": 1,
   "nav_menu": {},
   "number_sections": true,
   "sideBar": true,
   "skip_h1_title": false,
   "title_cell": "Table of Contents",
   "title_sidebar": "Contents",
   "toc_cell": true,
   "toc_position": {},
   "toc_section_display": true,
   "toc_window_display": true
  }
 },
 "nbformat": 4,
 "nbformat_minor": 2
}
