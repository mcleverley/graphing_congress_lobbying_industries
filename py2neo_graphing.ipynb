{
 "cells": [
  {
   "cell_type": "markdown",
   "metadata": {
    "toc": true
   },
   "source": [
    "<h1>Table of Contents<span class=\"tocSkip\"></span></h1>\n",
    "<div class=\"toc\"><ul class=\"toc-item\"><li><ul class=\"toc-item\"><li><span><a href=\"#imports\" data-toc-modified-id=\"imports-0.1\"><span class=\"toc-item-num\">0.1&nbsp;&nbsp;</span>imports</a></span></li><li><span><a href=\"#methods\" data-toc-modified-id=\"methods-0.2\"><span class=\"toc-item-num\">0.2&nbsp;&nbsp;</span>methods</a></span></li></ul></li><li><span><a href=\"#Connect-to-local-Neo4J-database\" data-toc-modified-id=\"Connect-to-local-Neo4J-database-1\"><span class=\"toc-item-num\">1&nbsp;&nbsp;</span>Connect to local Neo4J database</a></span></li><li><span><a href=\"#graph-creation-in-Py2Neo\" data-toc-modified-id=\"graph-creation-in-Py2Neo-2\"><span class=\"toc-item-num\">2&nbsp;&nbsp;</span>graph creation in Py2Neo</a></span></li></ul></div>"
   ]
  },
  {
   "cell_type": "markdown",
   "metadata": {},
   "source": [
    "### imports"
   ]
  },
  {
   "cell_type": "code",
   "execution_count": 29,
   "metadata": {},
   "outputs": [],
   "source": [
    "import py2neo\n",
    "from py2neo import Database\n",
    "from py2neo import Graph, Node, Relationship\n",
    "from py2neo import NodeMatcher, RelationshipMatcher\n",
    "import neoconfig\n",
    "import pickle\n"
   ]
  },
  {
   "cell_type": "code",
   "execution_count": 3,
   "metadata": {},
   "outputs": [],
   "source": [
    "def get_industries(mems): # pass list-list-dict-dict data\n",
    "    industries = [] # returns list of unique industries\n",
    "    for chamber in mems: # this is awfully nested\n",
    "        for member in chamber: # dict\n",
    "            for k, v in member.items():\n",
    "                if k!='party' and k!='name' and k!='id':\n",
    "                    if k not in industries:\n",
    "                        industries.append(k)\n",
    "    return industries\n",
    "\n",
    "def add_industry_nodes(G, industries): # pass graph, list of industries\n",
    "    for industry in industries:\n",
    "        G.add_node(str(industry), size=0, ind=industry)\n",
    "        print(type(industry), type(G.node[industry]))\n",
    "    return G # returns modified graph\n",
    "\n",
    "def pickle_obj(obj, filename):\n",
    "    with open(filename, 'wb') as f:\n",
    "        pickle.dump(obj, f)\n",
    "def unpickle_obj(filename):\n",
    "    with open(filename, 'rb') as f:\n",
    "        return pickle.load(f)\n",
    "    \n",
    "    \n"
   ]
  },
  {
   "cell_type": "code",
   "execution_count": null,
   "metadata": {},
   "outputs": [],
   "source": []
  },
  {
   "cell_type": "code",
   "execution_count": null,
   "metadata": {},
   "outputs": [],
   "source": []
  },
  {
   "cell_type": "code",
   "execution_count": null,
   "metadata": {},
   "outputs": [],
   "source": []
  },
  {
   "cell_type": "code",
   "execution_count": null,
   "metadata": {},
   "outputs": [],
   "source": []
  },
  {
   "cell_type": "code",
   "execution_count": null,
   "metadata": {},
   "outputs": [],
   "source": [
    "def populate_graph(G, mems, industries): # add member nodes + edges\n",
    "    edges = []\n",
    "    ec=0\n",
    "    for chamber in mems:\n",
    "        for c, member in enumerate(chamber):\n",
    "            if len(member)!=0:\n",
    "                try:\n",
    "                    mem_node = G.add_node(member['name'], size=0)\n",
    "                    total_mem_size = 0\n",
    "                    print(c)\n",
    "                    for k, v in member.items():\n",
    "                        if k!='party' and k!='name' and k!='id': # industry dict\n",
    "                            G.add_edge(member['name'], v['name'], weight=v['total'])\n",
    "#                             G[member['name']][v['name']]['party'] = member['party']\n",
    "                            total_mem_size += int(v['total']) # update member's total bribery $\n",
    "                            G.node[v['name']]['size'] += int(v['total']) # update industry's total bribery $\n",
    "                    G.node[member['name']]['size'] = total_mem_size # reassign mem_node size\n",
    "                    G.node[member['name']]['party'] = member['party']\n",
    "                    G.node[member['name']]['name'] = member['name'] # give a name property\n",
    "                except:\n",
    "                    ec+=1 # count errors to ensure data integrity\n",
    "    print(f'{ec} errors')\n",
    "    return G"
   ]
  },
  {
   "cell_type": "code",
   "execution_count": null,
   "metadata": {},
   "outputs": [],
   "source": []
  },
  {
   "cell_type": "code",
   "execution_count": 4,
   "metadata": {},
   "outputs": [],
   "source": [
    "# members in json format\n",
    "mems = unpickle_obj('json_data')"
   ]
  },
  {
   "cell_type": "code",
   "execution_count": 19,
   "metadata": {},
   "outputs": [],
   "source": [
    "industries = get_industries(mems)"
   ]
  },
  {
   "cell_type": "code",
   "execution_count": null,
   "metadata": {},
   "outputs": [],
   "source": []
  },
  {
   "cell_type": "code",
   "execution_count": null,
   "metadata": {},
   "outputs": [],
   "source": []
  },
  {
   "cell_type": "code",
   "execution_count": null,
   "metadata": {},
   "outputs": [],
   "source": []
  },
  {
   "cell_type": "code",
   "execution_count": null,
   "metadata": {},
   "outputs": [],
   "source": []
  },
  {
   "cell_type": "code",
   "execution_count": null,
   "metadata": {},
   "outputs": [],
   "source": []
  },
  {
   "cell_type": "code",
   "execution_count": null,
   "metadata": {},
   "outputs": [],
   "source": []
  },
  {
   "cell_type": "markdown",
   "metadata": {},
   "source": [
    "### methods"
   ]
  },
  {
   "cell_type": "code",
   "execution_count": null,
   "metadata": {},
   "outputs": [],
   "source": []
  },
  {
   "cell_type": "code",
   "execution_count": null,
   "metadata": {},
   "outputs": [],
   "source": []
  },
  {
   "cell_type": "markdown",
   "metadata": {},
   "source": [
    "## Connect to local Neo4J database"
   ]
  },
  {
   "cell_type": "code",
   "execution_count": 5,
   "metadata": {},
   "outputs": [],
   "source": [
    "db = py2neo.Database() # instantiate using default bolt port"
   ]
  },
  {
   "cell_type": "code",
   "execution_count": 6,
   "metadata": {},
   "outputs": [],
   "source": [
    "g = py2neo.Graph(host='localhost', auth = ('neo4j', neoconfig.password))"
   ]
  },
  {
   "cell_type": "markdown",
   "metadata": {},
   "source": [
    "the logic of py2neo seems to be:\n",
    "- create transaction, the 'subgraph'\n",
    "    - create Nodes or Relationships, assign placeholder variable names\n",
    "    - transaction.create(placeholder_name) for anything you want to add\n",
    "    - tx.commit() to push the subgraph up to the connected Neo db"
   ]
  },
  {
   "cell_type": "code",
   "execution_count": 7,
   "metadata": {},
   "outputs": [],
   "source": [
    "tx = g.begin() # begin transaction\n",
    "a = Node('Crab', name='Reginald', weight=4) # create nodes\n",
    "b = Node('Whale', name='Jake', weight=2000)\n",
    "ab = Relationship(a, 'FRIENDS', b) # create relationship\n",
    "tx.create(a) # create using variable names\n",
    "tx.create(b)\n",
    "tx.create(ab)"
   ]
  },
  {
   "cell_type": "code",
   "execution_count": 34,
   "metadata": {},
   "outputs": [
    {
     "data": {
      "text/plain": [
       "False"
      ]
     },
     "execution_count": 34,
     "metadata": {},
     "output_type": "execute_result"
    }
   ],
   "source": [
    "g.exists(ab)"
   ]
  },
  {
   "cell_type": "code",
   "execution_count": 8,
   "metadata": {},
   "outputs": [
    {
     "data": {
      "text/plain": [
       "True"
      ]
     },
     "execution_count": 8,
     "metadata": {},
     "output_type": "execute_result"
    }
   ],
   "source": [
    "tx.commit() # exists in graph after commit\n",
    "g.exists(ab)"
   ]
  },
  {
   "cell_type": "code",
   "execution_count": 9,
   "metadata": {},
   "outputs": [],
   "source": [
    "tx = g.begin()\n",
    "c = Node('Dolphin', name='George', weight=50)\n",
    "ca = Relationship(c, 'FRIENDS', a)\n",
    "tx.create(c)\n",
    "tx.create(ca)\n",
    "tx.commit()"
   ]
  },
  {
   "cell_type": "code",
   "execution_count": 27,
   "metadata": {},
   "outputs": [],
   "source": [
    "tx = g.begin()\n",
    "c = Node('Shrimp', name='Hugh', weight=1)\n",
    "tx.create(c)\n",
    "tx.commit()"
   ]
  },
  {
   "cell_type": "code",
   "execution_count": null,
   "metadata": {},
   "outputs": [],
   "source": []
  },
  {
   "cell_type": "code",
   "execution_count": null,
   "metadata": {},
   "outputs": [],
   "source": []
  },
  {
   "cell_type": "code",
   "execution_count": null,
   "metadata": {},
   "outputs": [],
   "source": [
    "tx = g.begin()\n",
    "matcher = NodeMatcher(g)"
   ]
  },
  {
   "cell_type": "code",
   "execution_count": 15,
   "metadata": {},
   "outputs": [
    {
     "data": {
      "text/plain": [
       "(_20:Dolphin {name: 'George', weight: 50})"
      ]
     },
     "execution_count": 15,
     "metadata": {},
     "output_type": "execute_result"
    }
   ],
   "source": [
    "matcher.match('Dolphin', weight=50).first() # returns a node"
   ]
  },
  {
   "cell_type": "code",
   "execution_count": 17,
   "metadata": {},
   "outputs": [],
   "source": [
    "# assign match to varname for edge creation\n",
    "george = matcher.match('Dolphin', name='George').first()\n",
    "jake = matcher.match('Whale', name='Jake').first()\n",
    "rel = Relationship(george, 'RIVALS', jake, competitions=5)\n",
    "tx.create(rel)\n",
    "tx.commit()\n"
   ]
  },
  {
   "cell_type": "code",
   "execution_count": null,
   "metadata": {},
   "outputs": [],
   "source": [
    "tx = g.begin()\n",
    "ematcher = RelationshipMatcher(g)\n",
    "george = matcher.match('Dolphin', name='George').first()\n",
    "jake = matcher.match('Whale', name='Jake').first()\n",
    "m = ematcher.match(nodes=(george, jake)).first()"
   ]
  },
  {
   "cell_type": "code",
   "execution_count": 64,
   "metadata": {},
   "outputs": [
    {
     "data": {
      "text/plain": [
       "(George)-[:RIVALS {competitions: 200}]->(Jake)"
      ]
     },
     "execution_count": 64,
     "metadata": {},
     "output_type": "execute_result"
    }
   ],
   "source": [
    "tx = g.begin()\n",
    "george = matcher.match('Dolphin', name='George').first()\n",
    "jake = matcher.match('Whale', name='Jake').first()\n",
    "m = ematcher.match(nodes=(george, jake)).first()\n",
    "m"
   ]
  },
  {
   "cell_type": "code",
   "execution_count": 66,
   "metadata": {},
   "outputs": [
    {
     "data": {
      "text/plain": [
       "(George)-[:RIVALS {competitions: 500}]->(Jake)"
      ]
     },
     "execution_count": 66,
     "metadata": {},
     "output_type": "execute_result"
    }
   ],
   "source": [
    "m['competitions'] = 500\n",
    "m"
   ]
  },
  {
   "cell_type": "code",
   "execution_count": null,
   "metadata": {},
   "outputs": [],
   "source": [
    "tx."
   ]
  },
  {
   "cell_type": "code",
   "execution_count": 63,
   "metadata": {},
   "outputs": [],
   "source": [
    "tx.merge\n",
    "tx.commit()"
   ]
  },
  {
   "cell_type": "code",
   "execution_count": null,
   "metadata": {},
   "outputs": [],
   "source": []
  },
  {
   "cell_type": "code",
   "execution_count": 42,
   "metadata": {},
   "outputs": [
    {
     "data": {
      "text/plain": [
       "(George)-[:RIVALS {competitions: 5}]->(Jake)"
      ]
     },
     "execution_count": 42,
     "metadata": {},
     "output_type": "execute_result"
    }
   ],
   "source": [
    "m = ematcher.match(nodes=(george, jake)).first()\n",
    "m"
   ]
  },
  {
   "cell_type": "markdown",
   "metadata": {},
   "source": [
    "## graph creation in Py2Neo"
   ]
  },
  {
   "cell_type": "code",
   "execution_count": 22,
   "metadata": {},
   "outputs": [
    {
     "data": {
      "text/plain": [
       "'Agricultural Services/Products'"
      ]
     },
     "execution_count": 22,
     "metadata": {},
     "output_type": "execute_result"
    }
   ],
   "source": [
    "industries[2]"
   ]
  },
  {
   "cell_type": "code",
   "execution_count": null,
   "metadata": {},
   "outputs": [],
   "source": []
  },
  {
   "cell_type": "code",
   "execution_count": null,
   "metadata": {},
   "outputs": [],
   "source": []
  },
  {
   "cell_type": "code",
   "execution_count": null,
   "metadata": {},
   "outputs": [],
   "source": [
    "def add_industries(g, industries): # populates graph with Industry nodes\n",
    "    tx = g.begin()\n",
    "    for indu in industries:\n",
    "        n = Node('Industry', name=indu, weight=0)\n",
    "        tx.create(n)\n",
    "    tx.commit() # push industry nodes to local DB\n",
    "    return g\n",
    "\n",
    "def populate_graph(g, mems, industries): # add member nodes + edges\n",
    "    g = add_industries(g, industries) # add industry nodes\n",
    "    nmatch = NodeMatcher(g)\n",
    "    ematch = RelationshipMatcher(g)\n",
    "    edges = []\n",
    "    ec=0\n",
    "    \n",
    "    for chamber in mems:\n",
    "        for c, member in enumerate(chamber):\n",
    "            if len(member)!=0:\n",
    "                try:\n",
    "                    mem_node = G.add_node(member['name'], size=0)\n",
    "                    total_mem_size = 0\n",
    "                    print(c)\n",
    "                    for k, v in member.items():\n",
    "                        if k!='party' and k!='name' and k!='id': # industry dict\n",
    "                            G.add_edge(member['name'], v['name'], weight=v['total'])\n",
    "#                             G[member['name']][v['name']]['party'] = member['party']\n",
    "                            total_mem_size += int(v['total']) # update member's total bribery $\n",
    "                            G.node[v['name']]['size'] += int(v['total']) # update industry's total bribery $\n",
    "                    G.node[member['name']]['size'] = total_mem_size # reassign mem_node size\n",
    "                    G.node[member['name']]['party'] = member['party']\n",
    "                    G.node[member['name']]['name'] = member['name'] # give a name property\n",
    "                except:\n",
    "                    ec+=1 # count errors to ensure data integrity\n",
    "    print(f'{ec} errors')\n",
    "    return G"
   ]
  },
  {
   "cell_type": "code",
   "execution_count": 28,
   "metadata": {
    "scrolled": true
   },
   "outputs": [
    {
     "data": {
      "text/plain": [
       "{'name': 'Ralph Abraham (R)',\n",
       " 'party': 'R',\n",
       " 'id': 'N00036633',\n",
       " 'Health Professionals': {'code': 'H01',\n",
       "  'name': 'Health Professionals',\n",
       "  'indiv': '32400',\n",
       "  'pac': '55500',\n",
       "  'total': '87900'},\n",
       " 'Crop Production & Basic Processing': {'code': 'A01',\n",
       "  'name': 'Crop Production & Basic Processing',\n",
       "  'indiv': '30100',\n",
       "  'pac': '52250',\n",
       "  'total': '82350'},\n",
       " 'Agricultural Services/Products': {'code': 'A07',\n",
       "  'name': 'Agricultural Services/Products',\n",
       "  'indiv': '750',\n",
       "  'pac': '37500',\n",
       "  'total': '38250'},\n",
       " 'General Contractors': {'code': 'C01',\n",
       "  'name': 'General Contractors',\n",
       "  'indiv': '29100',\n",
       "  'pac': '4500',\n",
       "  'total': '33600'},\n",
       " 'Air Transport': {'code': 'M01',\n",
       "  'name': 'Air Transport',\n",
       "  'indiv': '0',\n",
       "  'pac': '30500',\n",
       "  'total': '30500'},\n",
       " 'Leadership PACs': {'code': 'Q03',\n",
       "  'name': 'Leadership PACs',\n",
       "  'indiv': '0',\n",
       "  'pac': '29750',\n",
       "  'total': '29750'},\n",
       " 'Defense Aerospace': {'code': 'D01',\n",
       "  'name': 'Defense Aerospace',\n",
       "  'indiv': '0',\n",
       "  'pac': '29000',\n",
       "  'total': '29000'},\n",
       " 'Health Services/HMOs': {'code': 'H03',\n",
       "  'name': 'Health Services/HMOs',\n",
       "  'indiv': '11900',\n",
       "  'pac': '13500',\n",
       "  'total': '25400'},\n",
       " 'Oil & Gas': {'code': 'E01',\n",
       "  'name': 'Oil & Gas',\n",
       "  'indiv': '13800',\n",
       "  'pac': '11000',\n",
       "  'total': '24800'},\n",
       " 'Hospitals/Nursing Homes': {'code': 'H02',\n",
       "  'name': 'Hospitals/Nursing Homes',\n",
       "  'indiv': '21050',\n",
       "  'pac': '2700',\n",
       "  'total': '23750'}}"
      ]
     },
     "execution_count": 28,
     "metadata": {},
     "output_type": "execute_result"
    }
   ],
   "source": [
    "mems[0][0]"
   ]
  },
  {
   "cell_type": "code",
   "execution_count": null,
   "metadata": {},
   "outputs": [],
   "source": [
    "def graphify(g, mems, industries):\n",
    "    ''' args: p2neo graph, congressmembers_list_(dicts), industries_list(strings)\n",
    "    returns: p2neo graph obj.  also commits changes to local neo4j database'''\n",
    "    \n",
    "    g = add_industries(g, industries) # add industry nodes\n",
    "    matcher = NodeMatcher(g)\n",
    "    \n",
    "    tx = g.begin() # create transaction\n",
    "    for indu in industries:\n",
    "        n = Node('Industry', ind=indu, weight=0)\n",
    "        tx.create(n) # create node in graph\n",
    "    tx.commit() # push industry nodes\n",
    "    for chamber in mems:\n",
    "        for c, mem in enumerate(chamber): # \n",
    "            for key, val in mem.items():\n",
    "                if key == 'name': # identifying properties\n",
    "                    mem_name = val\n",
    "                if key == 'party':\n",
    "                    mem_party = val\n",
    "                if key == 'id':\n",
    "                    mem_id = val\n",
    "                else: # remaining keys are industry donations\n",
    "                    ind_name = val['name'] # to connect to existing Industry node\n",
    "                    donation = val['total']\n",
    "                    \n",
    "                    \n",
    "                    \n",
    "                    \n",
    "                    \n",
    "                    \n",
    "        "
   ]
  },
  {
   "cell_type": "code",
   "execution_count": null,
   "metadata": {},
   "outputs": [],
   "source": []
  },
  {
   "cell_type": "code",
   "execution_count": null,
   "metadata": {},
   "outputs": [],
   "source": []
  },
  {
   "cell_type": "code",
   "execution_count": 33,
   "metadata": {},
   "outputs": [
    {
     "name": "stdout",
     "output_type": "stream",
     "text": [
      "Help on method create in module py2neo.database:\n",
      "\n",
      "create(subgraph) method of py2neo.database.Transaction instance\n",
      "    Create remote nodes and relationships that correspond to those in a\n",
      "    local subgraph. Any entities in *subgraph* that are already bound to\n",
      "    remote entities will remain unchanged, those which are not will become\n",
      "    bound to their newly-created counterparts.\n",
      "    \n",
      "    For example::\n",
      "    \n",
      "        >>> from py2neo import Graph, Node, Relationship\n",
      "        >>> g = Graph()\n",
      "        >>> tx = g.begin()\n",
      "        >>> a = Node(\"Person\", name=\"Alice\")\n",
      "        >>> tx.create(a)\n",
      "        >>> b = Node(\"Person\", name=\"Bob\")\n",
      "        >>> ab = Relationship(a, \"KNOWS\", b)\n",
      "        >>> tx.create(ab)\n",
      "        >>> tx.commit()\n",
      "        >>> g.exists(ab)\n",
      "        True\n",
      "    \n",
      "    :param subgraph: a :class:`.Node`, :class:`.Relationship` or other\n",
      "                creatable object\n",
      "\n"
     ]
    }
   ],
   "source": [
    "help(tx.create)"
   ]
  },
  {
   "cell_type": "code",
   "execution_count": null,
   "metadata": {},
   "outputs": [],
   "source": []
  },
  {
   "cell_type": "code",
   "execution_count": null,
   "metadata": {},
   "outputs": [],
   "source": []
  },
  {
   "cell_type": "code",
   "execution_count": null,
   "metadata": {},
   "outputs": [],
   "source": []
  },
  {
   "cell_type": "code",
   "execution_count": null,
   "metadata": {},
   "outputs": [],
   "source": []
  },
  {
   "cell_type": "code",
   "execution_count": null,
   "metadata": {},
   "outputs": [],
   "source": []
  },
  {
   "cell_type": "code",
   "execution_count": null,
   "metadata": {},
   "outputs": [],
   "source": []
  },
  {
   "cell_type": "code",
   "execution_count": null,
   "metadata": {},
   "outputs": [],
   "source": []
  },
  {
   "cell_type": "code",
   "execution_count": null,
   "metadata": {},
   "outputs": [],
   "source": []
  },
  {
   "cell_type": "code",
   "execution_count": null,
   "metadata": {},
   "outputs": [],
   "source": []
  },
  {
   "cell_type": "code",
   "execution_count": null,
   "metadata": {},
   "outputs": [],
   "source": []
  },
  {
   "cell_type": "code",
   "execution_count": null,
   "metadata": {},
   "outputs": [],
   "source": []
  },
  {
   "cell_type": "code",
   "execution_count": null,
   "metadata": {},
   "outputs": [],
   "source": []
  }
 ],
 "metadata": {
  "kernelspec": {
   "display_name": "Python 3",
   "language": "python",
   "name": "python3"
  },
  "language_info": {
   "codemirror_mode": {
    "name": "ipython",
    "version": 3
   },
   "file_extension": ".py",
   "mimetype": "text/x-python",
   "name": "python",
   "nbconvert_exporter": "python",
   "pygments_lexer": "ipython3",
   "version": "3.7.4"
  },
  "toc": {
   "base_numbering": 1,
   "nav_menu": {},
   "number_sections": true,
   "sideBar": true,
   "skip_h1_title": false,
   "title_cell": "Table of Contents",
   "title_sidebar": "Contents",
   "toc_cell": true,
   "toc_position": {},
   "toc_section_display": true,
   "toc_window_display": true
  }
 },
 "nbformat": 4,
 "nbformat_minor": 2
}
